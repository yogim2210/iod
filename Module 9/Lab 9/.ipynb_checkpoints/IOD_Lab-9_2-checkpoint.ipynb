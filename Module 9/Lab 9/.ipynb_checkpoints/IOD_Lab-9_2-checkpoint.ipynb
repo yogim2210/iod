{
 "cells": [
  {
   "cell_type": "markdown",
   "metadata": {
    "id": "Fix0Ry0j1qn5"
   },
   "source": [
    "<div>\n",
    "<img src=https://www.institutedata.com/wp-content/uploads/2019/10/iod_h_tp_primary_c.svg width=\"300\">\n",
    "</div>"
   ]
  },
  {
   "cell_type": "markdown",
   "metadata": {
    "id": "U7WTDbVT1qn9"
   },
   "source": [
    "# Lab 9.2: CNN with Keras\n",
    "INSTRUCTIONS:\n",
    "- Read the guides and hints, then create the necessary analysis and code to find an answer and conclusion for the task below.\n",
    "- A guide you are encouraged to read through is TensorFlow's own tutorial for immage classification, which can be found [here](https://www.tensorflow.org/tutorials/images/cnn)"
   ]
  },
  {
   "cell_type": "markdown",
   "metadata": {
    "id": "EWGurboj1qoA"
   },
   "source": [
    "## CIFAR10 small image classification\n",
    "- [CIFAR10](https://www.cs.toronto.edu/~kriz/cifar.html) dataset of color training images, labeled over 10 categories.\n",
    "\n",
    "It has the classes:\n",
    "- airplane\n",
    "- automobile\n",
    "- bird\n",
    "- cat\n",
    "- deer\n",
    "- dog\n",
    "- frog\n",
    "- horse\n",
    "- ship\n",
    "- truck"
   ]
  },
  {
   "cell_type": "markdown",
   "metadata": {
    "id": "ee2ul0ED1qoD"
   },
   "source": [
    "## Import libraries"
   ]
  },
  {
   "cell_type": "code",
   "execution_count": 1,
   "metadata": {
    "id": "c-pCdtFw1qoF"
   },
   "outputs": [],
   "source": [
    "import os\n",
    "os.environ['KMP_DUPLICATE_LIB_OK'] = 'True'"
   ]
  },
  {
   "cell_type": "code",
   "execution_count": 2,
   "metadata": {},
   "outputs": [],
   "source": [
    "## Import libraries\n",
    "import numpy as np\n",
    "\n",
    "%matplotlib inline\n",
    "import matplotlib.pyplot as plt\n",
    "\n",
    "from sklearn.metrics import confusion_matrix"
   ]
  },
  {
   "cell_type": "code",
   "execution_count": 70,
   "metadata": {
    "id": "TQgN2_6D1qoN"
   },
   "outputs": [],
   "source": [
    "# import tensorflow and kera\n",
    "import tensorflow\n",
    "from tensorflow import keras\n",
    "from keras.datasets import cifar10\n",
    "from keras.layers import Conv2D\n",
    "from keras.layers import Dense\n",
    "from keras.layers import Dropout\n",
    "from keras.layers import Flatten\n",
    "from keras.layers import MaxPool2D\n",
    "from keras.models import Sequential\n",
    "from keras.utils import to_categorical\n",
    "from tensorflow.keras.models import Sequential\n",
    "from tensorflow.keras.layers import Dense\n",
    "from sklearn.model_selection import train_test_split\n",
    "from sklearn.preprocessing import StandardScaler\n",
    "from sklearn.preprocessing import LabelEncoder\n",
    "from tensorflow.keras.utils import to_categorical"
   ]
  },
  {
   "cell_type": "code",
   "execution_count": 4,
   "metadata": {
    "id": "OohPiooS1qoQ"
   },
   "outputs": [],
   "source": [
    "from keras.callbacks import TensorBoard"
   ]
  },
  {
   "cell_type": "markdown",
   "metadata": {
    "id": "BAWeroBa1qoS"
   },
   "source": [
    "## Load data\n",
    "Use the **Keras**' load method."
   ]
  },
  {
   "cell_type": "code",
   "execution_count": 43,
   "metadata": {
    "id": "F-Swb4TS1qoT"
   },
   "outputs": [],
   "source": [
    "(X_train_all, t_train_all), (X_test_all, t_test_all) = cifar10.load_data()"
   ]
  },
  {
   "cell_type": "code",
   "execution_count": 44,
   "metadata": {},
   "outputs": [],
   "source": [
    "# take a small sample of data\n",
    "size = 50000\n",
    "X_train = X_train_all[:size,:,:,:]\n",
    "t_train = t_train_all[0:size,:]\n",
    "X_test = X_test_all[0:size,:,:,:]\n",
    "t_test = t_test_all[0:size,:]"
   ]
  },
  {
   "cell_type": "code",
   "execution_count": 45,
   "metadata": {},
   "outputs": [],
   "source": [
    "classes = (\n",
    "    'plane',\n",
    "    'car',\n",
    "    'bird',\n",
    "    'cat',\n",
    "    'deer',\n",
    "    'dog',\n",
    "    'frog',\n",
    "    'horse',\n",
    "    'ship',\n",
    "    'truck')"
   ]
  },
  {
   "cell_type": "markdown",
   "metadata": {
    "id": "bLdYg4g41qoX"
   },
   "source": [
    "## Check some data"
   ]
  },
  {
   "cell_type": "code",
   "execution_count": 46,
   "metadata": {
    "id": "Swf_e6CR1qoY"
   },
   "outputs": [],
   "source": [
    "def check_one(data, label, id = None, actual = None, compare = False):\n",
    "    # check one\n",
    "    if id is None:\n",
    "        id = np.random.randint(data.shape[0])\n",
    "    im = data[id]\n",
    "    plt.figure(figsize = (3, 3))\n",
    "    plt.imshow(im)\n",
    "    \n",
    "    l_id = label[id]\n",
    "    if (compare) and (actual is not None) and (l_id != np.argmax(actual[id])):\n",
    "        a_id = np.argmax(actual[id])\n",
    "        plt.title('Class %d (%s) [\\u2260 %d-%s]' % (l_id, classes[l_id], a_id, classes[a_id]))\n",
    "    else:\n",
    "        plt.title('Class %d (%s)' % (l_id, classes[l_id]))\n",
    "    plt.xticks([])\n",
    "    plt.yticks([])\n",
    "    plt.show()"
   ]
  },
  {
   "cell_type": "code",
   "execution_count": 47,
   "metadata": {},
   "outputs": [],
   "source": [
    "def check_ten(data, label, actual = None, compare = False):\n",
    "    # check ten\n",
    "    fig, ax = plt.subplots(2, 5, figsize = (11, 5))\n",
    "    fig.subplots_adjust(left = 0.02, right = 0.98, top = 0.8, wspace = 0.2, hspace = 0.2)\n",
    "    fig.suptitle('Check Data', fontsize = 12, fontweight = 'bold')\n",
    "\n",
    "    plt.rcParams.update({'font.size': 10})\n",
    "\n",
    "    ids = np.random.randint(data.shape[0], size = 10)\n",
    "    r = 0\n",
    "    c = 0\n",
    "    for id in ids:\n",
    "        im = data[id]\n",
    "\n",
    "        # original image\n",
    "        ax[r, c].imshow(im)\n",
    "        l_id = label[id]\n",
    "        if (compare) and (actual is not None) and (l_id != np.argmax(actual[id])):\n",
    "            a_id = np.argmax(actual[id])\n",
    "            ax[r, c].set_title('Class %d (%s) [\\u2260 %d-%s]' % (l_id, classes[l_id], a_id, classes[a_id]))\n",
    "        else:\n",
    "            ax[r, c].set_title('Class %d (%s)' % (l_id, classes[l_id]))\n",
    "        ax[r, c].set_xticks([])\n",
    "        ax[r, c].set_yticks([])\n",
    "        c += 1\n",
    "        if c > 4:\n",
    "            r += 1\n",
    "            c = 0\n",
    "\n",
    "    plt.show()"
   ]
  },
  {
   "cell_type": "code",
   "execution_count": 48,
   "metadata": {},
   "outputs": [
    {
     "data": {
      "image/png": "[encoded data removed]",
      "text/plain": [
       "<Figure size 300x300 with 1 Axes>"
      ]
     },
     "metadata": {},
     "output_type": "display_data"
    }
   ],
   "source": [
    "check_one(X_train, t_train.flatten())"
   ]
  },
  {
   "cell_type": "code",
   "execution_count": 49,
   "metadata": {},
   "outputs": [
    {
     "data": {
      "image/png": "[encoded data removed]",
      "text/plain": [
       "<Figure size 1100x500 with 10 Axes>"
      ]
     },
     "metadata": {},
     "output_type": "display_data"
    }
   ],
   "source": [
    "check_ten(X_train, t_train.flatten())"
   ]
  },
  {
   "cell_type": "markdown",
   "metadata": {
    "id": "N-Jhbjf11qob"
   },
   "source": [
    "## Prepare data"
   ]
  },
  {
   "cell_type": "code",
   "execution_count": 50,
   "metadata": {
    "id": "L9kdVXHd1qoc"
   },
   "outputs": [],
   "source": [
    "# Prepare input data\n",
    "_, img_rows, img_cols, img_channels = X_train.shape\n",
    "num_classes = len(set(t_train.flatten()))\n",
    "\n",
    "# Convert the target to categorical\n",
    "y_train = to_categorical(\n",
    "    t_train,\n",
    "    num_classes = num_classes,\n",
    "    dtype = 'uint8')\n",
    "y_test = to_categorical(\n",
    "    t_test,\n",
    "    num_classes = num_classes,\n",
    "    dtype = 'uint8')"
   ]
  },
  {
   "cell_type": "code",
   "execution_count": 51,
   "metadata": {},
   "outputs": [
    {
     "data": {
      "text/plain": [
       "array([6], dtype=uint8)"
      ]
     },
     "execution_count": 51,
     "metadata": {},
     "output_type": "execute_result"
    }
   ],
   "source": [
    "t_train[0]"
   ]
  },
  {
   "cell_type": "code",
   "execution_count": 52,
   "metadata": {},
   "outputs": [
    {
     "data": {
      "text/plain": [
       "array([0, 0, 0, 0, 0, 0, 1, 0, 0, 0], dtype=uint8)"
      ]
     },
     "execution_count": 52,
     "metadata": {},
     "output_type": "execute_result"
    }
   ],
   "source": [
    "y_train[0]"
   ]
  },
  {
   "cell_type": "markdown",
   "metadata": {
    "id": "m2GU1EyK1qoe"
   },
   "source": [
    "## Create the model's architecture\n",
    "- **NOTE ALERT**: Take into account the volume of data and parameters. Time and processing escalate quite fast.\n",
    "- **NOTE ALERT**: It is likely this data will require more complex models."
   ]
  },
  {
   "cell_type": "code",
   "execution_count": 53,
   "metadata": {
    "id": "82J0lM7d1qoe"
   },
   "outputs": [],
   "source": [
    "model = Sequential()"
   ]
  },
  {
   "cell_type": "code",
   "execution_count": 54,
   "metadata": {},
   "outputs": [],
   "source": [
    "model.add(Conv2D(48, kernel_size = 3, activation = 'relu', padding = 'same', input_shape = (32, 32, 3)))\n",
    "model.add(Conv2D(48, kernel_size = 3, activation = 'relu'))\n",
    "model.add(MaxPool2D(pool_size = (2, 2)))\n",
    "model.add(Dropout(0.25))\n",
    "model.add(Conv2D(96, kernel_size = 3, activation = 'relu', padding = 'same'))\n",
    "model.add(Conv2D(96, kernel_size = 3, activation = 'relu'))\n",
    "model.add(MaxPool2D(pool_size = (2, 2)))\n",
    "model.add(Dropout(0.25))\n",
    "model.add(Conv2D(192, kernel_size = 3, activation = 'relu', padding = 'same'))\n",
    "model.add(Conv2D(192, kernel_size = 3, activation = 'relu'))\n",
    "model.add(MaxPool2D(pool_size = (2, 2)))\n",
    "model.add(Dropout(0.25))\n",
    "model.add(Flatten())\n",
    "model.add(Dense(512, activation = 'relu'))\n",
    "model.add(Dropout(0.5))\n",
    "model.add(Dense(256, activation = 'relu'))\n",
    "model.add(Dropout(0.5))\n",
    "model.add(Dense(num_classes, activation = 'softmax'))"
   ]
  },
  {
   "cell_type": "code",
   "execution_count": 55,
   "metadata": {},
   "outputs": [
    {
     "name": "stdout",
     "output_type": "stream",
     "text": [
      "Model: \"sequential_2\"\n",
      "_________________________________________________________________\n",
      " Layer (type)                Output Shape              Param #   \n",
      "=================================================================\n",
      " conv2d_12 (Conv2D)          (None, 32, 32, 48)        1344      \n",
      "                                                                 \n",
      " conv2d_13 (Conv2D)          (None, 30, 30, 48)        20784     \n",
      "                                                                 \n",
      " max_pooling2d_6 (MaxPooling  (None, 15, 15, 48)       0         \n",
      " 2D)                                                             \n",
      "                                                                 \n",
      " dropout_10 (Dropout)        (None, 15, 15, 48)        0         \n",
      "                                                                 \n",
      " conv2d_14 (Conv2D)          (None, 15, 15, 96)        41568     \n",
      "                                                                 \n",
      " conv2d_15 (Conv2D)          (None, 13, 13, 96)        83040     \n",
      "                                                                 \n",
      " max_pooling2d_7 (MaxPooling  (None, 6, 6, 96)         0         \n",
      " 2D)                                                             \n",
      "                                                                 \n",
      " dropout_11 (Dropout)        (None, 6, 6, 96)          0         \n",
      "                                                                 \n",
      " conv2d_16 (Conv2D)          (None, 6, 6, 192)         166080    \n",
      "                                                                 \n",
      " conv2d_17 (Conv2D)          (None, 4, 4, 192)         331968    \n",
      "                                                                 \n",
      " max_pooling2d_8 (MaxPooling  (None, 2, 2, 192)        0         \n",
      " 2D)                                                             \n",
      "                                                                 \n",
      " dropout_12 (Dropout)        (None, 2, 2, 192)         0         \n",
      "                                                                 \n",
      " flatten_2 (Flatten)         (None, 768)               0         \n",
      "                                                                 \n",
      " dense_6 (Dense)             (None, 512)               393728    \n",
      "                                                                 \n",
      " dropout_13 (Dropout)        (None, 512)               0         \n",
      "                                                                 \n",
      " dense_7 (Dense)             (None, 256)               131328    \n",
      "                                                                 \n",
      " dropout_14 (Dropout)        (None, 256)               0         \n",
      "                                                                 \n",
      " dense_8 (Dense)             (None, 10)                2570      \n",
      "                                                                 \n",
      "=================================================================\n",
      "Total params: 1,172,410\n",
      "Trainable params: 1,172,410\n",
      "Non-trainable params: 0\n",
      "_________________________________________________________________\n",
      "None\n"
     ]
    }
   ],
   "source": [
    "print(model.summary())"
   ]
  },
  {
   "cell_type": "markdown",
   "metadata": {
    "id": "Dyq0xqGd1qoh"
   },
   "source": [
    "## Compile the model"
   ]
  },
  {
   "cell_type": "code",
   "execution_count": 56,
   "metadata": {},
   "outputs": [],
   "source": [
    "model.compile(optimizer = 'adam', \n",
    "              loss = 'categorical_crossentropy', \n",
    "              metrics = ['accuracy'])"
   ]
  },
  {
   "cell_type": "markdown",
   "metadata": {
    "id": "27wG0lYH1qoj"
   },
   "source": [
    "## Fit the training data"
   ]
  },
  {
   "cell_type": "code",
   "execution_count": 34,
   "metadata": {
    "id": "Z8gUYh3n1qoj"
   },
   "outputs": [],
   "source": [
    "tensorboard = TensorBoard(log_dir = 'logs')"
   ]
  },
  {
   "cell_type": "code",
   "execution_count": 21,
   "metadata": {
    "collapsed": true,
    "id": "0ux6Ss1h1qok",
    "jupyter": {
     "outputs_hidden": true
    },
    "tags": []
   },
   "outputs": [
    {
     "name": "stdout",
     "output_type": "stream",
     "text": [
      "Epoch 1/100\n",
      "400/400 [==============================] - 241s 579ms/step - loss: 2.1662 - accuracy: 0.2050 - val_loss: 1.7891 - val_accuracy: 0.3155\n",
      "Epoch 2/100\n",
      "400/400 [==============================] - 230s 575ms/step - loss: 1.6518 - accuracy: 0.3835 - val_loss: 1.4001 - val_accuracy: 0.4829\n",
      "Epoch 3/100\n",
      "400/400 [==============================] - 451s 1s/step - loss: 1.4527 - accuracy: 0.4724 - val_loss: 1.2838 - val_accuracy: 0.5467\n",
      "Epoch 4/100\n",
      "400/400 [==============================] - 451s 1s/step - loss: 1.2974 - accuracy: 0.5370 - val_loss: 1.1112 - val_accuracy: 0.6119\n",
      "Epoch 5/100\n",
      "400/400 [==============================] - 444s 1s/step - loss: 1.2076 - accuracy: 0.5775 - val_loss: 1.0233 - val_accuracy: 0.6466\n",
      "Epoch 6/100\n",
      "400/400 [==============================] - 445s 1s/step - loss: 1.1182 - accuracy: 0.6136 - val_loss: 0.9491 - val_accuracy: 0.6712\n",
      "Epoch 7/100\n",
      "400/400 [==============================] - 444s 1s/step - loss: 1.0483 - accuracy: 0.6377 - val_loss: 1.0036 - val_accuracy: 0.6483\n",
      "Epoch 8/100\n",
      "400/400 [==============================] - 8085s 20s/step - loss: 1.0024 - accuracy: 0.6561 - val_loss: 0.8688 - val_accuracy: 0.7034\n",
      "Epoch 9/100\n",
      "400/400 [==============================] - 199s 497ms/step - loss: 0.9593 - accuracy: 0.6744 - val_loss: 0.8790 - val_accuracy: 0.6936\n",
      "Epoch 10/100\n",
      "400/400 [==============================] - 200s 500ms/step - loss: 0.9123 - accuracy: 0.6892 - val_loss: 0.8147 - val_accuracy: 0.7230\n",
      "Epoch 11/100\n",
      "400/400 [==============================] - 213s 532ms/step - loss: 0.8985 - accuracy: 0.6985 - val_loss: 0.7979 - val_accuracy: 0.7303\n",
      "Epoch 12/100\n",
      "400/400 [==============================] - 211s 527ms/step - loss: 0.8743 - accuracy: 0.7048 - val_loss: 0.7625 - val_accuracy: 0.7463\n",
      "Epoch 13/100\n",
      "400/400 [==============================] - 208s 519ms/step - loss: 0.8576 - accuracy: 0.7119 - val_loss: 0.7709 - val_accuracy: 0.7397\n",
      "Epoch 14/100\n",
      "400/400 [==============================] - 205s 513ms/step - loss: 0.8472 - accuracy: 0.7181 - val_loss: 0.7967 - val_accuracy: 0.7221\n",
      "Epoch 15/100\n",
      "400/400 [==============================] - 202s 506ms/step - loss: 0.8256 - accuracy: 0.7239 - val_loss: 0.7661 - val_accuracy: 0.7387\n",
      "Epoch 16/100\n",
      "400/400 [==============================] - 210s 525ms/step - loss: 0.8124 - accuracy: 0.7263 - val_loss: 0.7536 - val_accuracy: 0.7474\n",
      "Epoch 17/100\n",
      "400/400 [==============================] - 213s 533ms/step - loss: 0.8004 - accuracy: 0.7334 - val_loss: 0.7499 - val_accuracy: 0.7419\n",
      "Epoch 18/100\n",
      "400/400 [==============================] - 208s 521ms/step - loss: 0.7966 - accuracy: 0.7345 - val_loss: 0.7227 - val_accuracy: 0.7585\n",
      "Epoch 19/100\n",
      "400/400 [==============================] - 207s 518ms/step - loss: 0.7799 - accuracy: 0.7437 - val_loss: 0.7326 - val_accuracy: 0.7570\n",
      "Epoch 20/100\n",
      "400/400 [==============================] - 209s 522ms/step - loss: 0.7715 - accuracy: 0.7462 - val_loss: 0.7050 - val_accuracy: 0.7645\n",
      "Epoch 21/100\n",
      "400/400 [==============================] - 207s 518ms/step - loss: 0.7770 - accuracy: 0.7430 - val_loss: 0.7229 - val_accuracy: 0.7597\n",
      "Epoch 22/100\n",
      "400/400 [==============================] - 203s 508ms/step - loss: 0.7478 - accuracy: 0.7501 - val_loss: 0.8066 - val_accuracy: 0.7368\n",
      "Epoch 23/100\n",
      "400/400 [==============================] - 209s 523ms/step - loss: 0.7527 - accuracy: 0.7519 - val_loss: 0.7176 - val_accuracy: 0.7659\n",
      "Epoch 24/100\n",
      "400/400 [==============================] - 206s 515ms/step - loss: 0.7395 - accuracy: 0.7577 - val_loss: 0.6770 - val_accuracy: 0.7760\n",
      "Epoch 25/100\n",
      "400/400 [==============================] - 208s 521ms/step - loss: 0.7477 - accuracy: 0.7524 - val_loss: 0.7643 - val_accuracy: 0.7437\n",
      "Epoch 26/100\n",
      "400/400 [==============================] - 214s 536ms/step - loss: 0.7554 - accuracy: 0.7534 - val_loss: 0.7388 - val_accuracy: 0.7555\n",
      "Epoch 27/100\n",
      "400/400 [==============================] - 252s 630ms/step - loss: 0.7366 - accuracy: 0.7595 - val_loss: 0.7114 - val_accuracy: 0.7620\n",
      "Epoch 28/100\n",
      "400/400 [==============================] - 239s 597ms/step - loss: 0.7398 - accuracy: 0.7569 - val_loss: 0.6886 - val_accuracy: 0.7731\n",
      "Epoch 29/100\n",
      "400/400 [==============================] - 232s 581ms/step - loss: 0.7321 - accuracy: 0.7588 - val_loss: 0.7660 - val_accuracy: 0.7475\n",
      "Epoch 30/100\n",
      "400/400 [==============================] - 212s 531ms/step - loss: 0.7267 - accuracy: 0.7624 - val_loss: 0.7007 - val_accuracy: 0.7725\n",
      "Epoch 31/100\n",
      "400/400 [==============================] - 195s 489ms/step - loss: 0.7287 - accuracy: 0.7610 - val_loss: 0.7257 - val_accuracy: 0.7647\n",
      "Epoch 32/100\n",
      "400/400 [==============================] - 194s 485ms/step - loss: 0.7290 - accuracy: 0.7653 - val_loss: 0.7247 - val_accuracy: 0.7606\n",
      "Epoch 33/100\n",
      "400/400 [==============================] - 193s 482ms/step - loss: 0.7202 - accuracy: 0.7660 - val_loss: 0.7393 - val_accuracy: 0.7516\n",
      "Epoch 34/100\n",
      "400/400 [==============================] - 191s 478ms/step - loss: 0.7025 - accuracy: 0.7707 - val_loss: 0.7259 - val_accuracy: 0.7599\n",
      "Epoch 35/100\n",
      "400/400 [==============================] - 193s 482ms/step - loss: 0.7101 - accuracy: 0.7677 - val_loss: 0.6915 - val_accuracy: 0.7731\n",
      "Epoch 36/100\n",
      "400/400 [==============================] - 192s 481ms/step - loss: 0.7146 - accuracy: 0.7700 - val_loss: 0.7090 - val_accuracy: 0.7794\n",
      "Epoch 37/100\n",
      "400/400 [==============================] - 192s 480ms/step - loss: 0.7075 - accuracy: 0.7748 - val_loss: 0.7147 - val_accuracy: 0.7608\n",
      "Epoch 38/100\n",
      "400/400 [==============================] - 190s 475ms/step - loss: 0.7170 - accuracy: 0.7690 - val_loss: 0.7122 - val_accuracy: 0.7660\n",
      "Epoch 39/100\n",
      "400/400 [==============================] - 191s 478ms/step - loss: 0.7055 - accuracy: 0.7729 - val_loss: 0.7011 - val_accuracy: 0.7727\n",
      "Epoch 40/100\n",
      "400/400 [==============================] - 194s 485ms/step - loss: 0.6904 - accuracy: 0.7748 - val_loss: 0.6858 - val_accuracy: 0.7797\n",
      "Epoch 41/100\n",
      "400/400 [==============================] - 193s 483ms/step - loss: 0.7016 - accuracy: 0.7748 - val_loss: 0.7368 - val_accuracy: 0.7585\n",
      "Epoch 42/100\n",
      "400/400 [==============================] - 193s 482ms/step - loss: 0.6970 - accuracy: 0.7740 - val_loss: 0.7121 - val_accuracy: 0.7748\n",
      "Epoch 43/100\n",
      "400/400 [==============================] - 192s 480ms/step - loss: 0.7103 - accuracy: 0.7726 - val_loss: 0.7198 - val_accuracy: 0.7659\n",
      "Epoch 44/100\n",
      "400/400 [==============================] - 191s 478ms/step - loss: 0.7180 - accuracy: 0.7676 - val_loss: 0.7309 - val_accuracy: 0.7631\n",
      "Epoch 45/100\n",
      "400/400 [==============================] - 192s 481ms/step - loss: 0.7044 - accuracy: 0.7769 - val_loss: 0.7248 - val_accuracy: 0.7648\n",
      "Epoch 46/100\n",
      "400/400 [==============================] - 194s 485ms/step - loss: 0.7018 - accuracy: 0.7757 - val_loss: 0.6923 - val_accuracy: 0.7747\n",
      "Epoch 47/100\n",
      "400/400 [==============================] - 192s 481ms/step - loss: 0.7048 - accuracy: 0.7738 - val_loss: 0.7308 - val_accuracy: 0.7612\n",
      "Epoch 48/100\n",
      "400/400 [==============================] - 194s 485ms/step - loss: 0.7260 - accuracy: 0.7681 - val_loss: 0.7329 - val_accuracy: 0.7650\n",
      "Epoch 49/100\n",
      "400/400 [==============================] - 192s 480ms/step - loss: 0.6985 - accuracy: 0.7777 - val_loss: 0.6878 - val_accuracy: 0.7838\n",
      "Epoch 50/100\n",
      "400/400 [==============================] - 192s 480ms/step - loss: 0.6822 - accuracy: 0.7812 - val_loss: 0.7211 - val_accuracy: 0.7683\n",
      "Epoch 51/100\n",
      "400/400 [==============================] - 190s 476ms/step - loss: 0.6932 - accuracy: 0.7805 - val_loss: 0.7168 - val_accuracy: 0.7725\n",
      "Epoch 52/100\n",
      "400/400 [==============================] - 192s 480ms/step - loss: 0.6933 - accuracy: 0.7788 - val_loss: 0.7017 - val_accuracy: 0.7774\n",
      "Epoch 53/100\n",
      "400/400 [==============================] - 191s 479ms/step - loss: 0.6901 - accuracy: 0.7795 - val_loss: 0.7185 - val_accuracy: 0.7678\n",
      "Epoch 54/100\n",
      "400/400 [==============================] - 190s 475ms/step - loss: 0.7192 - accuracy: 0.7712 - val_loss: 0.7179 - val_accuracy: 0.7728\n",
      "Epoch 55/100\n",
      "400/400 [==============================] - 191s 477ms/step - loss: 0.6957 - accuracy: 0.7778 - val_loss: 0.7200 - val_accuracy: 0.7752\n",
      "Epoch 56/100\n",
      "400/400 [==============================] - 191s 477ms/step - loss: 0.6939 - accuracy: 0.7805 - val_loss: 0.7194 - val_accuracy: 0.7724\n",
      "Epoch 57/100\n",
      "400/400 [==============================] - 190s 474ms/step - loss: 0.7007 - accuracy: 0.7760 - val_loss: 0.6980 - val_accuracy: 0.7760\n",
      "Epoch 58/100\n",
      "400/400 [==============================] - 190s 474ms/step - loss: 0.6897 - accuracy: 0.7819 - val_loss: 0.6690 - val_accuracy: 0.7819\n",
      "Epoch 59/100\n",
      "400/400 [==============================] - 189s 473ms/step - loss: 0.6900 - accuracy: 0.7823 - val_loss: 0.6894 - val_accuracy: 0.7787\n",
      "Epoch 60/100\n",
      "400/400 [==============================] - 191s 477ms/step - loss: 0.6921 - accuracy: 0.7822 - val_loss: 0.7845 - val_accuracy: 0.7549\n",
      "Epoch 61/100\n",
      "400/400 [==============================] - 191s 478ms/step - loss: 0.7107 - accuracy: 0.7755 - val_loss: 0.6804 - val_accuracy: 0.7868\n",
      "Epoch 62/100\n",
      "400/400 [==============================] - 193s 483ms/step - loss: 0.6825 - accuracy: 0.7824 - val_loss: 0.6862 - val_accuracy: 0.7878\n",
      "Epoch 63/100\n",
      "400/400 [==============================] - 193s 481ms/step - loss: 0.6938 - accuracy: 0.7814 - val_loss: 0.7294 - val_accuracy: 0.7727\n",
      "Epoch 64/100\n",
      "400/400 [==============================] - 192s 480ms/step - loss: 0.6914 - accuracy: 0.7823 - val_loss: 0.6937 - val_accuracy: 0.7839\n",
      "Epoch 65/100\n",
      "400/400 [==============================] - 190s 476ms/step - loss: 0.6823 - accuracy: 0.7835 - val_loss: 0.7054 - val_accuracy: 0.7786\n",
      "Epoch 66/100\n",
      "400/400 [==============================] - 191s 479ms/step - loss: 0.6859 - accuracy: 0.7847 - val_loss: 0.6930 - val_accuracy: 0.7852\n",
      "Epoch 67/100\n",
      "400/400 [==============================] - 191s 476ms/step - loss: 0.6978 - accuracy: 0.7818 - val_loss: 0.7477 - val_accuracy: 0.7667\n",
      "Epoch 68/100\n",
      "400/400 [==============================] - 190s 476ms/step - loss: 0.6984 - accuracy: 0.7849 - val_loss: 0.7223 - val_accuracy: 0.7712\n",
      "Epoch 69/100\n",
      "400/400 [==============================] - 191s 476ms/step - loss: 0.7135 - accuracy: 0.7792 - val_loss: 0.7208 - val_accuracy: 0.7757\n",
      "Epoch 70/100\n",
      "400/400 [==============================] - 191s 477ms/step - loss: 0.6845 - accuracy: 0.7855 - val_loss: 0.6981 - val_accuracy: 0.7814\n",
      "Epoch 71/100\n",
      "400/400 [==============================] - 191s 478ms/step - loss: 0.6924 - accuracy: 0.7818 - val_loss: 0.6759 - val_accuracy: 0.7870\n",
      "Epoch 72/100\n",
      "400/400 [==============================] - 198s 495ms/step - loss: 0.6977 - accuracy: 0.7803 - val_loss: 0.7169 - val_accuracy: 0.7713\n",
      "Epoch 73/100\n",
      "400/400 [==============================] - 192s 479ms/step - loss: 0.6863 - accuracy: 0.7843 - val_loss: 0.6954 - val_accuracy: 0.7838\n",
      "Epoch 74/100\n",
      "400/400 [==============================] - 191s 478ms/step - loss: 0.6958 - accuracy: 0.7817 - val_loss: 0.7423 - val_accuracy: 0.7748\n",
      "Epoch 75/100\n",
      "400/400 [==============================] - 192s 479ms/step - loss: 0.6836 - accuracy: 0.7865 - val_loss: 0.7317 - val_accuracy: 0.7755\n",
      "Epoch 76/100\n",
      "400/400 [==============================] - 191s 478ms/step - loss: 0.6886 - accuracy: 0.7861 - val_loss: 0.6693 - val_accuracy: 0.7860\n",
      "Epoch 77/100\n",
      "400/400 [==============================] - 193s 482ms/step - loss: 0.7001 - accuracy: 0.7800 - val_loss: 0.7285 - val_accuracy: 0.7731\n",
      "Epoch 78/100\n",
      "400/400 [==============================] - 192s 479ms/step - loss: 0.6849 - accuracy: 0.7868 - val_loss: 0.7048 - val_accuracy: 0.7826\n",
      "Epoch 79/100\n",
      "400/400 [==============================] - 192s 481ms/step - loss: 0.6874 - accuracy: 0.7840 - val_loss: 0.7238 - val_accuracy: 0.7762\n",
      "Epoch 80/100\n",
      "400/400 [==============================] - 192s 479ms/step - loss: 0.6942 - accuracy: 0.7849 - val_loss: 0.7637 - val_accuracy: 0.7645\n",
      "Epoch 81/100\n",
      "400/400 [==============================] - 190s 476ms/step - loss: 0.6830 - accuracy: 0.7865 - val_loss: 0.6792 - val_accuracy: 0.7900\n",
      "Epoch 82/100\n",
      "400/400 [==============================] - 192s 480ms/step - loss: 0.6810 - accuracy: 0.7871 - val_loss: 0.7388 - val_accuracy: 0.7709\n",
      "Epoch 83/100\n",
      "400/400 [==============================] - 193s 484ms/step - loss: 0.7042 - accuracy: 0.7829 - val_loss: 0.7163 - val_accuracy: 0.7763\n",
      "Epoch 84/100\n",
      "400/400 [==============================] - 195s 489ms/step - loss: 0.6982 - accuracy: 0.7851 - val_loss: 0.6838 - val_accuracy: 0.7862\n",
      "Epoch 85/100\n",
      "400/400 [==============================] - 194s 484ms/step - loss: 0.6804 - accuracy: 0.7927 - val_loss: 0.6745 - val_accuracy: 0.7886\n",
      "Epoch 86/100\n",
      "400/400 [==============================] - 192s 479ms/step - loss: 0.6847 - accuracy: 0.7864 - val_loss: 0.7080 - val_accuracy: 0.7812\n",
      "Epoch 87/100\n",
      "400/400 [==============================] - 192s 481ms/step - loss: 0.6924 - accuracy: 0.7850 - val_loss: 0.7480 - val_accuracy: 0.7669\n",
      "Epoch 88/100\n",
      "400/400 [==============================] - 192s 480ms/step - loss: 0.6932 - accuracy: 0.7854 - val_loss: 0.7266 - val_accuracy: 0.7779\n",
      "Epoch 89/100\n",
      "400/400 [==============================] - 193s 483ms/step - loss: 0.6766 - accuracy: 0.7903 - val_loss: 0.7528 - val_accuracy: 0.7673\n",
      "Epoch 90/100\n",
      "400/400 [==============================] - 193s 482ms/step - loss: 0.7011 - accuracy: 0.7807 - val_loss: 0.7180 - val_accuracy: 0.7828\n",
      "Epoch 91/100\n",
      "400/400 [==============================] - 193s 483ms/step - loss: 0.6849 - accuracy: 0.7882 - val_loss: 0.7308 - val_accuracy: 0.7793\n",
      "Epoch 92/100\n",
      "400/400 [==============================] - 192s 481ms/step - loss: 0.6876 - accuracy: 0.7885 - val_loss: 0.7573 - val_accuracy: 0.7762\n",
      "Epoch 93/100\n",
      "400/400 [==============================] - 193s 482ms/step - loss: 0.7051 - accuracy: 0.7847 - val_loss: 0.7317 - val_accuracy: 0.7783\n",
      "Epoch 94/100\n",
      "400/400 [==============================] - 191s 477ms/step - loss: 0.6822 - accuracy: 0.7863 - val_loss: 0.7526 - val_accuracy: 0.7697\n",
      "Epoch 95/100\n",
      "400/400 [==============================] - 191s 477ms/step - loss: 0.7011 - accuracy: 0.7816 - val_loss: 0.7099 - val_accuracy: 0.7829\n",
      "Epoch 96/100\n",
      "400/400 [==============================] - 191s 477ms/step - loss: 0.6922 - accuracy: 0.7893 - val_loss: 0.7134 - val_accuracy: 0.7815\n",
      "Epoch 97/100\n",
      "400/400 [==============================] - 192s 479ms/step - loss: 0.7012 - accuracy: 0.7857 - val_loss: 0.7123 - val_accuracy: 0.7837\n",
      "Epoch 98/100\n",
      "400/400 [==============================] - 193s 482ms/step - loss: 0.7123 - accuracy: 0.7817 - val_loss: 0.7538 - val_accuracy: 0.7640\n",
      "Epoch 99/100\n",
      "400/400 [==============================] - 194s 485ms/step - loss: 0.6835 - accuracy: 0.7904 - val_loss: 0.7090 - val_accuracy: 0.7800\n",
      "Epoch 100/100\n",
      "400/400 [==============================] - 193s 482ms/step - loss: 0.6793 - accuracy: 0.7904 - val_loss: 0.7427 - val_accuracy: 0.7733\n",
      "Training accuracy:0.79 validation accuracy:0.77 \n",
      "Wall time: 8h 1min 40s\n"
     ]
    }
   ],
   "source": [
    "%%time\n",
    "# Fit the model on a training set\n",
    "history = model.fit(\n",
    "    X_train,\n",
    "    y_train,\n",
    "    validation_split = 0.2,\n",
    "    # epochs = 100,\n",
    "    epochs = 100,\n",
    "    # batch_size = 100,\n",
    "    batch_size = 100,\n",
    "    callbacks = [tensorboard],\n",
    "    verbose = 1)\n",
    "print(f'Training accuracy:{history.history[\"accuracy\"][-1]:.2f} validation accuracy:{history.history[\"val_accuracy\"][-1]:.2f} ')"
   ]
  },
  {
   "cell_type": "markdown",
   "metadata": {
    "id": "PCL-erlE1qol"
   },
   "source": [
    "### TensorBoard\n",
    "- TensorBoard is TensorFlow's visualisation toolkit. \n",
    "- If Tensorflow 2 and Jupyter is installed in the same environment, running the cell below will start TensorBoard within the notebook.\n",
    "- More information about how to set up TensorBoard can be found [here](https://www.tensorflow.org/tensorboard/tensorboard_in_notebooks)\n"
   ]
  },
  {
   "cell_type": "code",
   "execution_count": 35,
   "metadata": {
    "id": "_SC1MnqpABBQ"
   },
   "outputs": [
    {
     "name": "stdout",
     "output_type": "stream",
     "text": [
      "The tensorboard extension is already loaded. To reload it, use:\n",
      "  %reload_ext tensorboard\n"
     ]
    },
    {
     "data": {
      "text/plain": [
       "Reusing TensorBoard on port 6006 (pid 11380), started 6 days, 0:16:54 ago. (Use '!kill 11380' to kill it.)"
      ]
     },
     "metadata": {},
     "output_type": "display_data"
    },
    {
     "data": {
      "text/html": [
       "\n",
       "      <iframe id=\"tensorboard-frame-d984f91f1b54e463\" width=\"100%\" height=\"800\" frameborder=\"0\">\n",
       "      </iframe>\n",
       "      <script>\n",
       "        (function() {\n",
       "          const frame = document.getElementById(\"tensorboard-frame-d984f91f1b54e463\");\n",
       "          const url = new URL(\"/\", window.location);\n",
       "          const port = 6006;\n",
       "          if (port) {\n",
       "            url.port = port;\n",
       "          }\n",
       "          frame.src = url;\n",
       "        })();\n",
       "      </script>\n",
       "    "
      ],
      "text/plain": [
       "<IPython.core.display.HTML object>"
      ]
     },
     "metadata": {},
     "output_type": "display_data"
    }
   ],
   "source": [
    "%load_ext tensorboard\n",
    "%tensorboard --logdir logs"
   ]
  },
  {
   "cell_type": "markdown",
   "metadata": {
    "id": "tQ_vBEpk1qom"
   },
   "source": [
    "## Create predictions"
   ]
  },
  {
   "cell_type": "code",
   "execution_count": 66,
   "metadata": {
    "id": "EuVMau111qon"
   },
   "outputs": [
    {
     "name": "stdout",
     "output_type": "stream",
     "text": [
      "313/313 [==============================] - 12s 37ms/step\n",
      "Wall time: 13.2 s\n"
     ]
    }
   ],
   "source": [
    "%%time\n",
    "y_pred_prob = model.predict(X_test)\n",
    "predictions = (y_pred_prob > 0.5).astype(int)"
   ]
  },
  {
   "cell_type": "markdown",
   "metadata": {
    "id": "2lA8OW9e1qop"
   },
   "source": [
    "## Evaluate the model"
   ]
  },
  {
   "cell_type": "code",
   "execution_count": 67,
   "metadata": {
    "id": "CjKr29mZ1qoq"
   },
   "outputs": [
    {
     "name": "stdout",
     "output_type": "stream",
     "text": [
      "1000/1000 [==============================] - 23s 22ms/step - loss: 0.9363 - accuracy: 0.5988\n",
      "\n",
      "Test loss: 0.936282, Test accuracy: 0.598800\n"
     ]
    }
   ],
   "source": [
    "score = model.evaluate(X_test, y_test, batch_size = 10)\n",
    "print('\\nTest loss: %.6f, Test accuracy: %.6f' % tuple(score))"
   ]
  },
  {
   "cell_type": "code",
   "execution_count": 68,
   "metadata": {},
   "outputs": [],
   "source": [
    "def print_cm(cm):\n",
    "    d_size = max(len('%d' % cm.max()), len('%d' % cm.shape[1]))\n",
    "    if min(cm.shape) > 10: # make sparse\n",
    "        print('Sparse Matrix (*=diagonal)')\n",
    "        fmt_c = ', c%%0%dd%%s= %%%dd' % (d_size, d_size)\n",
    "        for i in range(cm.shape[0]):\n",
    "            s = fmt_r % i\n",
    "            for j in range(cm.shape[1]):\n",
    "                if cm[i, j] > 0:\n",
    "                    s += fmt_c % (j, '*' if i == j else ' ', cm[i, j])\n",
    "            print(s)\n",
    "    else: # make dense\n",
    "        c = '%%%dd ' % d_size\n",
    "        s = '%s| ' % (' ' * d_size)\n",
    "        s += ''.join([c % i for i in range(len(cm[0]))])\n",
    "        print(s)\n",
    "        print('-' * len(s))\n",
    "        for i, r in enumerate(cm):\n",
    "            s = '%%%dd| ' % d_size\n",
    "            s = s % i\n",
    "            s += c * len(r)\n",
    "            print(s % tuple(r))"
   ]
  },
  {
   "cell_type": "code",
   "execution_count": 73,
   "metadata": {},
   "outputs": [],
   "source": [
    "# Encode labels in y_test to integers\n",
    "le = LabelEncoder()\n",
    "y_test_encoded = np.argmax(y_test, axis=1)\n"
   ]
  },
  {
   "cell_type": "code",
   "execution_count": 74,
   "metadata": {},
   "outputs": [],
   "source": [
    "# Convert integers to one-hot encoded labels\n",
    "y_test_one_hot = to_categorical(y_test_encoded)"
   ]
  },
  {
   "cell_type": "code",
   "execution_count": 76,
   "metadata": {},
   "outputs": [
    {
     "name": "stdout",
     "output_type": "stream",
     "text": [
      "313/313 [==============================] - 11s 36ms/step\n"
     ]
    }
   ],
   "source": [
    "# Make predictions on X_test\n",
    "predictions = model.predict(X_test)\n",
    "\n",
    "# Convert probability distributions to class predictions\n",
    "predictions = np.argmax(predictions, axis=1)\n",
    "\n",
    "# Compute confusion matrix\n",
    "cm = confusion_matrix(y_test_one_hot.argmax(axis=1), predictions)"
   ]
  },
  {
   "cell_type": "code",
   "execution_count": 77,
   "metadata": {},
   "outputs": [
    {
     "name": "stdout",
     "output_type": "stream",
     "text": [
      "   |   0   1   2   3   4   5   6   7   8   9 \n",
      "---------------------------------------------\n",
      "  0| 682  24  56  22  21   0  11   8 148  28 \n",
      "  1|   7 857   5  14   2   0  17   3  43  52 \n",
      "  2|  99  10 334  97 183  24 206  12  24  11 \n",
      "  3|  22  16  76 371  98  38 297  20  34  28 \n",
      "  4|  34   6  37  57 585   3 203  56  10   9 \n",
      "  5|   9   6  78 350  88 242 163  41  11  12 \n",
      "  6|   8   7  29  31  37   2 864   1  19   2 \n",
      "  7|  26   5  18 131 141  28  41 559   8  43 \n",
      "  8|  87  39  14  22   9   1  15   1 800  12 \n",
      "  9|  36 132   5  25   5   0  27   6  70 694 \n"
     ]
    }
   ],
   "source": [
    "y_test_target = np.array([x.argmax() for x in y_test])\n",
    "cm = confusion_matrix(y_test_target, predictions)\n",
    "print_cm(cm)"
   ]
  },
  {
   "cell_type": "markdown",
   "metadata": {
    "id": "EI2omiec1qos"
   },
   "source": [
    "## Visualisation of cost"
   ]
  },
  {
   "cell_type": "code",
   "execution_count": 110,
   "metadata": {},
   "outputs": [],
   "source": [
    "model.compile(optimizer='adam', loss='categorical_crossentropy', metrics=['accuracy'])"
   ]
  },
  {
   "cell_type": "code",
   "execution_count": 117,
   "metadata": {
    "id": "_REk0bSz1qos"
   },
   "outputs": [
    {
     "ename": "KeyError",
     "evalue": "'accuracy'",
     "output_type": "error",
     "traceback": [
      "\u001b[1;31m---------------------------------------------------------------------------\u001b[0m",
      "\u001b[1;31mKeyError\u001b[0m                                  Traceback (most recent call last)",
      "\u001b[1;32m~\\AppData\\Local\\Temp\\ipykernel_14772\\2833805589.py\u001b[0m in \u001b[0;36m<module>\u001b[1;34m\u001b[0m\n\u001b[0;32m      5\u001b[0m \u001b[1;33m\u001b[0m\u001b[0m\n\u001b[0;32m      6\u001b[0m \u001b[1;31m# Plot training & validation accuracy values\u001b[0m\u001b[1;33m\u001b[0m\u001b[1;33m\u001b[0m\u001b[0m\n\u001b[1;32m----> 7\u001b[1;33m \u001b[0max\u001b[0m\u001b[1;33m[\u001b[0m\u001b[1;36m0\u001b[0m\u001b[1;33m]\u001b[0m\u001b[1;33m.\u001b[0m\u001b[0mplot\u001b[0m\u001b[1;33m(\u001b[0m\u001b[0mmodel\u001b[0m\u001b[1;33m.\u001b[0m\u001b[0mhistory\u001b[0m\u001b[1;33m.\u001b[0m\u001b[0mhistory\u001b[0m\u001b[1;33m[\u001b[0m\u001b[1;34m'accuracy'\u001b[0m\u001b[1;33m]\u001b[0m\u001b[1;33m)\u001b[0m\u001b[1;33m\u001b[0m\u001b[1;33m\u001b[0m\u001b[0m\n\u001b[0m\u001b[0;32m      8\u001b[0m \u001b[0max\u001b[0m\u001b[1;33m[\u001b[0m\u001b[1;36m0\u001b[0m\u001b[1;33m]\u001b[0m\u001b[1;33m.\u001b[0m\u001b[0mplot\u001b[0m\u001b[1;33m(\u001b[0m\u001b[0mmodel\u001b[0m\u001b[1;33m.\u001b[0m\u001b[0mhistory\u001b[0m\u001b[1;33m.\u001b[0m\u001b[0mhistory\u001b[0m\u001b[1;33m[\u001b[0m\u001b[1;34m'val_accuracy'\u001b[0m\u001b[1;33m]\u001b[0m\u001b[1;33m)\u001b[0m\u001b[1;33m\u001b[0m\u001b[1;33m\u001b[0m\u001b[0m\n\u001b[0;32m      9\u001b[0m \u001b[0max\u001b[0m\u001b[1;33m[\u001b[0m\u001b[1;36m0\u001b[0m\u001b[1;33m]\u001b[0m\u001b[1;33m.\u001b[0m\u001b[0mset_title\u001b[0m\u001b[1;33m(\u001b[0m\u001b[1;34m'Model accuracy'\u001b[0m\u001b[1;33m)\u001b[0m\u001b[1;33m\u001b[0m\u001b[1;33m\u001b[0m\u001b[0m\n",
      "\u001b[1;31mKeyError\u001b[0m: 'accuracy'"
     ]
    },
    {
     "data": {
      "image/png": "[encoded data removed]",
      "text/plain": [
       "<Figure size 1800x600 with 2 Axes>"
      ]
     },
     "metadata": {},
     "output_type": "display_data"
    }
   ],
   "source": [
    "fig, ax = plt.subplots(1, 2, figsize = (18, 6))\n",
    "fig.subplots_adjust(left = 0.02, right = 0.98, wspace = 0.2)\n",
    "\n",
    "plt.rcParams.update({'font.size': 18})\n",
    "\n",
    "# Plot training & validation accuracy values\n",
    "ax[0].plot(model.history.history['accuracy'])\n",
    "ax[0].plot(model.history.history['val_accuracy'])\n",
    "ax[0].set_title('Model accuracy')\n",
    "ax[0].set_ylabel('Accuracy')\n",
    "ax[0].set_xlabel('Epoch')\n",
    "ax[0].legend(['Train', 'Validation'])\n",
    "\n",
    "# Plot training & validation loss values\n",
    "ax[1].plot(model.history.history['loss'])\n",
    "ax[1].plot(model.history.history['val_loss'])\n",
    "ax[1].set_title('Model loss')\n",
    "ax[1].set_ylabel('Loss')\n",
    "ax[1].set_xlabel('Epoch')\n",
    "ax[1].legend(['Train', 'Validation'])\n",
    "\n",
    "plt.show()\n"
   ]
  },
  {
   "cell_type": "markdown",
   "metadata": {
    "id": "d1KBysuc1qou"
   },
   "source": [
    "## Results"
   ]
  },
  {
   "cell_type": "code",
   "execution_count": 108,
   "metadata": {
    "id": "r2Rqvn1i1qou"
   },
   "outputs": [
    {
     "data": {
      "image/png": "[encoded data removed]",
      "text/plain": [
       "<Figure size 300x300 with 1 Axes>"
      ]
     },
     "metadata": {},
     "output_type": "display_data"
    }
   ],
   "source": [
    "check_one(X_test, predictions, actual = y_test, compare = True)"
   ]
  },
  {
   "cell_type": "code",
   "execution_count": 94,
   "metadata": {},
   "outputs": [],
   "source": [
    "import os\n",
    "\n",
    "if not os.path.exists('../data'):\n",
    "    os.makedirs('../data')\n",
    "    \n",
    "# save model\n",
    "model_json = model.to_json()\n",
    "with open('../data/model.json', 'w') as json_file:\n",
    "    json_file.write(model_json)\n",
    "    \n",
    "# save weights\n",
    "model.save_weights('../data/model.h5')"
   ]
  },
  {
   "cell_type": "code",
   "execution_count": 95,
   "metadata": {},
   "outputs": [],
   "source": [
    "from keras.models import model_from_json"
   ]
  },
  {
   "cell_type": "code",
   "execution_count": 99,
   "metadata": {},
   "outputs": [],
   "source": [
    "# # create a new model\n",
    "new_model = Sequential()"
   ]
  },
  {
   "cell_type": "code",
   "execution_count": 102,
   "metadata": {},
   "outputs": [],
   "source": [
    "# load model\n",
    "with open('../data/model.json', 'r') as json_file:\n",
    "    model_json = json_file.read()\n",
    "new_model = model_from_json(model_json)\n",
    "\n",
    "# load weights\n",
    "new_model.load_weights('../data/model.h5')\n"
   ]
  },
  {
   "cell_type": "code",
   "execution_count": 103,
   "metadata": {},
   "outputs": [],
   "source": [
    "# # compile the new model\n",
    "new_model.compile(optimizer = 'adam', \n",
    "                   loss = 'categorical_crossentropy', \n",
    "                   metrics = ['accuracy'])"
   ]
  },
  {
   "cell_type": "markdown",
   "metadata": {
    "id": "RERADKgNFq9T"
   },
   "source": [
    "\n",
    "\n",
    "---\n",
    "\n",
    "\n",
    "\n",
    "---\n",
    "\n",
    "\n",
    "\n",
    "> > > > > > > > > © 2022 Institute of Data\n",
    "\n",
    "\n",
    "---\n",
    "\n",
    "\n",
    "\n",
    "---\n",
    "\n",
    "\n",
    "\n"
   ]
  }
 ],
 "metadata": {
  "colab": {
   "collapsed_sections": [],
   "name": "IOD_Lab-9_2.ipynb",
   "provenance": []
  },
  "kernelspec": {
   "display_name": "Python 3 (ipykernel)",
   "language": "python",
   "name": "python3"
  },
  "language_info": {
   "codemirror_mode": {
    "name": "ipython",
    "version": 3
   },
   "file_extension": ".py",
   "mimetype": "text/x-python",
   "name": "python",
   "nbconvert_exporter": "python",
   "pygments_lexer": "ipython3",
   "version": "3.9.13"
  }
 },
 "nbformat": 4,
 "nbformat_minor": 4
}

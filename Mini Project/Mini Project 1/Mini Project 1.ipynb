{
 "cells": [
  {
   "cell_type": "code",
   "execution_count": 1,
   "id": "47af2361-d1be-4384-901b-21180bce79ff",
   "metadata": {},
   "outputs": [],
   "source": [
    "import pandas as pd\n",
    "import numpy as np\n",
    "import matplotlib.pyplot as plt\n",
    "import seaborn as sns\n",
    "%matplotlib inline\n",
    "import seaborn as sns\n",
    "import urllib\n",
    "from scipy import stats"
   ]
  },
  {
   "cell_type": "code",
   "execution_count": 11,
   "id": "9fd1c857-09f7-4717-bf75-4dd922b55756",
   "metadata": {},
   "outputs": [
    {
     "ename": "FileNotFoundError",
     "evalue": "[Errno 2] No such file or directory: '../../DATA/Webuser_Data.csv'",
     "output_type": "error",
     "traceback": [
      "\u001b[1;31m---------------------------------------------------------------------------\u001b[0m",
      "\u001b[1;31mFileNotFoundError\u001b[0m                         Traceback (most recent call last)",
      "\u001b[1;32m~\\AppData\\Local\\Temp\\ipykernel_7224\\2149603605.py\u001b[0m in \u001b[0;36m<module>\u001b[1;34m\u001b[0m\n\u001b[1;32m----> 1\u001b[1;33m \u001b[0mwebuser\u001b[0m \u001b[1;33m=\u001b[0m \u001b[0mpd\u001b[0m\u001b[1;33m.\u001b[0m\u001b[0mread_csv\u001b[0m\u001b[1;33m(\u001b[0m\u001b[1;34m'../../DATA/Webuser_Data.csv'\u001b[0m\u001b[1;33m)\u001b[0m\u001b[1;33m\u001b[0m\u001b[1;33m\u001b[0m\u001b[0m\n\u001b[0m",
      "\u001b[1;32m~\\anaconda3\\lib\\site-packages\\pandas\\util\\_decorators.py\u001b[0m in \u001b[0;36mwrapper\u001b[1;34m(*args, **kwargs)\u001b[0m\n\u001b[0;32m    309\u001b[0m                     \u001b[0mstacklevel\u001b[0m\u001b[1;33m=\u001b[0m\u001b[0mstacklevel\u001b[0m\u001b[1;33m,\u001b[0m\u001b[1;33m\u001b[0m\u001b[1;33m\u001b[0m\u001b[0m\n\u001b[0;32m    310\u001b[0m                 )\n\u001b[1;32m--> 311\u001b[1;33m             \u001b[1;32mreturn\u001b[0m \u001b[0mfunc\u001b[0m\u001b[1;33m(\u001b[0m\u001b[1;33m*\u001b[0m\u001b[0margs\u001b[0m\u001b[1;33m,\u001b[0m \u001b[1;33m**\u001b[0m\u001b[0mkwargs\u001b[0m\u001b[1;33m)\u001b[0m\u001b[1;33m\u001b[0m\u001b[1;33m\u001b[0m\u001b[0m\n\u001b[0m\u001b[0;32m    312\u001b[0m \u001b[1;33m\u001b[0m\u001b[0m\n\u001b[0;32m    313\u001b[0m         \u001b[1;32mreturn\u001b[0m \u001b[0mwrapper\u001b[0m\u001b[1;33m\u001b[0m\u001b[1;33m\u001b[0m\u001b[0m\n",
      "\u001b[1;32m~\\anaconda3\\lib\\site-packages\\pandas\\io\\parsers\\readers.py\u001b[0m in \u001b[0;36mread_csv\u001b[1;34m(filepath_or_buffer, sep, delimiter, header, names, index_col, usecols, squeeze, prefix, mangle_dupe_cols, dtype, engine, converters, true_values, false_values, skipinitialspace, skiprows, skipfooter, nrows, na_values, keep_default_na, na_filter, verbose, skip_blank_lines, parse_dates, infer_datetime_format, keep_date_col, date_parser, dayfirst, cache_dates, iterator, chunksize, compression, thousands, decimal, lineterminator, quotechar, quoting, doublequote, escapechar, comment, encoding, encoding_errors, dialect, error_bad_lines, warn_bad_lines, on_bad_lines, delim_whitespace, low_memory, memory_map, float_precision, storage_options)\u001b[0m\n\u001b[0;32m    676\u001b[0m     \u001b[0mkwds\u001b[0m\u001b[1;33m.\u001b[0m\u001b[0mupdate\u001b[0m\u001b[1;33m(\u001b[0m\u001b[0mkwds_defaults\u001b[0m\u001b[1;33m)\u001b[0m\u001b[1;33m\u001b[0m\u001b[1;33m\u001b[0m\u001b[0m\n\u001b[0;32m    677\u001b[0m \u001b[1;33m\u001b[0m\u001b[0m\n\u001b[1;32m--> 678\u001b[1;33m     \u001b[1;32mreturn\u001b[0m \u001b[0m_read\u001b[0m\u001b[1;33m(\u001b[0m\u001b[0mfilepath_or_buffer\u001b[0m\u001b[1;33m,\u001b[0m \u001b[0mkwds\u001b[0m\u001b[1;33m)\u001b[0m\u001b[1;33m\u001b[0m\u001b[1;33m\u001b[0m\u001b[0m\n\u001b[0m\u001b[0;32m    679\u001b[0m \u001b[1;33m\u001b[0m\u001b[0m\n\u001b[0;32m    680\u001b[0m \u001b[1;33m\u001b[0m\u001b[0m\n",
      "\u001b[1;32m~\\anaconda3\\lib\\site-packages\\pandas\\io\\parsers\\readers.py\u001b[0m in \u001b[0;36m_read\u001b[1;34m(filepath_or_buffer, kwds)\u001b[0m\n\u001b[0;32m    573\u001b[0m \u001b[1;33m\u001b[0m\u001b[0m\n\u001b[0;32m    574\u001b[0m     \u001b[1;31m# Create the parser.\u001b[0m\u001b[1;33m\u001b[0m\u001b[1;33m\u001b[0m\u001b[0m\n\u001b[1;32m--> 575\u001b[1;33m     \u001b[0mparser\u001b[0m \u001b[1;33m=\u001b[0m \u001b[0mTextFileReader\u001b[0m\u001b[1;33m(\u001b[0m\u001b[0mfilepath_or_buffer\u001b[0m\u001b[1;33m,\u001b[0m \u001b[1;33m**\u001b[0m\u001b[0mkwds\u001b[0m\u001b[1;33m)\u001b[0m\u001b[1;33m\u001b[0m\u001b[1;33m\u001b[0m\u001b[0m\n\u001b[0m\u001b[0;32m    576\u001b[0m \u001b[1;33m\u001b[0m\u001b[0m\n\u001b[0;32m    577\u001b[0m     \u001b[1;32mif\u001b[0m \u001b[0mchunksize\u001b[0m \u001b[1;32mor\u001b[0m \u001b[0miterator\u001b[0m\u001b[1;33m:\u001b[0m\u001b[1;33m\u001b[0m\u001b[1;33m\u001b[0m\u001b[0m\n",
      "\u001b[1;32m~\\anaconda3\\lib\\site-packages\\pandas\\io\\parsers\\readers.py\u001b[0m in \u001b[0;36m__init__\u001b[1;34m(self, f, engine, **kwds)\u001b[0m\n\u001b[0;32m    930\u001b[0m \u001b[1;33m\u001b[0m\u001b[0m\n\u001b[0;32m    931\u001b[0m         \u001b[0mself\u001b[0m\u001b[1;33m.\u001b[0m\u001b[0mhandles\u001b[0m\u001b[1;33m:\u001b[0m \u001b[0mIOHandles\u001b[0m \u001b[1;33m|\u001b[0m \u001b[1;32mNone\u001b[0m \u001b[1;33m=\u001b[0m \u001b[1;32mNone\u001b[0m\u001b[1;33m\u001b[0m\u001b[1;33m\u001b[0m\u001b[0m\n\u001b[1;32m--> 932\u001b[1;33m         \u001b[0mself\u001b[0m\u001b[1;33m.\u001b[0m\u001b[0m_engine\u001b[0m \u001b[1;33m=\u001b[0m \u001b[0mself\u001b[0m\u001b[1;33m.\u001b[0m\u001b[0m_make_engine\u001b[0m\u001b[1;33m(\u001b[0m\u001b[0mf\u001b[0m\u001b[1;33m,\u001b[0m \u001b[0mself\u001b[0m\u001b[1;33m.\u001b[0m\u001b[0mengine\u001b[0m\u001b[1;33m)\u001b[0m\u001b[1;33m\u001b[0m\u001b[1;33m\u001b[0m\u001b[0m\n\u001b[0m\u001b[0;32m    933\u001b[0m \u001b[1;33m\u001b[0m\u001b[0m\n\u001b[0;32m    934\u001b[0m     \u001b[1;32mdef\u001b[0m \u001b[0mclose\u001b[0m\u001b[1;33m(\u001b[0m\u001b[0mself\u001b[0m\u001b[1;33m)\u001b[0m\u001b[1;33m:\u001b[0m\u001b[1;33m\u001b[0m\u001b[1;33m\u001b[0m\u001b[0m\n",
      "\u001b[1;32m~\\anaconda3\\lib\\site-packages\\pandas\\io\\parsers\\readers.py\u001b[0m in \u001b[0;36m_make_engine\u001b[1;34m(self, f, engine)\u001b[0m\n\u001b[0;32m   1214\u001b[0m             \u001b[1;31m# \"Union[str, PathLike[str], ReadCsvBuffer[bytes], ReadCsvBuffer[str]]\"\u001b[0m\u001b[1;33m\u001b[0m\u001b[1;33m\u001b[0m\u001b[0m\n\u001b[0;32m   1215\u001b[0m             \u001b[1;31m# , \"str\", \"bool\", \"Any\", \"Any\", \"Any\", \"Any\", \"Any\"\u001b[0m\u001b[1;33m\u001b[0m\u001b[1;33m\u001b[0m\u001b[0m\n\u001b[1;32m-> 1216\u001b[1;33m             self.handles = get_handle(  # type: ignore[call-overload]\n\u001b[0m\u001b[0;32m   1217\u001b[0m                 \u001b[0mf\u001b[0m\u001b[1;33m,\u001b[0m\u001b[1;33m\u001b[0m\u001b[1;33m\u001b[0m\u001b[0m\n\u001b[0;32m   1218\u001b[0m                 \u001b[0mmode\u001b[0m\u001b[1;33m,\u001b[0m\u001b[1;33m\u001b[0m\u001b[1;33m\u001b[0m\u001b[0m\n",
      "\u001b[1;32m~\\anaconda3\\lib\\site-packages\\pandas\\io\\common.py\u001b[0m in \u001b[0;36mget_handle\u001b[1;34m(path_or_buf, mode, encoding, compression, memory_map, is_text, errors, storage_options)\u001b[0m\n\u001b[0;32m    784\u001b[0m         \u001b[1;32mif\u001b[0m \u001b[0mioargs\u001b[0m\u001b[1;33m.\u001b[0m\u001b[0mencoding\u001b[0m \u001b[1;32mand\u001b[0m \u001b[1;34m\"b\"\u001b[0m \u001b[1;32mnot\u001b[0m \u001b[1;32min\u001b[0m \u001b[0mioargs\u001b[0m\u001b[1;33m.\u001b[0m\u001b[0mmode\u001b[0m\u001b[1;33m:\u001b[0m\u001b[1;33m\u001b[0m\u001b[1;33m\u001b[0m\u001b[0m\n\u001b[0;32m    785\u001b[0m             \u001b[1;31m# Encoding\u001b[0m\u001b[1;33m\u001b[0m\u001b[1;33m\u001b[0m\u001b[0m\n\u001b[1;32m--> 786\u001b[1;33m             handle = open(\n\u001b[0m\u001b[0;32m    787\u001b[0m                 \u001b[0mhandle\u001b[0m\u001b[1;33m,\u001b[0m\u001b[1;33m\u001b[0m\u001b[1;33m\u001b[0m\u001b[0m\n\u001b[0;32m    788\u001b[0m                 \u001b[0mioargs\u001b[0m\u001b[1;33m.\u001b[0m\u001b[0mmode\u001b[0m\u001b[1;33m,\u001b[0m\u001b[1;33m\u001b[0m\u001b[1;33m\u001b[0m\u001b[0m\n",
      "\u001b[1;31mFileNotFoundError\u001b[0m: [Errno 2] No such file or directory: '../../DATA/Webuser_Data.csv'"
     ]
    }
   ],
   "source": [
    "webuser = pd.read_csv('../../DATA/Webuser_Data.csv')"
   ]
  },
  {
   "cell_type": "code",
   "execution_count": 6,
   "id": "54c15835-4c1d-452a-8fdb-2e667a46d961",
   "metadata": {},
   "outputs": [
    {
     "ename": "NameError",
     "evalue": "name 'webuser' is not defined",
     "output_type": "error",
     "traceback": [
      "\u001b[1;31m---------------------------------------------------------------------------\u001b[0m",
      "\u001b[1;31mNameError\u001b[0m                                 Traceback (most recent call last)",
      "\u001b[1;32m~\\AppData\\Local\\Temp\\ipykernel_7224\\1145634797.py\u001b[0m in \u001b[0;36m<module>\u001b[1;34m\u001b[0m\n\u001b[1;32m----> 1\u001b[1;33m \u001b[0mwebuser\u001b[0m\u001b[1;33m.\u001b[0m\u001b[0mhead\u001b[0m\u001b[1;33m(\u001b[0m\u001b[1;33m)\u001b[0m\u001b[1;33m\u001b[0m\u001b[1;33m\u001b[0m\u001b[0m\n\u001b[0m",
      "\u001b[1;31mNameError\u001b[0m: name 'webuser' is not defined"
     ]
    }
   ],
   "source": [
    "webuser.head()"
   ]
  },
  {
   "cell_type": "code",
   "execution_count": null,
   "id": "75cf3308-b4c6-4561-84f6-83496b027aa8",
   "metadata": {},
   "outputs": [],
   "source": [
    "webuser.tail()"
   ]
  },
  {
   "cell_type": "code",
   "execution_count": null,
   "id": "de77efd9-8dba-4fa6-8970-701e4b704778",
   "metadata": {},
   "outputs": [],
   "source": [
    "webuser.shape"
   ]
  },
  {
   "cell_type": "code",
   "execution_count": null,
   "id": "51e206fb-6d9e-42fc-91a0-544e0cd9cff7",
   "metadata": {},
   "outputs": [],
   "source": [
    "webuser.info()"
   ]
  },
  {
   "cell_type": "code",
   "execution_count": null,
   "id": "4145a594-5a5d-4c8f-83c3-09006a4179de",
   "metadata": {},
   "outputs": [],
   "source": [
    "webuser.isnull().sum()"
   ]
  },
  {
   "cell_type": "code",
   "execution_count": null,
   "id": "8adc3f77-7a1b-4bad-9961-186de4f343dd",
   "metadata": {},
   "outputs": [],
   "source": [
    "webuser.Age"
   ]
  },
  {
   "cell_type": "code",
   "execution_count": null,
   "id": "0ba28dd1-f43d-4786-9905-4f191c312065",
   "metadata": {},
   "outputs": [],
   "source": [
    "webuser.describe(include='all')"
   ]
  },
  {
   "cell_type": "code",
   "execution_count": null,
   "id": "c81332c1-09c1-469a-a757-9233d012c1e0",
   "metadata": {},
   "outputs": [],
   "source": [
    "import seaborn as sns\n",
    "\n",
    "# Generate some data\n",
    "data = np.random.normal(size=(20, 6))\n",
    "\n",
    "# Create a boxplot\n",
    "sns.boxplot(data=data)"
   ]
  },
  {
   "cell_type": "code",
   "execution_count": null,
   "id": "3b52bcb9-1de4-4818-a9ae-f3779f8c79c3",
   "metadata": {},
   "outputs": [],
   "source": [
    "webuser['City'].hist(figsize=(20, 10));\n",
    "ax = plt.gca()\n",
    "plt.ylim(ymax = 20, ymin = 2)\n",
    "ax.set_ylim([ymin, ymax])"
   ]
  },
  {
   "cell_type": "code",
   "execution_count": null,
   "id": "30c75eb4-7e3e-4a1d-aecf-b09e3afe399e",
   "metadata": {},
   "outputs": [],
   "source": [
    "webuser['Month'].value_counts()"
   ]
  },
  {
   "cell_type": "code",
   "execution_count": null,
   "id": "443f7158-70af-4ce6-ad21-78b58d3e6856",
   "metadata": {},
   "outputs": [],
   "source": [
    "city_count  = webuser['City'].value_counts()\n",
    "city_count = city_count[:20,]\n",
    "plt.figure(figsize=(10,5))\n",
    "sns.barplot(city_count.index, city_count.values, alpha=0.8)\n",
    "plt.title('Web traffic trend by Cities')\n",
    "plt.xticks(rotation='vertical')\n",
    "plt.ylabel('(000)', fontsize=12)\n",
    "plt.xlabel('City', fontsize=12)\n",
    "plt.show()"
   ]
  },
  {
   "cell_type": "code",
   "execution_count": null,
   "id": "b4216e75-c97e-4c82-9236-584d5145add2",
   "metadata": {},
   "outputs": [],
   "source": [
    "sns.countplot(webuser['City'])\n",
    "webuser['City'].value_counts()\n",
    "plt.xticks(rotation='vertical')\n",
    "plt.ylabel('(000)')\n",
    "plt.ylim(ymax = 20, ymin = 0)\n",
    "ax.set_ylim([ymin, ymax])\n",
    "plt.title('Web traffic trend by Cities')\n",
    "plt.show();"
   ]
  },
  {
   "cell_type": "code",
   "execution_count": null,
   "id": "10698dd0-152f-4a52-85a1-acb7e099aa6e",
   "metadata": {},
   "outputs": [],
   "source": [
    "## What is the User pattern by Age\n",
    "sns.countplot(webuser['Age'])"
   ]
  },
  {
   "cell_type": "code",
   "execution_count": null,
   "id": "69f85269-81cc-4b48-b440-edd57551699f",
   "metadata": {},
   "outputs": [],
   "source": [
    "## Which month has maximum online traffic?\n",
    "plt.figure(figsize=(8, 5))\n",
    "plt.title('Web traffic Users by Month')\n",
    "sns.countplot(webuser['Month'])\n",
    "plt.ylabel('Percentage')"
   ]
  },
  {
   "cell_type": "code",
   "execution_count": null,
   "id": "947287c0-2e59-4d12-b957-d12536ff9665",
   "metadata": {},
   "outputs": [],
   "source": [
    "# Which city should be chosen for expansion?"
   ]
  },
  {
   "cell_type": "code",
   "execution_count": null,
   "id": "9b8d7c37-1761-49a1-810f-d0555bd6d19e",
   "metadata": {},
   "outputs": [],
   "source": [
    "plt.figure(dpi=100)\n",
    "sns.countplot(y ='City', hue = \"Age\", data = webuser) \n",
    "plt.xlim(xmax = 4.0, xmin = 0.0)\n",
    "plt.xlabel('Count')\n",
    "plt.title('User trend by Age Group')\n",
    "plt.show()"
   ]
  },
  {
   "cell_type": "code",
   "execution_count": null,
   "id": "b20c0514-7c94-47fc-88c0-a9f956fb7309",
   "metadata": {},
   "outputs": [],
   "source": [
    "webuser['City'].value_counts().sort_values().plot(kind='barh', figsize=(15,10));\n",
    "plt.xlabel('')\n",
    "plt.title('User trend by Cities')\n",
    "plt.ylabel('Cities')\n",
    "plt.show();"
   ]
  },
  {
   "cell_type": "code",
   "execution_count": null,
   "id": "11b7d469-4546-4cbf-9519-e8dc7f805487",
   "metadata": {},
   "outputs": [],
   "source": [
    "##### Hypothesis Test\n",
    "Users = webuser['Users']\n",
    "Users.plot(kind='hist');"
   ]
  },
  {
   "cell_type": "code",
   "execution_count": null,
   "id": "f23beb04-3a4e-4a3d-9a65-1e412e72658a",
   "metadata": {},
   "outputs": [],
   "source": [
    "Male = webuser['male']\n",
    "Male.plot(kind='hist');"
   ]
  },
  {
   "cell_type": "code",
   "execution_count": null,
   "id": "c0bea9fb-dd88-4a1a-92bf-d5cf45ad04cc",
   "metadata": {},
   "outputs": [],
   "source": [
    "Female = webuser['female']\n",
    "Female.plot(kind='hist');"
   ]
  },
  {
   "cell_type": "code",
   "execution_count": null,
   "id": "73abb909-8848-4968-8be7-efffc2149136",
   "metadata": {},
   "outputs": [],
   "source": [
    "alpha = 1000"
   ]
  },
  {
   "cell_type": "code",
   "execution_count": null,
   "id": "e916b50f-dc47-4616-a680-a8a550589280",
   "metadata": {},
   "outputs": [],
   "source": [
    "ax = sns.distplot(Female, label='Female', kde=False);\n",
    "sns.distplot(Male, ax=ax, label='Male', kde=False);\n",
    "plt.legend(loc = 'upper right')\n",
    "plt.xlabel('Users')\n",
    "plt.title('User trend by Gender')\n",
    "plt.ylabel('')\n",
    "plt.show();"
   ]
  },
  {
   "cell_type": "code",
   "execution_count": null,
   "id": "231f43d7-473b-4893-8c68-55761bd88bfd",
   "metadata": {},
   "outputs": [],
   "source": [
    "std = np.sqrt((Female + Male) / 2)\n",
    "print('std dev:', std)"
   ]
  },
  {
   "cell_type": "code",
   "execution_count": null,
   "id": "aadb3725-62f9-496d-85ab-612d8c16eae4",
   "metadata": {},
   "outputs": [],
   "source": [
    "t = (Female.mean() - Male.mean()) / (std * np.sqrt(2 / N))  # t-statistic\n",
    "print('t:', t)"
   ]
  },
  {
   "cell_type": "code",
   "execution_count": null,
   "id": "0ddf11b0-3a9c-4dca-a5d7-9fdf397d4270",
   "metadata": {},
   "outputs": [],
   "source": [
    "df = 2 * N - 2\n",
    "df"
   ]
  },
  {
   "cell_type": "code",
   "execution_count": null,
   "id": "8879bd3b-8d38-409b-a9ef-7dab953ec621",
   "metadata": {},
   "outputs": [],
   "source": [
    "p = 1 - stats.t.cdf(abs(t), df=df)"
   ]
  },
  {
   "cell_type": "code",
   "execution_count": null,
   "id": "86e3a792-65ab-487a-b8be-4051abe2eb48",
   "metadata": {},
   "outputs": [],
   "source": [
    "print(\"t = \" + str(t))\n",
    "print(\"p = \" + str(2 * p))"
   ]
  }
 ],
 "metadata": {
  "kernelspec": {
   "display_name": "Python 3 (ipykernel)",
   "language": "python",
   "name": "python3"
  },
  "language_info": {
   "codemirror_mode": {
    "name": "ipython",
    "version": 3
   },
   "file_extension": ".py",
   "mimetype": "text/x-python",
   "name": "python",
   "nbconvert_exporter": "python",
   "pygments_lexer": "ipython3",
   "version": "3.9.13"
  }
 },
 "nbformat": 4,
 "nbformat_minor": 5
}

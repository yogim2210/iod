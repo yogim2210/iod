{
 "cells": [
  {
   "cell_type": "markdown",
   "metadata": {
    "id": "O4slJmP6lJPO"
   },
   "source": [
    "<div>\n",
    "<img src=https://www.institutedata.com/wp-content/uploads/2019/10/iod_h_tp_primary_c.svg width=\"300\">\n",
    "</div>"
   ]
  },
  {
   "cell_type": "markdown",
   "metadata": {
    "id": "YgGme6aRlJPT"
   },
   "source": [
    "# Lab 3.1.3: \n",
    "# *Database Programming with Python and SQLite*"
   ]
  },
  {
   "cell_type": "markdown",
   "metadata": {
    "id": "qv6NIGfOlJPW"
   },
   "source": [
    "<a name=\"demo\"></a>\n",
    "## Using SQLite\n",
    "\n",
    "### Advantages of SQLite\n",
    "\n",
    "- does not run on a separate server\n",
    "- creates portable SQL databases saved in a single file\n",
    "- databases are stored in a very efficient manner and allow fast querying\n",
    "- ideal for small databases or databases that need to be copied across machines.\n",
    "- prototyping applications (e.g. as an embedded database server in a Python program).\n",
    "\n"
   ]
  },
  {
   "cell_type": "markdown",
   "metadata": {
    "id": "IHIaKfRelJPc"
   },
   "source": [
    "### The `sqlite3` Command Line Utility\n",
    "\n",
    "- useful for basic SQL tasks and database maintenance\n",
    "- for creating and dropping databases, it may be safer to use the command line than to roll the code into a Python program"
   ]
  },
  {
   "cell_type": "markdown",
   "metadata": {
    "id": "adOx7ovjlJPf"
   },
   "source": [
    "1. Add the sqlite3 installation folder to your PATH environment variable.\n",
    "2. Open a command window.\n",
    "3. Navigate to your preferred working directory.\n",
    "4. Start the sqlite3 command line utility and create a database called \"ex1\":\n",
    "\n",
    "`$ sqlite3 ex1`\n",
    "\n",
    "Output:  \n",
    "\n",
    "`SQLite version 3.8.5 2014-05-29 12:36:14\n",
    "Enter \".help\" for usage hints.\n",
    "sqlite>`\n",
    "\n",
    "*Nb. If you leave out the database name (after `sqlite3`, above) a new, temporary database will be created; it will be destroyed upon exiting sqlite3.*  \n"
   ]
  },
  {
   "cell_type": "markdown",
   "metadata": {
    "id": "nuPeNybYlJPj"
   },
   "source": [
    "Enter the following commands at the sqlite prompt (not shown):\n",
    "\n",
    "`create table tbl1(one varchar(10), two smallint);\n",
    "insert into tbl1 values('hello!',10);\n",
    "insert into tbl1 values('goodbye', 20);\n",
    "select * from tbl1;`\n",
    "\n",
    "Output:  \n",
    "\n",
    "`hello!|10\n",
    "goodbye|20`"
   ]
  },
  {
   "cell_type": "markdown",
   "metadata": {
    "id": "G7c-GNh_lJPl"
   },
   "source": [
    "Enter `.help` at the sqlite3 command prompt. This lists the available \"dot commands\". \n",
    "\n",
    "Some of the more useful dot commands include:\n",
    "\n",
    "`  \n",
    ".backup ?DB? FILE      Backup DB (default \"main\") to FILE.\n",
    ".cd DIRECTORY          Change the working directory to DIRECTORY\n",
    ".clone NEWDB           Clone data into NEWDB from the existing database\n",
    ".databases             List names and files of attached databases\n",
    ".dump ?TABLE? ...      Dump the database in an SQL text format.\n",
    ".excel                 Display the output of next command in a spreadsheet\n",
    ".exit                  Exit this program\n",
    ".headers on|off        Turn display of headers on or off\n",
    ".help                  Show this message\n",
    ".import FILE TABLE     Import data from FILE into TABLE\n",
    ".indexes ?TABLE?       Show names of all indexes.\n",
    ".quit                  Exit this program\n",
    ".read FILENAME         Execute SQL in FILENAME\n",
    ".restore ?DB? FILE     Restore content of DB (default \"main\") from FILE\n",
    ".save FILE             Write in-memory database into FILE\n",
    ".tables ?TABLE?        List names of tables.`\n"
   ]
  },
  {
   "cell_type": "markdown",
   "metadata": {
    "id": "UGuSmoHMlJPn"
   },
   "source": [
    "### The `sqlite3` package\n",
    "\n",
    "The easiest way to incorporate an SQL database into a Python application is by using the `sqlite3` package for [`Python 2.7`](https://docs.python.org/2.7/library/sqlite3.html) or [`Python 3.x`](https://docs.python.org/3/library/sqlite3.html).\n",
    "\n",
    "Open a connection to an SQLite database file.  As before, if the file does not already exist it will automatically be created."
   ]
  },
  {
   "cell_type": "code",
   "execution_count": 1,
   "metadata": {
    "ExecuteTime": {
     "end_time": "2019-03-21T02:45:26.790620Z",
     "start_time": "2019-03-21T02:45:26.783638Z"
    },
    "id": "kDA5eAPilJPo"
   },
   "outputs": [],
   "source": [
    "import sqlite3\n",
    "sqlite_db = 'test_db.sqlite'\n",
    "conn = sqlite3.connect(sqlite_db) \n",
    "c = conn.cursor()"
   ]
  },
  {
   "cell_type": "code",
   "execution_count": 4,
   "metadata": {},
   "outputs": [
    {
     "data": {
      "text/plain": [
       "'C:\\\\Users\\\\Shivraj\\\\Documents\\\\iod\\\\Module 3\\\\Labs 3'"
      ]
     },
     "execution_count": 4,
     "metadata": {},
     "output_type": "execute_result"
    }
   ],
   "source": [
    "pwd"
   ]
  },
  {
   "cell_type": "markdown",
   "metadata": {
    "id": "SbbON3DXlJPt"
   },
   "source": [
    "Commands can be executed by passing them as string arguments to the `execute` method of the cursor we just created for this database."
   ]
  },
  {
   "cell_type": "markdown",
   "metadata": {
    "id": "9YezTIZxlJPu"
   },
   "source": [
    "*Nb. If this script has never been run before, the following will raise an (inconsequential) error message:*"
   ]
  },
  {
   "cell_type": "code",
   "execution_count": 5,
   "metadata": {
    "ExecuteTime": {
     "end_time": "2019-03-21T02:53:18.454636Z",
     "start_time": "2019-03-21T02:53:18.434692Z"
    },
    "colab": {
     "base_uri": "https://localhost:8080/",
     "height": 222
    },
    "executionInfo": {
     "elapsed": 418,
     "status": "error",
     "timestamp": 1656472962314,
     "user": {
      "displayName": "Muru Raj",
      "userId": "16263509272652930332"
     },
     "user_tz": -480
    },
    "id": "vf0t6T2mlJPw",
    "outputId": "0512a379-d0f1-449f-aca4-076e9eb8fac3"
   },
   "outputs": [
    {
     "ename": "OperationalError",
     "evalue": "no such table: houses",
     "output_type": "error",
     "traceback": [
      "\u001b[1;31m---------------------------------------------------------------------------\u001b[0m",
      "\u001b[1;31mOperationalError\u001b[0m                          Traceback (most recent call last)",
      "\u001b[1;32m~\\AppData\\Local\\Temp\\ipykernel_15156\\1447706281.py\u001b[0m in \u001b[0;36m<module>\u001b[1;34m\u001b[0m\n\u001b[1;32m----> 1\u001b[1;33m \u001b[0mc\u001b[0m\u001b[1;33m.\u001b[0m\u001b[0mexecute\u001b[0m\u001b[1;33m(\u001b[0m\u001b[1;34m'DROP TABLE houses;'\u001b[0m\u001b[1;33m)\u001b[0m\u001b[1;33m\u001b[0m\u001b[1;33m\u001b[0m\u001b[0m\n\u001b[0m\u001b[0;32m      2\u001b[0m \u001b[1;33m\u001b[0m\u001b[0m\n\u001b[0;32m      3\u001b[0m \u001b[1;31m# Save (commit) the changes:\u001b[0m\u001b[1;33m\u001b[0m\u001b[1;33m\u001b[0m\u001b[0m\n\u001b[0;32m      4\u001b[0m \u001b[0mconn\u001b[0m\u001b[1;33m.\u001b[0m\u001b[0mcommit\u001b[0m\u001b[1;33m(\u001b[0m\u001b[1;33m)\u001b[0m\u001b[1;33m\u001b[0m\u001b[1;33m\u001b[0m\u001b[0m\n",
      "\u001b[1;31mOperationalError\u001b[0m: no such table: houses"
     ]
    }
   ],
   "source": [
    "c.execute('DROP TABLE houses;')\n",
    "\n",
    "# Save (commit) the changes:\n",
    "conn.commit()"
   ]
  },
  {
   "cell_type": "code",
   "execution_count": 6,
   "metadata": {
    "ExecuteTime": {
     "end_time": "2019-03-21T02:53:29.356866Z",
     "start_time": "2019-03-21T02:53:29.332924Z"
    },
    "id": "jSfkJrVWlJPz"
   },
   "outputs": [],
   "source": [
    "c.execute('CREATE TABLE houses (field1 INTEGER PRIMARY KEY, sqft INTEGER, bdrms INTEGER, age INTEGER, price INTEGER);')\n",
    "conn.commit()"
   ]
  },
  {
   "cell_type": "markdown",
   "metadata": {
    "id": "_BWciGvRlJP3"
   },
   "source": [
    "With the database saved the table should now be viewable using SQLite Manager.\n",
    "\n",
    "#### Adding data\n",
    "\n",
    "Since we're back in python, we can now use regular programming techniques in conjunction with the sqlite connection.  In particular, the cursor's `execute()` method supports value substitution using the `?` character, which makes adding multiple records a bit easier.  See the [docs](https://docs.python.org/2.7/library/sqlite3.html) for more details.\n",
    "\n",
    "> c.execute(sql_command, values)"
   ]
  },
  {
   "cell_type": "code",
   "execution_count": 7,
   "metadata": {
    "ExecuteTime": {
     "end_time": "2019-03-21T02:53:32.085517Z",
     "start_time": "2019-03-21T02:53:32.065541Z"
    },
    "id": "EFU0wSP1lJP4"
   },
   "outputs": [],
   "source": [
    "# A\n",
    "last_sale = (None, 4000, 5, 22, 619000)\n",
    "\n",
    "# Execute Command\n",
    "c.execute('INSERT INTO houses VALUES (?,?,?,?,?)',last_sale)\n",
    "\n",
    "# Remember to commit the changes\n",
    "conn.commit()"
   ]
  },
  {
   "cell_type": "code",
   "execution_count": 15,
   "metadata": {},
   "outputs": [
    {
     "data": {
      "text/plain": [
       "[(1, 4000, 5, 22, 619000),\n",
       " (2, 2390, 4, 34, 319000),\n",
       " (3, 1870, 3, 14, 289000),\n",
       " (4, 1505, 3, 90, 269000)]"
      ]
     },
     "execution_count": 15,
     "metadata": {},
     "output_type": "execute_result"
    }
   ],
   "source": [
    "c.execute('Select * from houses').fetchall()"
   ]
  },
  {
   "cell_type": "markdown",
   "metadata": {
    "id": "t7h9HnjDlJP7"
   },
   "source": [
    "Notice that in this syntax we use the python `None` value, rather than `NULL`, to trigger SQLite to auto-increment the Primary Key. \n",
    "\n",
    "There is a related cursor method `executemany()` which takes an array of tuples and loops through them, substituting one tuple at a time.\n",
    "\n",
    "> c.executemany(sql_command, values)"
   ]
  },
  {
   "cell_type": "code",
   "execution_count": 8,
   "metadata": {
    "ExecuteTime": {
     "end_time": "2019-03-21T02:53:39.925817Z",
     "start_time": "2019-03-21T02:53:39.899884Z"
    },
    "id": "MA2Xia7IlJP8"
   },
   "outputs": [],
   "source": [
    "# A\n",
    "recent_sales = [\n",
    "  (None, 2390, 4, 34, 319000),\n",
    "  (None, 1870, 3, 14, 289000),\n",
    "  (None, 1505, 3, 90, 269000),\n",
    "]\n",
    "\n",
    "# Nb. The \"?\" parameters are placeholders for data that will map to the table columns during insertion;\n",
    "# this is a security measure against SQL injection attacks:\n",
    "# \n",
    "c.executemany('INSERT INTO houses VALUES (?, ?, ?, ?, ?)', recent_sales)\n",
    "\n",
    "conn.commit()"
   ]
  },
  {
   "cell_type": "markdown",
   "metadata": {
    "id": "4re-XRYUlAj7"
   },
   "source": [
    "Select all rows from houses"
   ]
  },
  {
   "cell_type": "code",
   "execution_count": 9,
   "metadata": {
    "ExecuteTime": {
     "end_time": "2019-03-21T02:53:42.873911Z",
     "start_time": "2019-03-21T02:53:42.860919Z"
    },
    "colab": {
     "base_uri": "https://localhost:8080/"
    },
    "executionInfo": {
     "elapsed": 5,
     "status": "ok",
     "timestamp": 1656473111637,
     "user": {
      "displayName": "Muru Raj",
      "userId": "16263509272652930332"
     },
     "user_tz": -480
    },
    "id": "aQPGUlLZlJP-",
    "outputId": "80b43a8b-b12d-400f-9846-273735f1bb55"
   },
   "outputs": [
    {
     "data": {
      "text/plain": [
       "[(1, 4000, 5, 22, 619000),\n",
       " (2, 2390, 4, 34, 319000),\n",
       " (3, 1870, 3, 14, 289000),\n",
       " (4, 1505, 3, 90, 269000)]"
      ]
     },
     "execution_count": 9,
     "metadata": {},
     "output_type": "execute_result"
    }
   ],
   "source": [
    "# A\n",
    "query = 'Select * from houses'\n",
    "c.execute(query)\n",
    "c.fetchall()\n",
    "#pd.DataFrame(c.fetchall())"
   ]
  },
  {
   "cell_type": "markdown",
   "metadata": {
    "id": "Rua_QrCClJQF"
   },
   "source": [
    "\n",
    "\n",
    "\n",
    "#### Adding data from a csv file\n",
    "One way to populate the database from a file is to use `numpy.genfromtxt` to read the file into an array (converted to a list for easier handling), and then `INSERT` those records into the database.  The `genfromtxt` function has options including the output data type, handling of missing values, skipping of header and footer rows, columns to read, and more. "
   ]
  },
  {
   "cell_type": "code",
   "execution_count": 17,
   "metadata": {
    "id": "uvqTmTEHfuvj"
   },
   "outputs": [],
   "source": [
    "from numpy import genfromtxt\n",
    "\n",
    "# import into nparray of ints, then convert to list of lists:\n",
    "data = genfromtxt('../../DATA/housing-data.csv', dtype = 'i8', \n",
    "                    delimiter = ',', skip_header = 1).tolist()"
   ]
  },
  {
   "cell_type": "markdown",
   "metadata": {
    "id": "rsYzLBGglJQI"
   },
   "source": [
    "Suppose we need to put a placeholder in the first column for data that will be available later. Best practice is to insert the value `None`:"
   ]
  },
  {
   "cell_type": "code",
   "execution_count": 19,
   "metadata": {
    "ExecuteTime": {
     "end_time": "2019-03-21T03:00:17.647051Z",
     "start_time": "2019-03-21T03:00:17.642063Z"
    },
    "id": "IpIp0WZhlJQI"
   },
   "outputs": [],
   "source": [
    "# prepend a None value to beginning of each sub-list:\n",
    "for d in data:\n",
    "    d.insert(0, None)"
   ]
  },
  {
   "cell_type": "markdown",
   "metadata": {
    "id": "FwHtbxRTlJQL"
   },
   "source": [
    "*Nb. This is why we converted the input array to a list. An array can only hold one type of data (integers in this case) so we could not have inserted `None` before we did this conversion.*"
   ]
  },
  {
   "cell_type": "code",
   "execution_count": 20,
   "metadata": {
    "ExecuteTime": {
     "end_time": "2019-03-21T03:00:20.313136Z",
     "start_time": "2019-03-21T03:00:20.306156Z"
    },
    "id": "dpjV2gEIlJQL",
    "outputId": "553d1507-35e9-4682-fd2f-141d26513a2c"
   },
   "outputs": [
    {
     "name": "stdout",
     "output_type": "stream",
     "text": [
      "<class 'list'>\n",
      "[[None, None, 2104, 3, 70, 399900], [None, None, 1600, 3, 28, 329900], [None, None, 2400, 3, 44, 369000]]\n"
     ]
    }
   ],
   "source": [
    "# check:\n",
    "print(type(data))\n",
    "print(data[0:3])"
   ]
  },
  {
   "cell_type": "markdown",
   "metadata": {
    "id": "2YuxctislJQP"
   },
   "source": [
    "Now we can insert each list item as a row of fields in the database."
   ]
  },
  {
   "cell_type": "code",
   "execution_count": 37,
   "metadata": {
    "ExecuteTime": {
     "end_time": "2019-03-21T03:00:23.383321Z",
     "start_time": "2019-03-21T03:00:23.360381Z"
    },
    "id": "1X78UleXlJQP"
   },
   "outputs": [
    {
     "ename": "ProgrammingError",
     "evalue": "Incorrect number of bindings supplied. The current statement uses 5, and there are 6 supplied.",
     "output_type": "error",
     "traceback": [
      "\u001b[1;31m---------------------------------------------------------------------------\u001b[0m",
      "\u001b[1;31mProgrammingError\u001b[0m                          Traceback (most recent call last)",
      "\u001b[1;32m~\\AppData\\Local\\Temp\\ipykernel_15156\\1953456671.py\u001b[0m in \u001b[0;36m<module>\u001b[1;34m\u001b[0m\n\u001b[0;32m      1\u001b[0m \u001b[1;31m# loop through data, running an INSERT on each record (i.e. sublist):\u001b[0m\u001b[1;33m\u001b[0m\u001b[1;33m\u001b[0m\u001b[0m\n\u001b[0;32m      2\u001b[0m \u001b[1;32mfor\u001b[0m \u001b[0md\u001b[0m \u001b[1;32min\u001b[0m \u001b[0mdata\u001b[0m\u001b[1;33m:\u001b[0m\u001b[1;33m\u001b[0m\u001b[1;33m\u001b[0m\u001b[0m\n\u001b[1;32m----> 3\u001b[1;33m     \u001b[0mc\u001b[0m\u001b[1;33m.\u001b[0m\u001b[0mexecute\u001b[0m\u001b[1;33m(\u001b[0m\u001b[1;34m'INSERT INTO houses VALUES (?, ?, ?, ?, ?)'\u001b[0m\u001b[1;33m,\u001b[0m \u001b[0md\u001b[0m\u001b[1;33m)\u001b[0m\u001b[1;33m\u001b[0m\u001b[1;33m\u001b[0m\u001b[0m\n\u001b[0m\u001b[0;32m      4\u001b[0m \u001b[1;33m\u001b[0m\u001b[0m\n\u001b[0;32m      5\u001b[0m \u001b[0mconn\u001b[0m\u001b[1;33m.\u001b[0m\u001b[0mcommit\u001b[0m\u001b[1;33m(\u001b[0m\u001b[1;33m)\u001b[0m\u001b[1;33m\u001b[0m\u001b[1;33m\u001b[0m\u001b[0m\n",
      "\u001b[1;31mProgrammingError\u001b[0m: Incorrect number of bindings supplied. The current statement uses 5, and there are 6 supplied."
     ]
    }
   ],
   "source": [
    "# loop through data, running an INSERT on each record (i.e. sublist):\n",
    "for d in data:\n",
    "    c.execute('INSERT INTO houses VALUES (?, ?, ?, ?, ?)', d)\n",
    "\n",
    "conn.commit()"
   ]
  },
  {
   "cell_type": "code",
   "execution_count": 36,
   "metadata": {},
   "outputs": [
    {
     "data": {
      "text/plain": [
       "[(1, 4000, 5, 22, 619000),\n",
       " (2, 2390, 4, 34, 319000),\n",
       " (3, 1870, 3, 14, 289000),\n",
       " (4, 1505, 3, 90, 269000),\n",
       " (5, 1200, 3, 15, 250000),\n",
       " (6, 1200, 3, 15, 250000),\n",
       " (7, 1200, 3, 15, 250000)]"
      ]
     },
     "execution_count": 36,
     "metadata": {},
     "output_type": "execute_result"
    }
   ],
   "source": [
    "c.execute(\"SELECT * FROM houses;\").fetchall()"
   ]
  },
  {
   "cell_type": "markdown",
   "metadata": {
    "id": "fOU5sJDmlJQS"
   },
   "source": [
    "In this case, because we were inserting the same value for all records, so we could have simply used a 'None' in the numpy `insert` method at column 0."
   ]
  },
  {
   "cell_type": "code",
   "execution_count": 38,
   "metadata": {
    "ExecuteTime": {
     "end_time": "2019-03-21T03:00:26.207906Z",
     "start_time": "2019-03-21T03:00:26.192925Z"
    },
    "id": "sDig16BalJQS"
   },
   "outputs": [],
   "source": [
    "import numpy as np\n",
    "d1 = np.asarray([1200, 3, 15, 250000])\n",
    "d1 = d1.tolist()\n",
    "d1.insert(0, None)\n",
    "d1\n",
    "c.execute('INSERT INTO houses VALUES (?, ?, ?, ?, ?)', d1)\n",
    "conn.commit()"
   ]
  },
  {
   "cell_type": "markdown",
   "metadata": {
    "id": "FVZ3jVc3lJQT"
   },
   "source": [
    "#### Deleting Rows"
   ]
  },
  {
   "cell_type": "markdown",
   "metadata": {
    "id": "fwGFqJKplJQU"
   },
   "source": [
    "The `DELETE FROM` statement can be used with a `WHERE` clause to specify rows to delete based on some criteria."
   ]
  },
  {
   "cell_type": "code",
   "execution_count": 39,
   "metadata": {
    "ExecuteTime": {
     "end_time": "2019-03-21T03:00:28.930270Z",
     "start_time": "2019-03-21T03:00:28.913316Z"
    },
    "id": "G-t-_J1alJQU"
   },
   "outputs": [],
   "source": [
    "c.execute('DELETE FROM houses WHERE field1 IN (52, 53)')\n",
    "conn.commit()"
   ]
  },
  {
   "cell_type": "markdown",
   "metadata": {
    "id": "dBd4Rh8DlJQW"
   },
   "source": [
    "QUIZ: What would `DELETE FROM houses` do?"
   ]
  },
  {
   "cell_type": "markdown",
   "metadata": {
    "id": "omubeB6qlJQW"
   },
   "source": [
    "#### Filtering Rows"
   ]
  },
  {
   "cell_type": "markdown",
   "metadata": {
    "id": "0x6oaa-UlU2c"
   },
   "source": [
    "**1. Select Rows Where Bedrooms = 4**"
   ]
  },
  {
   "cell_type": "code",
   "execution_count": 40,
   "metadata": {
    "ExecuteTime": {
     "end_time": "2019-03-21T03:00:32.102245Z",
     "start_time": "2019-03-21T03:00:32.091281Z"
    },
    "id": "tET_cYfWlJQX"
   },
   "outputs": [
    {
     "data": {
      "text/plain": [
       "[(2, 2390, 4, 34, 319000)]"
      ]
     },
     "execution_count": 40,
     "metadata": {},
     "output_type": "execute_result"
    }
   ],
   "source": [
    "# ANSWER\n",
    "results = c.execute(\"SELECT * FROM houses WHERE bdrms = 4\")\n",
    "results.fetchall()"
   ]
  },
  {
   "cell_type": "markdown",
   "metadata": {
    "id": "sTNiWQB2lJQg"
   },
   "source": [
    "**2. The following query calculates the average floor area and price of each size of house (i.e. by number of bedrooms):**"
   ]
  },
  {
   "cell_type": "code",
   "execution_count": 41,
   "metadata": {
    "ExecuteTime": {
     "end_time": "2019-03-21T03:00:40.229917Z",
     "start_time": "2019-03-21T03:00:40.215956Z"
    },
    "id": "nkFpYIbVlJQg",
    "outputId": "a56eebd4-9f0b-483d-9e30-4305de3e25b6"
   },
   "outputs": [
    {
     "data": {
      "text/plain": [
       "[(3, 1362.5, 259666.66666666666), (4, 2390.0, 319000.0), (5, 4000.0, 619000.0)]"
      ]
     },
     "execution_count": 41,
     "metadata": {},
     "output_type": "execute_result"
    }
   ],
   "source": [
    "# ANSWER\n",
    "results = c.execute(\"SELECT bdrms, AVG(sqft) AS avg_sqft, AVG(price) AS avg_price FROM houses GROUP BY bdrms\")\n",
    "results.fetchall()"
   ]
  },
  {
   "cell_type": "markdown",
   "metadata": {
    "id": "7K9VDroqlJQi"
   },
   "source": [
    "### Pandas connector\n",
    "\n",
    "While databases provide many analytical capabilities, at some point we may need to pull data into Python for more flexible processing. Large, fixed operations would be more efficient in a database, but Pandas allows for interactive processing.\n",
    "\n",
    "For example, if you want to aggregate nightly log-ins or sales for a report or dashboard, this would be a fixed operation on a large dataset. These computations would run more efficiently in the database system itself.\n",
    "\n",
    "However, if we wanted to model the patterns of login behaviour or factors driving sales, then we would import the data to Python where we could use its simple interfaces to powerful analytic libraries."
   ]
  },
  {
   "cell_type": "code",
   "execution_count": 42,
   "metadata": {
    "ExecuteTime": {
     "end_time": "2019-03-21T03:00:47.378382Z",
     "start_time": "2019-03-21T03:00:46.506361Z"
    },
    "id": "tvI0P-r8lJQj"
   },
   "outputs": [],
   "source": [
    "import pandas as pd\n",
    "from pandas.io import sql"
   ]
  },
  {
   "cell_type": "markdown",
   "metadata": {
    "id": "gBz6pxPFlJQk"
   },
   "source": [
    "Pandas can connect to most relational databases. In this demonstration, we will create and connect to a SQLite database."
   ]
  },
  {
   "cell_type": "markdown",
   "metadata": {
    "id": "3dZYouA_lJQk"
   },
   "source": [
    "### Writing data into a database\n",
    "\n",
    "Data in Pandas can be loaded into a relational database. \n",
    "\n",
    "If the data table is not too large, we can load all of it into a Pandas DataFrame:"
   ]
  },
  {
   "cell_type": "code",
   "execution_count": 44,
   "metadata": {
    "ExecuteTime": {
     "end_time": "2019-03-21T03:00:57.272152Z",
     "start_time": "2019-03-21T03:00:57.245228Z"
    },
    "id": "GfjtD2iylJQl",
    "outputId": "efe6eddd-8fae-4ad3-d8b9-c34c3444a015"
   },
   "outputs": [
    {
     "data": {
      "text/html": [
       "<div>\n",
       "<style scoped>\n",
       "    .dataframe tbody tr th:only-of-type {\n",
       "        vertical-align: middle;\n",
       "    }\n",
       "\n",
       "    .dataframe tbody tr th {\n",
       "        vertical-align: top;\n",
       "    }\n",
       "\n",
       "    .dataframe thead th {\n",
       "        text-align: right;\n",
       "    }\n",
       "</style>\n",
       "<table border=\"1\" class=\"dataframe\">\n",
       "  <thead>\n",
       "    <tr style=\"text-align: right;\">\n",
       "      <th></th>\n",
       "      <th>sqft</th>\n",
       "      <th>bdrms</th>\n",
       "      <th>age</th>\n",
       "      <th>price</th>\n",
       "    </tr>\n",
       "  </thead>\n",
       "  <tbody>\n",
       "    <tr>\n",
       "      <th>0</th>\n",
       "      <td>2104</td>\n",
       "      <td>3</td>\n",
       "      <td>70</td>\n",
       "      <td>399900</td>\n",
       "    </tr>\n",
       "    <tr>\n",
       "      <th>1</th>\n",
       "      <td>1600</td>\n",
       "      <td>3</td>\n",
       "      <td>28</td>\n",
       "      <td>329900</td>\n",
       "    </tr>\n",
       "    <tr>\n",
       "      <th>2</th>\n",
       "      <td>2400</td>\n",
       "      <td>3</td>\n",
       "      <td>44</td>\n",
       "      <td>369000</td>\n",
       "    </tr>\n",
       "    <tr>\n",
       "      <th>3</th>\n",
       "      <td>1416</td>\n",
       "      <td>2</td>\n",
       "      <td>49</td>\n",
       "      <td>232000</td>\n",
       "    </tr>\n",
       "    <tr>\n",
       "      <th>4</th>\n",
       "      <td>3000</td>\n",
       "      <td>4</td>\n",
       "      <td>75</td>\n",
       "      <td>539900</td>\n",
       "    </tr>\n",
       "  </tbody>\n",
       "</table>\n",
       "</div>"
      ],
      "text/plain": [
       "   sqft  bdrms  age   price\n",
       "0  2104      3   70  399900\n",
       "1  1600      3   28  329900\n",
       "2  2400      3   44  369000\n",
       "3  1416      2   49  232000\n",
       "4  3000      4   75  539900"
      ]
     },
     "execution_count": 44,
     "metadata": {},
     "output_type": "execute_result"
    }
   ],
   "source": [
    "# Nb. Use low_memory=False to ensure that type inference does not fail due to buffered processing of input:\n",
    "data = pd.read_csv('../../DATA/housing-data.csv', low_memory = False)\n",
    "data.head()"
   ]
  },
  {
   "cell_type": "markdown",
   "metadata": {
    "id": "3fD3CvPRlJQo"
   },
   "source": [
    "We can move data in the opposite direction -- from a DataFrame to a database -- using the `to_sql` command, similar to the `to_csv` command.\n",
    "\n",
    "`to_sql` takes as arguments:\n",
    "    - `name`, the table name to create\n",
    "    - `con`, a connection to a database\n",
    "    - `index`, whether to input the index column\n",
    "    - `schema`, if we want to write a custom schema for the new table\n",
    "    - `if_exists`, what to do if the table already exists. We can overwrite it, add to it, or fail"
   ]
  },
  {
   "cell_type": "markdown",
   "metadata": {
    "id": "Q2W5ZbrHlJQo"
   },
   "source": [
    "This copies our `data` DataFrame to a sqlite3 table called `houses_pandas`:"
   ]
  },
  {
   "cell_type": "code",
   "execution_count": 45,
   "metadata": {
    "ExecuteTime": {
     "end_time": "2019-03-21T03:01:06.485595Z",
     "start_time": "2019-03-21T03:01:06.010981Z"
    },
    "id": "BoyMHydFlJQp"
   },
   "outputs": [
    {
     "data": {
      "text/plain": [
       "47"
      ]
     },
     "execution_count": 45,
     "metadata": {},
     "output_type": "execute_result"
    }
   ],
   "source": [
    "data.to_sql('houses_pandas', con = conn, if_exists = 'replace', index = False)"
   ]
  },
  {
   "cell_type": "markdown",
   "metadata": {
    "id": "WqPJA5l_lJQr"
   },
   "source": [
    "Run a query to get the average price of each house size from this table:"
   ]
  },
  {
   "cell_type": "code",
   "execution_count": 46,
   "metadata": {
    "ExecuteTime": {
     "end_time": "2019-03-21T03:01:09.023417Z",
     "start_time": "2019-03-21T03:01:09.016436Z"
    },
    "id": "w5Uf5INrlJQr"
   },
   "outputs": [
    {
     "data": {
      "text/plain": [
       "[(1, 169900.0),\n",
       " (2, 280866.6666666667),\n",
       " (3, 326403.92),\n",
       " (4, 377449.78571428574),\n",
       " (5, 699900.0)]"
      ]
     },
     "execution_count": 46,
     "metadata": {},
     "output_type": "execute_result"
    }
   ],
   "source": [
    "#ANSWER\n",
    "c.execute('SELECT bdrms, AVG(price) FROM houses_pandas GROUP BY bdrms').fetchall()"
   ]
  },
  {
   "cell_type": "markdown",
   "metadata": {
    "id": "CJtvJ5EylJQu"
   },
   "source": [
    "## Discussion\n",
    "\n",
    "**Scenarios for using Pandas with SQLite**\n",
    "\n",
    "1. When would you want to use Pandas on a dataset before storing it in a database?\n",
    "\n",
    "2. When would you want to use Pandas on a dataset retrieved from a database?"
   ]
  },
  {
   "cell_type": "markdown",
   "metadata": {
    "id": "YZ7J3ZyUlJQu"
   },
   "source": [
    "<a name=\"guided-practice\"></a>\n",
    "\n",
    "\n",
    "# Reference: SQL Syntax \n",
    "\n",
    "\n",
    "#### SELECT Statement\n",
    "Every query should start with `SELECT`.  `SELECT` is followed by the names of the columns in the output.\n",
    "\n",
    "`SELECT` is always paired with `FROM`, and `FROM` identifies the table to retrieve data from.\n",
    "\n",
    "```sql\n",
    "SELECT\n",
    "<columns>\n",
    "FROM\n",
    "<table>\n",
    "```\n",
    "\n",
    "`SELECT *` denotes returns *all* of the columns.\n",
    "\n",
    "Housing Data example:\n",
    "```sql\n",
    "SELECT\n",
    "sqft, bdrms\n",
    "FROM houses_pandas;\n",
    "```\n",
    "\n",
    "**Check:** Write a query that returns the `sqft`, `bdrms` and `price`.\n",
    "\n",
    "```sql\n",
    "SELECT\n",
    "sqft, bdrms, price\n",
    "FROM houses_pandas;\n",
    "```\n",
    "\n",
    "#### WHERE Clause\n",
    "`WHERE` is used to filter table to a specific criteria and follows the `FROM` clause.\n",
    "\n",
    "```sql\n",
    "SELECT\n",
    "<columns>\n",
    "FROM\n",
    "<table>\n",
    "WHERE\n",
    "<condition>\n",
    "```\n",
    "Example:\n",
    "```sql\n",
    "SELECT\n",
    "sqft, bdrms, age, price\n",
    "FROM houses_pandas\n",
    "WHERE bdrms = 2 and price < 250000;\n",
    "```\n",
    "\n",
    "The condition is effectively a row filter; rows that match the condition will be included in the rowset that is returned by the query.\n",
    "\n",
    "**Check:** Write a query that returns the `sqft`, `bdrms`, `age` for houses older than 60 years.\n",
    ">```sql\n",
    "SELECT\n",
    "sqft, bdrms, age\n",
    "FROM houses_pandas\n",
    "WHERE age > 60;\n",
    "```"
   ]
  },
  {
   "cell_type": "markdown",
   "metadata": {
    "id": "u5hFKdhQlJQu"
   },
   "source": [
    "### AGGREGATIONS\n",
    "\n",
    "Aggregations (or aggregate functions) are functions where the values of multiple rows are grouped together as input on certain criteria to form a single value of more significant meaning or measurement such as a set, a bag or a list.\n",
    "\n",
    "Examples of aggregate functions:\n",
    "\n",
    "- Average (i.e., arithmetic mean)\n",
    "- Count\n",
    "- Maximum\n",
    "- Minimum\n",
    "- Median\n",
    "- Mode\n",
    "- Sum\n",
    "\n",
    "In SQL they are performed in a `SELECT` statement as follows.\n",
    "\n",
    "```sql\n",
    "SELECT COUNT(price)\n",
    "FROM houses_pandas;\n",
    "```\n",
    "\n",
    "```sql\n",
    "SELECT AVG(sqft), MIN(price), MAX(price)\n",
    "FROM houses_pandas\n",
    "WHERE bdrms = 2;\n",
    "```"
   ]
  },
  {
   "cell_type": "markdown",
   "metadata": {
    "id": "CscvF7JthEEO"
   },
   "source": [
    "### Read Order Data\n",
    "- P12-ListOfOrders\n",
    "- P12-OrderBreakdown"
   ]
  },
  {
   "cell_type": "markdown",
   "metadata": {
    "id": "DOl3mmXohEEP"
   },
   "source": [
    "#### 1. Read CSV into DataFrame"
   ]
  },
  {
   "cell_type": "code",
   "execution_count": 48,
   "metadata": {
    "ExecuteTime": {
     "end_time": "2019-03-21T03:22:39.364636Z",
     "start_time": "2019-03-21T03:22:39.360648Z"
    },
    "id": "bVugNG7HhEEP"
   },
   "outputs": [],
   "source": [
    "import pandas as pd\n",
    "import sqlite3\n",
    "from pandas.io import sql"
   ]
  },
  {
   "cell_type": "code",
   "execution_count": 49,
   "metadata": {
    "ExecuteTime": {
     "end_time": "2019-03-21T03:12:07.534283Z",
     "start_time": "2019-03-21T03:12:07.477433Z"
    },
    "id": "Q6QO2rjrhEER"
   },
   "outputs": [],
   "source": [
    "# Reading CSV to Dataframe\n",
    "orders = pd.read_csv('../../DATA/P12-ListOfOrders.csv', encoding = 'utf-8')\n",
    "orders_break_down =  pd.read_csv('../../DATA/P12-OrderBreakdown.csv', encoding = 'utf-8')"
   ]
  },
  {
   "cell_type": "code",
   "execution_count": 50,
   "metadata": {
    "ExecuteTime": {
     "end_time": "2019-03-21T03:12:26.465643Z",
     "start_time": "2019-03-21T03:12:26.437719Z"
    },
    "id": "ap_uuKx6hEET",
    "outputId": "5454cc0b-5b6d-4afc-9f7e-a0d2e20aedf2"
   },
   "outputs": [
    {
     "data": {
      "text/html": [
       "<div>\n",
       "<style scoped>\n",
       "    .dataframe tbody tr th:only-of-type {\n",
       "        vertical-align: middle;\n",
       "    }\n",
       "\n",
       "    .dataframe tbody tr th {\n",
       "        vertical-align: top;\n",
       "    }\n",
       "\n",
       "    .dataframe thead th {\n",
       "        text-align: right;\n",
       "    }\n",
       "</style>\n",
       "<table border=\"1\" class=\"dataframe\">\n",
       "  <thead>\n",
       "    <tr style=\"text-align: right;\">\n",
       "      <th></th>\n",
       "      <th>Order ID</th>\n",
       "      <th>Order Date</th>\n",
       "      <th>Customer Name</th>\n",
       "      <th>Country</th>\n",
       "    </tr>\n",
       "  </thead>\n",
       "  <tbody>\n",
       "    <tr>\n",
       "      <th>0</th>\n",
       "      <td>IT-2011-3647632</td>\n",
       "      <td>2011-01-01</td>\n",
       "      <td>Eugene Moren</td>\n",
       "      <td>Sweden</td>\n",
       "    </tr>\n",
       "    <tr>\n",
       "      <th>1</th>\n",
       "      <td>ES-2011-4869686</td>\n",
       "      <td>2011-01-03</td>\n",
       "      <td>Dorothy Dickinson</td>\n",
       "      <td>United Kingdom</td>\n",
       "    </tr>\n",
       "    <tr>\n",
       "      <th>2</th>\n",
       "      <td>ES-2011-4939443</td>\n",
       "      <td>2011-01-04</td>\n",
       "      <td>Arthur Prichep</td>\n",
       "      <td>France</td>\n",
       "    </tr>\n",
       "    <tr>\n",
       "      <th>3</th>\n",
       "      <td>IT-2011-2942451</td>\n",
       "      <td>2011-01-04</td>\n",
       "      <td>Grant Thornton</td>\n",
       "      <td>United Kingdom</td>\n",
       "    </tr>\n",
       "    <tr>\n",
       "      <th>4</th>\n",
       "      <td>ES-2011-3848439</td>\n",
       "      <td>2011-01-05</td>\n",
       "      <td>Michael Granlund</td>\n",
       "      <td>France</td>\n",
       "    </tr>\n",
       "  </tbody>\n",
       "</table>\n",
       "</div>"
      ],
      "text/plain": [
       "          Order ID  Order Date      Customer Name         Country\n",
       "0  IT-2011-3647632  2011-01-01       Eugene Moren          Sweden\n",
       "1  ES-2011-4869686  2011-01-03  Dorothy Dickinson  United Kingdom\n",
       "2  ES-2011-4939443  2011-01-04     Arthur Prichep          France\n",
       "3  IT-2011-2942451  2011-01-04     Grant Thornton  United Kingdom\n",
       "4  ES-2011-3848439  2011-01-05   Michael Granlund          France"
      ]
     },
     "execution_count": 50,
     "metadata": {},
     "output_type": "execute_result"
    }
   ],
   "source": [
    "orders.head()"
   ]
  },
  {
   "cell_type": "code",
   "execution_count": 51,
   "metadata": {
    "ExecuteTime": {
     "end_time": "2019-03-21T03:13:14.105960Z",
     "start_time": "2019-03-21T03:13:14.090003Z"
    },
    "id": "m88fsu3ChEEW",
    "outputId": "cda0ef93-c898-4a46-83a9-8abd8bacc7b8"
   },
   "outputs": [
    {
     "data": {
      "text/html": [
       "<div>\n",
       "<style scoped>\n",
       "    .dataframe tbody tr th:only-of-type {\n",
       "        vertical-align: middle;\n",
       "    }\n",
       "\n",
       "    .dataframe tbody tr th {\n",
       "        vertical-align: top;\n",
       "    }\n",
       "\n",
       "    .dataframe thead th {\n",
       "        text-align: right;\n",
       "    }\n",
       "</style>\n",
       "<table border=\"1\" class=\"dataframe\">\n",
       "  <thead>\n",
       "    <tr style=\"text-align: right;\">\n",
       "      <th></th>\n",
       "      <th>Order ID</th>\n",
       "      <th>Product Name</th>\n",
       "      <th>Discount</th>\n",
       "      <th>Sales</th>\n",
       "      <th>Quantity</th>\n",
       "      <th>Category</th>\n",
       "    </tr>\n",
       "  </thead>\n",
       "  <tbody>\n",
       "    <tr>\n",
       "      <th>0</th>\n",
       "      <td>IT-2011-3647632</td>\n",
       "      <td>Enermax Note Cards, Premium</td>\n",
       "      <td>0.5</td>\n",
       "      <td>45.0</td>\n",
       "      <td>3</td>\n",
       "      <td>Office Supplies</td>\n",
       "    </tr>\n",
       "    <tr>\n",
       "      <th>1</th>\n",
       "      <td>ES-2011-4869686</td>\n",
       "      <td>Dania Corner Shelving, Traditional</td>\n",
       "      <td>0.0</td>\n",
       "      <td>854.0</td>\n",
       "      <td>7</td>\n",
       "      <td>Furniture</td>\n",
       "    </tr>\n",
       "    <tr>\n",
       "      <th>2</th>\n",
       "      <td>ES-2011-4939443</td>\n",
       "      <td>Binney &amp; Smith Sketch Pad, Easy-Erase</td>\n",
       "      <td>0.0</td>\n",
       "      <td>140.0</td>\n",
       "      <td>3</td>\n",
       "      <td>Office Supplies</td>\n",
       "    </tr>\n",
       "    <tr>\n",
       "      <th>3</th>\n",
       "      <td>IT-2011-2942451</td>\n",
       "      <td>Boston Markers, Easy-Erase</td>\n",
       "      <td>0.5</td>\n",
       "      <td>27.0</td>\n",
       "      <td>2</td>\n",
       "      <td>Office Supplies</td>\n",
       "    </tr>\n",
       "    <tr>\n",
       "      <th>4</th>\n",
       "      <td>IT-2011-2942451</td>\n",
       "      <td>Eldon Folders, Single Width</td>\n",
       "      <td>0.5</td>\n",
       "      <td>17.0</td>\n",
       "      <td>2</td>\n",
       "      <td>Office Supplies</td>\n",
       "    </tr>\n",
       "  </tbody>\n",
       "</table>\n",
       "</div>"
      ],
      "text/plain": [
       "          Order ID                           Product Name  Discount  Sales  \\\n",
       "0  IT-2011-3647632            Enermax Note Cards, Premium       0.5   45.0   \n",
       "1  ES-2011-4869686     Dania Corner Shelving, Traditional       0.0  854.0   \n",
       "2  ES-2011-4939443  Binney & Smith Sketch Pad, Easy-Erase       0.0  140.0   \n",
       "3  IT-2011-2942451             Boston Markers, Easy-Erase       0.5   27.0   \n",
       "4  IT-2011-2942451            Eldon Folders, Single Width       0.5   17.0   \n",
       "\n",
       "   Quantity         Category  \n",
       "0         3  Office Supplies  \n",
       "1         7        Furniture  \n",
       "2         3  Office Supplies  \n",
       "3         2  Office Supplies  \n",
       "4         2  Office Supplies  "
      ]
     },
     "execution_count": 51,
     "metadata": {},
     "output_type": "execute_result"
    }
   ],
   "source": [
    "orders_break_down.head()"
   ]
  },
  {
   "cell_type": "markdown",
   "metadata": {
    "id": "lB9YvqpKhEEY"
   },
   "source": [
    "#### 2. Replace Space with Underscore in Column Names"
   ]
  },
  {
   "cell_type": "code",
   "execution_count": 52,
   "metadata": {
    "ExecuteTime": {
     "end_time": "2019-03-21T03:18:03.275638Z",
     "start_time": "2019-03-21T03:18:03.269624Z"
    },
    "id": "ICMk2oRAhEEZ"
   },
   "outputs": [],
   "source": [
    "# ANSWER\n",
    "orders.columns = [o.replace(' ', '_') for o in orders.columns.str.lower()]"
   ]
  },
  {
   "cell_type": "code",
   "execution_count": 53,
   "metadata": {
    "ExecuteTime": {
     "end_time": "2019-03-21T03:18:32.931223Z",
     "start_time": "2019-03-21T03:18:32.925208Z"
    },
    "id": "PZQ0WBbLhEEc"
   },
   "outputs": [],
   "source": [
    "# ANSWER\n",
    "orders_break_down.columns = [o.replace(' ', '_') for o in orders_break_down.columns.str.lower()]"
   ]
  },
  {
   "cell_type": "markdown",
   "metadata": {
    "id": "u11trn6HhEEg"
   },
   "source": [
    "#### 3. Check DataTypes "
   ]
  },
  {
   "cell_type": "code",
   "execution_count": 54,
   "metadata": {
    "ExecuteTime": {
     "end_time": "2019-03-21T03:20:00.147608Z",
     "start_time": "2019-03-21T03:20:00.140627Z"
    },
    "id": "1XvSDzIqhEEh",
    "outputId": "3970ec4b-52e8-4075-a450-7ac2d1cf62a5"
   },
   "outputs": [
    {
     "data": {
      "text/plain": [
       "order_id         object\n",
       "order_date       object\n",
       "customer_name    object\n",
       "country          object\n",
       "dtype: object"
      ]
     },
     "execution_count": 54,
     "metadata": {},
     "output_type": "execute_result"
    }
   ],
   "source": [
    "# ANSWER\n",
    "orders.dtypes"
   ]
  },
  {
   "cell_type": "code",
   "execution_count": 55,
   "metadata": {
    "ExecuteTime": {
     "end_time": "2019-03-21T03:20:17.053453Z",
     "start_time": "2019-03-21T03:20:17.041477Z"
    },
    "id": "nqNNnTiUhEEj",
    "outputId": "5afac8cc-78e5-4f57-9d96-6d5aa4d122b4"
   },
   "outputs": [
    {
     "data": {
      "text/plain": [
       "order_id         object\n",
       "product_name     object\n",
       "discount        float64\n",
       "sales           float64\n",
       "quantity          int64\n",
       "category         object\n",
       "dtype: object"
      ]
     },
     "execution_count": 55,
     "metadata": {},
     "output_type": "execute_result"
    }
   ],
   "source": [
    "# ANSWER\n",
    "orders_break_down.dtypes"
   ]
  },
  {
   "cell_type": "markdown",
   "metadata": {
    "id": "wmw7wdLxhEEn"
   },
   "source": [
    "#### 4. Save these two dataframes as a table in sqlite"
   ]
  },
  {
   "cell_type": "code",
   "execution_count": 63,
   "metadata": {
    "ExecuteTime": {
     "end_time": "2019-03-21T03:23:22.310290Z",
     "start_time": "2019-03-21T03:23:22.212386Z"
    },
    "id": "IeFCwG7hhEEo"
   },
   "outputs": [
    {
     "data": {
      "text/plain": [
       "8047"
      ]
     },
     "execution_count": 63,
     "metadata": {},
     "output_type": "execute_result"
    }
   ],
   "source": [
    "# Establishing Local DB connection\n",
    "db_connection = sqlite3.connect('../../DATA/eshop.db.sqlite')\n",
    "\n",
    "# Save these two dataframes as a table in sqlite\n",
    "orders.to_sql(name = 'orders', con = db_connection, if_exists = 'replace', index = False)\n",
    "orders_break_down.to_sql(name = 'orders_break_down', con = db_connection, if_exists = 'replace', index = False)"
   ]
  },
  {
   "cell_type": "code",
   "execution_count": 65,
   "metadata": {},
   "outputs": [
    {
     "data": {
      "text/plain": [
       "[('IT-2011-3647632', '2011-01-01', 'Eugene Moren', 'Sweden'),\n",
       " ('ES-2011-4869686', '2011-01-03', 'Dorothy Dickinson', 'United Kingdom'),\n",
       " ('ES-2011-4939443', '2011-01-04', 'Arthur Prichep', 'France'),\n",
       " ('IT-2011-2942451', '2011-01-04', 'Grant Thornton', 'United Kingdom'),\n",
       " ('ES-2011-3848439', '2011-01-05', 'Michael Granlund', 'France'),\n",
       " ('ES-2011-5433855', '2011-01-07', 'Dave Poirier', 'France'),\n",
       " ('IT-2011-4546695', '2011-01-08', 'Darren Powers', 'France'),\n",
       " ('ES-2011-1138719', '2011-01-11', 'Eric Murdock', 'Italy'),\n",
       " ('ES-2011-1466305', '2011-01-11', 'Mick Brown', 'Austria'),\n",
       " ('ES-2011-4359424', '2011-01-11', 'Dorothy Dickinson', 'Spain'),\n",
       " ('ES-2011-5158390', '2011-01-11', 'Roy Collins', 'United Kingdom'),\n",
       " ('ES-2011-1460199', '2011-01-12', 'Roy Phan', 'Germany'),\n",
       " ('ES-2011-4976144', '2011-01-12', 'Anthony Garverick', 'United Kingdom'),\n",
       " ('ES-2011-5040255', '2011-01-12', 'Peter B?hler', 'United Kingdom'),\n",
       " ('IT-2011-5340302', '2011-01-13', 'Greg Matthias', 'Netherlands'),\n",
       " ('IT-2011-5951216', '2011-01-13', 'Stuart Calhoun', 'Sweden'),\n",
       " ('ES-2011-1043483', '2011-01-14', 'Sharelle Roach', 'Austria'),\n",
       " ('ES-2011-3661686', '2011-01-15', 'Don Jones', 'Germany'),\n",
       " ('IT-2011-1373680', '2011-01-17', 'Shirley Daniels', 'Denmark'),\n",
       " ('ES-2011-4174897', '2011-01-18', 'Michael Dominguez', 'Spain'),\n",
       " ('ES-2011-4825230', '2011-01-18', 'Richard Bierner', 'Denmark'),\n",
       " ('ES-2011-1690587', '2011-01-19', 'Ann Blume', 'Italy'),\n",
       " ('ES-2011-3666932', '2011-01-19', 'Matt Abelman', 'Italy'),\n",
       " ('ES-2011-1122594', '2011-01-20', 'Darren Koutras', 'France'),\n",
       " ('ES-2011-3229667', '2011-01-21', 'Ryan Crowe', 'Germany'),\n",
       " ('ES-2011-3906248', '2011-01-22', 'Marc Harrigan', 'Belgium'),\n",
       " ('ES-2011-5497239', '2011-01-22', 'Paul Stevenson', 'Italy'),\n",
       " ('ES-2011-5158376', '2011-01-24', 'Joni Sundaresam', 'Italy'),\n",
       " ('IT-2011-2413417', '2011-01-24', 'Shirley Jackson', 'Italy'),\n",
       " ('ES-2011-3746760', '2011-01-25', 'Filia McAdams', 'Germany'),\n",
       " ('ES-2011-4880899', '2011-01-25', 'Aimee Bixby', 'France'),\n",
       " ('ES-2011-3429709', '2011-01-26', \"Patrick O'Brill\", 'Spain'),\n",
       " ('ES-2011-3940520', '2011-01-26', 'Michael Moore', 'Norway'),\n",
       " ('IT-2011-4233239', '2011-01-26', 'Allen Rosenblatt', 'Portugal'),\n",
       " ('IT-2011-4728742', '2011-01-28', 'Herbert Flentye', 'France'),\n",
       " ('ES-2011-2205486', '2011-02-01', 'Ionia McGrath', 'Germany'),\n",
       " ('ES-2011-5460465', '2011-02-01', 'Ralph Ritter', 'Italy'),\n",
       " ('ES-2011-1640672', '2011-02-02', 'Ken Heidel', 'Germany'),\n",
       " ('ES-2011-2511634', '2011-02-02', 'Ed Braxton', 'Spain'),\n",
       " ('ES-2011-2734651', '2011-02-02', 'Lori Olson', 'Spain'),\n",
       " ('ES-2011-3188488', '2011-02-02', 'Ken Lonsdale', 'Spain'),\n",
       " ('ES-2011-3642330', '2011-02-02', 'Jill Matthias', 'United Kingdom'),\n",
       " ('IT-2011-1877466', '2011-02-02', 'Evan Henry', 'France'),\n",
       " ('IT-2011-4488946', '2011-02-02', 'Ellis Ballard', 'Germany'),\n",
       " ('IT-2011-5645183', '2011-02-03', 'Max Ludwig', 'Sweden'),\n",
       " ('ES-2011-3354251', '2011-02-04', 'Dorothy Dickinson', 'France'),\n",
       " ('ES-2011-2367994', '2011-02-07', 'Susan MacKendrick', 'France'),\n",
       " ('ES-2011-2857462', '2011-02-07', 'George Bell', 'France'),\n",
       " ('ES-2011-2608306', '2011-02-08', 'Shaun Weien', 'Italy'),\n",
       " ('ES-2011-2722980', '2011-02-09', 'Hallie Redmond', 'Spain'),\n",
       " ('ES-2011-4342226', '2011-02-09', 'Clay Ludtke', 'Germany'),\n",
       " ('ES-2011-5389664', '2011-02-09', 'Nat Gilpin', 'Netherlands'),\n",
       " ('ES-2011-3818297', '2011-02-10', 'Jennifer Patt', 'Switzerland'),\n",
       " ('ES-2011-4632225', '2011-02-10', 'Michelle Ellison', 'Spain'),\n",
       " ('ES-2011-4744800', '2011-02-10', 'Chad McGuire', 'France'),\n",
       " ('IT-2011-1181278', '2011-02-10', 'Paul Lucas', 'Germany'),\n",
       " ('ES-2011-2543443', '2011-02-14', 'Helen Andreada', 'Spain'),\n",
       " ('IT-2011-1044550', '2011-02-15', 'Gary Zandusky', 'Netherlands'),\n",
       " ('IT-2011-3264984', '2011-02-15', 'Tracy Poddar', 'Spain'),\n",
       " ('IT-2011-1978668', '2011-02-16', 'Odella Nelson', 'France'),\n",
       " ('ES-2011-1720401', '2011-02-18', 'Ken Heidel', 'France'),\n",
       " ('ES-2011-5118812', '2011-02-18', 'Alan Barnes', 'France'),\n",
       " ('ES-2011-5987802', '2011-02-18', 'Daniel Lacy', 'Germany'),\n",
       " ('ES-2011-4052630', '2011-02-21', 'Zuschuss Donatelli', 'Italy'),\n",
       " ('IT-2011-3284965', '2011-02-21', 'Sarah Jordon', 'Switzerland'),\n",
       " ('ES-2011-3353574', '2011-02-22', 'Paul Gonzalez', 'Italy'),\n",
       " ('ES-2011-4187064', '2011-02-22', 'Julia Dunbar', 'France'),\n",
       " ('IT-2011-4664416', '2011-02-22', 'Christopher Martinez', 'Ireland'),\n",
       " ('IT-2011-2889545', '2011-02-23', 'Giulietta Dortch', 'Italy'),\n",
       " ('ES-2011-2377967', '2011-02-24', 'Julie Creighton', 'Belgium'),\n",
       " ('IT-2011-3203475', '2011-02-26', 'Bobby Odegard', 'Netherlands'),\n",
       " ('ES-2011-1416586', '2011-03-01', 'Ed Ludwig', 'Germany'),\n",
       " ('ES-2011-1517387', '2011-03-01', 'Chris McAfee', 'France'),\n",
       " ('ES-2011-1705541', '2011-03-01', 'Todd Sumrall', 'United Kingdom'),\n",
       " ('ES-2011-2010166', '2011-03-01', 'Lori Olson', 'Germany'),\n",
       " ('ES-2011-3227800', '2011-03-01', 'Jeremy Farry', 'Italy'),\n",
       " ('ES-2011-3893444', '2011-03-01', 'Tom Boeckenhauer', 'Germany'),\n",
       " ('ES-2011-1708225', '2011-03-03', 'David Philippe', 'Italy'),\n",
       " ('ES-2011-4410046', '2011-03-07', 'Toby Swindell', 'France'),\n",
       " ('ES-2011-2535754', '2011-03-08', 'Luke Weiss', 'Germany'),\n",
       " ('ES-2011-3832823', '2011-03-09', 'Janet Lee', 'Spain'),\n",
       " ('ES-2011-2711513', '2011-03-10', 'Tonja Turnell', 'Germany'),\n",
       " ('ES-2011-3468356', '2011-03-10', 'Anna Gayman', 'United Kingdom'),\n",
       " ('ES-2011-4509445', '2011-03-10', 'Bill Tyler', 'United Kingdom'),\n",
       " ('ES-2011-1001989', '2011-03-11', 'Maureen Fritzler', 'Germany'),\n",
       " ('ES-2011-4993136', '2011-03-11', \"Patrick O'Donnell\", 'France'),\n",
       " ('ES-2011-2933675', '2011-03-12', 'Sheri Gordon', 'Finland'),\n",
       " ('ES-2011-3979558', '2011-03-12', 'Heather Kirkland', 'Switzerland'),\n",
       " ('ES-2011-3003511', '2011-03-14', 'Candace McMahon', 'Germany'),\n",
       " ('ES-2011-3739047', '2011-03-14', 'Kelly Andreada', 'Germany'),\n",
       " ('ES-2011-4699764', '2011-03-14', 'Eugene Barchas', 'Germany'),\n",
       " ('ES-2011-4753236', '2011-03-14', 'Darren Budd', 'France'),\n",
       " ('IT-2011-1765076', '2011-03-15', 'Ricardo Emerson', 'United Kingdom'),\n",
       " ('ES-2011-2587200', '2011-03-16', 'Dorris liebe', 'Italy'),\n",
       " ('ES-2011-5099069', '2011-03-17', 'Yoseph Carroll', 'Germany'),\n",
       " ('ES-2011-1436413', '2011-03-18', 'Edward Nazzal', 'France'),\n",
       " ('ES-2011-5522951', '2011-03-18', 'Skye Norling', 'France'),\n",
       " ('ES-2011-1637634', '2011-03-21', 'Ed Jacobs', 'Norway'),\n",
       " ('ES-2011-3158300', '2011-03-21', 'Darrin Martin', 'Italy'),\n",
       " ('ES-2011-3528133', '2011-03-21', 'Aaron Bergman', 'Italy'),\n",
       " ('ES-2011-5083176', '2011-03-21', 'Aaron Smayling', 'Switzerland'),\n",
       " ('IT-2011-4381191', '2011-03-21', 'Giulietta Dortch', 'Netherlands'),\n",
       " ('ES-2011-3948308', '2011-03-22', 'Carol Darley', 'Germany'),\n",
       " ('ES-2011-5263174', '2011-03-23', 'Deborah Brumfield', 'Germany'),\n",
       " ('ES-2011-5504927', '2011-03-24', 'Tamara Willingham', 'France'),\n",
       " ('ES-2011-2140658', '2011-03-25', 'Thomas Brumley', 'United Kingdom'),\n",
       " ('ES-2011-3679996', '2011-03-25', 'Hunter Glantz', 'Germany'),\n",
       " ('ES-2011-5879155', '2011-03-25', 'Harold Pawlan', 'United Kingdom'),\n",
       " ('IT-2011-2306373', '2011-03-25', 'Bruce Degenhardt', 'Netherlands'),\n",
       " ('ES-2011-2266801', '2011-03-26', 'Jamie Frazer', 'France'),\n",
       " ('IT-2011-5078476', '2011-03-26', 'Thea Hendricks', 'Switzerland'),\n",
       " ('ES-2011-4814310', '2011-03-28', 'Scott Cohen', 'Italy'),\n",
       " ('IT-2011-4692210', '2011-03-28', 'Erica Hackney', 'Germany'),\n",
       " ('ES-2011-5610862', '2011-03-29', 'Justin Hirsh', 'Germany'),\n",
       " ('IT-2011-3424830', '2011-03-29', 'Sean Wendt', 'Germany'),\n",
       " ('ES-2011-5861038', '2011-03-30', 'Chris Selesnick', 'Germany'),\n",
       " ('ES-2011-3721082', '2011-03-31', 'Larry Blacks', 'Switzerland'),\n",
       " ('ES-2011-5287434', '2011-03-31', 'Sue Ann Reed', 'United Kingdom'),\n",
       " ('IT-2011-5233011', '2011-03-31', 'Todd Sumrall', 'Sweden'),\n",
       " ('ES-2011-4237527', '2011-04-01', 'Benjamin Patterson', 'Italy'),\n",
       " ('IT-2011-3468929', '2011-04-01', 'Aaron Smayling', 'Italy'),\n",
       " ('ES-2011-3072555', '2011-04-04', 'Ed Braxton', 'France'),\n",
       " ('ES-2011-4146320', '2011-04-04', 'Aaron Bergman', 'United Kingdom'),\n",
       " ('ES-2011-5430994', '2011-04-04', 'Andrew Gjertsen', 'France'),\n",
       " ('ES-2011-5185093', '2011-04-05', 'Andrew Gjertsen', 'France'),\n",
       " ('ES-2011-1386961', '2011-04-06', 'Magdelene Morse', 'France'),\n",
       " ('ES-2011-1444426', '2011-04-06', 'Max Engle', 'Switzerland'),\n",
       " ('ES-2011-4472015', '2011-04-07', 'Liz Willingham', 'France'),\n",
       " ('ES-2011-5244045', '2011-04-07', 'Filia McAdams', 'Germany'),\n",
       " ('IT-2011-1716540', '2011-04-09', 'Cindy Schnelling', 'Portugal'),\n",
       " ('ES-2011-3192576', '2011-04-11', 'Berenike Kampe', 'Germany'),\n",
       " ('ES-2011-3376060', '2011-04-11', 'Julia West', 'France'),\n",
       " ('ES-2011-4864498', '2011-04-12', 'Becky Castell', 'Spain'),\n",
       " ('IT-2011-2419493', '2011-04-12', 'Alice McCarthy', 'Sweden'),\n",
       " ('ES-2011-2266607', '2011-04-14', 'John Huston', 'United Kingdom'),\n",
       " ('ES-2011-5680692', '2011-04-14', 'Scot Wooten', 'Germany'),\n",
       " ('ES-2011-1525428', '2011-04-15', 'Alice McCarthy', 'France'),\n",
       " ('IT-2011-2779559', '2011-04-16', 'Mary Zewe', 'Netherlands'),\n",
       " ('ES-2011-2835499', '2011-04-18', 'Tom Stivers', 'Italy'),\n",
       " ('ES-2011-5178055', '2011-04-18', 'Dan Reichenbach', 'Germany'),\n",
       " ('IT-2011-5063480', '2011-04-18', 'Candace McMahon', 'France'),\n",
       " ('ES-2011-2696233', '2011-04-19', 'Laurel Elliston', 'France'),\n",
       " ('ES-2011-5498995', '2011-04-19', 'Ted Butterfield', 'France'),\n",
       " ('ES-2011-1520567', '2011-04-20', 'Scott Williamson', 'Germany'),\n",
       " ('ES-2011-5707696', '2011-04-20', 'Denise Leinenbach', 'United Kingdom'),\n",
       " ('IT-2011-1904026', '2011-04-20', 'Dan Lawera', 'Ireland'),\n",
       " ('ES-2011-1443340', '2011-04-21', 'Joy Smith', 'Spain'),\n",
       " ('ES-2011-4240706', '2011-04-22', 'Brendan Sweed', 'France'),\n",
       " ('IT-2011-2459755', '2011-04-25', 'Raymond Messe', 'Netherlands'),\n",
       " ('ES-2011-4016076', '2011-04-26', 'Ted Trevino', 'United Kingdom'),\n",
       " ('ES-2011-5090278', '2011-04-26', 'Phillip Breyer', 'Germany'),\n",
       " ('IT-2011-2185983', '2011-04-26', 'Roy Collins', 'France'),\n",
       " ('IT-2011-2852736', '2011-04-26', 'Linda Southworth', 'Italy'),\n",
       " ('ES-2011-2729747', '2011-04-27', 'Matt Collister', 'Spain'),\n",
       " ('ES-2011-4852530', '2011-04-27', \"Patrick O'Brill\", 'France'),\n",
       " ('IT-2011-2075149', '2011-04-27', 'Noah Childs', 'Netherlands'),\n",
       " ('IT-2011-3896198', '2011-04-27', 'Roy Franz?sisch', 'France'),\n",
       " ('ES-2011-2813459', '2011-04-28', 'Andy Reiter', 'France'),\n",
       " ('ES-2011-1140474', '2011-04-29', \"Russell D'Ascenzo\", 'Switzerland'),\n",
       " ('ES-2011-2755002', '2011-04-29', 'Speros Goranitis', 'France'),\n",
       " ('ES-2011-2776937', '2011-04-29', 'Chad McGuire', 'Italy'),\n",
       " ('ES-2011-2994694', '2011-04-29', 'Saphhira Shifley', 'Italy'),\n",
       " ('ES-2011-4920475', '2011-04-29', 'Greg Maxwell', 'France'),\n",
       " ('ES-2011-5957871', '2011-04-29', 'Carol Triggs', 'Belgium'),\n",
       " ('ES-2011-2111237', '2011-05-02', 'Bill Donatelli', 'France'),\n",
       " ('ES-2011-4549921', '2011-05-02', 'Jay Fein', 'Germany'),\n",
       " ('ES-2011-2132896', '2011-05-03', 'Muhammed MacIntyre', 'Germany'),\n",
       " ('ES-2011-2087362', '2011-05-04', 'Marc Harrigan', 'Germany'),\n",
       " ('ES-2011-3249098', '2011-05-04', 'Sarah Foster', 'United Kingdom'),\n",
       " ('ES-2011-3431770', '2011-05-04', 'Stuart Calhoun', 'Germany'),\n",
       " ('ES-2011-5158527', '2011-05-04', 'Evan Minnotte', 'Germany'),\n",
       " ('ES-2011-5276461', '2011-05-04', 'Denny Joy', 'Germany'),\n",
       " ('ES-2011-5793145', '2011-05-05', 'Steve Chapman', 'Austria'),\n",
       " ('IT-2011-2558119', '2011-05-05', 'Tonja Turnell', 'Germany'),\n",
       " ('ES-2011-5867278', '2011-05-06', \"Rose O'Brian\", 'United Kingdom'),\n",
       " ('ES-2011-3403155', '2011-05-07', 'Tracy Blumstein', 'Spain'),\n",
       " ('IT-2011-3053644', '2011-05-07', 'Dianna Arnett', 'Netherlands'),\n",
       " ('IT-2011-2204228', '2011-05-09', 'Peter Fuller', 'Sweden'),\n",
       " ('IT-2011-5643162', '2011-05-09', 'Kristen Hastings', 'Portugal'),\n",
       " ('ES-2011-3793897', '2011-05-10', 'Clay Cheatham', 'France'),\n",
       " ('ES-2011-4021337', '2011-05-10', 'Michelle Moray', 'United Kingdom'),\n",
       " ('IT-2011-1460998', '2011-05-10', 'Bart Watters', 'Spain'),\n",
       " ('IT-2011-2660642', '2011-05-10', 'Michelle Lonsdale', 'Sweden'),\n",
       " ('IT-2011-4599620', '2011-05-11', 'Peter B?hler', 'Netherlands'),\n",
       " ('ES-2011-3051209', '2011-05-12', 'Karen Bern', 'Netherlands'),\n",
       " ('IT-2011-1939979', '2011-05-12', 'Mike Pelletier', 'France'),\n",
       " ('ES-2011-1589842', '2011-05-13', 'Anthony Rawles', 'Italy'),\n",
       " ('ES-2011-3814733', '2011-05-13', 'Eugene Hildebrand', 'France'),\n",
       " ('ES-2011-3933819', '2011-05-15', 'Kelly Williams', 'France'),\n",
       " ('IT-2011-3667641', '2011-05-16', 'William Brown', 'Ireland'),\n",
       " ('ES-2011-5953080', '2011-05-17', 'Dana Kaydos', 'Italy'),\n",
       " ('ES-2011-2210233', '2011-05-18', 'Dennis Pardue', 'France'),\n",
       " ('ES-2011-2942755', '2011-05-18', 'Matt Hagelstein', 'Germany'),\n",
       " ('ES-2011-4932761', '2011-05-18', \"Sean O'Donnell\", 'Austria'),\n",
       " ('IT-2011-5001014', '2011-05-18', 'Ed Jacobs', 'Italy'),\n",
       " ('ES-2011-3321216', '2011-05-19', 'Pamela Coakley', 'Spain'),\n",
       " ('ES-2011-4517621', '2011-05-19', 'Katherine Murray', 'France'),\n",
       " ('ES-2011-2333773', '2011-05-21', 'Grant Thornton', 'Italy'),\n",
       " ('IT-2011-1521406', '2011-05-21', 'Adam Shillingsburg', 'Netherlands'),\n",
       " ('IT-2011-1780558', '2011-05-25', 'Julie Creighton', 'Italy'),\n",
       " ('ES-2011-3366039', '2011-05-26', 'Shahid Hopkins', 'France'),\n",
       " ('ES-2011-3517120', '2011-05-26', 'Gene Hale', 'United Kingdom'),\n",
       " ('ES-2011-5540627', '2011-05-26', 'Cari Schnelling', 'United Kingdom'),\n",
       " ('ES-2011-1657853', '2011-05-27', 'David Philippe', 'Germany'),\n",
       " ('ES-2011-3846264', '2011-05-27', 'Lisa Hazard', 'Germany'),\n",
       " ('IT-2011-3515682', '2011-05-27', 'Matt Collister', 'Sweden'),\n",
       " ('ES-2011-2520395', '2011-05-28', 'Joy Bell-', 'United Kingdom'),\n",
       " ('IT-2011-5629016', '2011-05-30', 'Toby Carlisle', 'France'),\n",
       " ('IT-2011-3076849', '2011-05-31', 'Jocasta Rupert', 'Italy'),\n",
       " ('ES-2011-1010958', '2011-06-01', 'Liz Thompson', 'France'),\n",
       " ('ES-2011-1441570', '2011-06-01', 'Monica Federle', 'France'),\n",
       " ('ES-2011-2801336', '2011-06-01', 'Deborah Brumfield', 'Spain'),\n",
       " ('ES-2011-3108517', '2011-06-01', 'Matt Hagelstein', 'Ireland'),\n",
       " ('ES-2011-4040727', '2011-06-01', 'Anthony Johnson', 'United Kingdom'),\n",
       " ('ES-2011-5940123', '2011-06-01', 'Mike Caudle', 'United Kingdom'),\n",
       " ('ES-2011-3525697', '2011-06-02', 'Jack Lebron', 'Italy'),\n",
       " ('ES-2011-3684586', '2011-06-02', 'Benjamin Venier', 'United Kingdom'),\n",
       " ('IT-2011-4812190', '2011-06-02', 'Todd Sumrall', 'Germany'),\n",
       " ('IT-2011-5193547', '2011-06-02', 'Steven Ward', 'Netherlands'),\n",
       " ('IT-2011-5495847', '2011-06-03', 'Nicole Hansen', 'France'),\n",
       " ('ES-2011-2486841', '2011-06-04', 'Grace Kelly', 'United Kingdom'),\n",
       " ('IT-2011-4603506', '2011-06-04', 'Michael Grace', 'Germany'),\n",
       " ('ES-2011-2464932', '2011-06-06', 'Bill Stewart', 'France'),\n",
       " ('ES-2011-3630624', '2011-06-06', 'Muhammed Lee', 'Austria'),\n",
       " ('ES-2011-3876549', '2011-06-06', 'Sarah Brown', 'Germany'),\n",
       " ('ES-2011-4767717', '2011-06-06', 'Anna Chung', 'France'),\n",
       " ('ES-2011-5444769', '2011-06-06', 'Erica Hernandez', 'United Kingdom'),\n",
       " ('ES-2011-5754966', '2011-06-06', 'Dean Braden', 'United Kingdom'),\n",
       " ('IT-2011-1152860', '2011-06-06', 'Carl Ludwig', 'Ireland'),\n",
       " ('ES-2011-1137137', '2011-06-07', 'Neil Knudson', 'France'),\n",
       " ('ES-2011-1455810', '2011-06-07', 'Valerie Takahito', 'France'),\n",
       " ('ES-2011-1748043', '2011-06-07', 'Nathan Cano', 'Germany'),\n",
       " ('ES-2011-4691256', '2011-06-07', 'Michael Kennedy', 'France'),\n",
       " ('ES-2011-4845310', '2011-06-07', 'Eva Jacobs', 'United Kingdom'),\n",
       " ('ES-2011-5814037', '2011-06-07', 'Rick Huthwaite', 'United Kingdom'),\n",
       " ('IT-2011-2011704', '2011-06-07', 'Emily Ducich', 'Italy'),\n",
       " ('IT-2011-2159764', '2011-06-07', 'Jim Sink', 'United Kingdom'),\n",
       " ('ES-2011-2399281', '2011-06-08', 'Angele Hood', 'Belgium'),\n",
       " ('ES-2011-3540276', '2011-06-08', 'Allen Rosenblatt', 'Germany'),\n",
       " ('ES-2011-3953366', '2011-06-08', 'Anna Chung', 'United Kingdom'),\n",
       " ('ES-2011-4077297', '2011-06-08', 'Frank Olsen', 'Spain'),\n",
       " ('ES-2011-2858219', '2011-06-09', 'Ross DeVincentis', 'Germany'),\n",
       " ('ES-2011-3862536', '2011-06-09', 'Harold Dahlen', 'Germany'),\n",
       " ('ES-2011-4351826', '2011-06-09', 'Sally Hughsby', 'Germany'),\n",
       " ('IT-2011-3466484', '2011-06-09', 'Guy Phonely', 'France'),\n",
       " ('IT-2011-5721470', '2011-06-09', 'Russell Applegate', 'France'),\n",
       " ('ES-2011-3972371', '2011-06-10', 'Steve Chapman', 'United Kingdom'),\n",
       " ('IT-2011-2975588', '2011-06-10', 'Marc Crier', 'France'),\n",
       " ('IT-2011-4648014', '2011-06-10', 'Adam Hart', 'Italy'),\n",
       " ('ES-2011-1858721', '2011-06-11', 'Sung Chung', 'Austria'),\n",
       " ('ES-2011-2542245', '2011-06-11', 'Todd Boyes', 'Italy'),\n",
       " ('ES-2011-1276768', '2011-06-13', \"Jack O'Briant\", 'France'),\n",
       " ('ES-2011-1749151', '2011-06-13', 'Lena Cacioppo', 'France'),\n",
       " ('ES-2011-5039850', '2011-06-13', 'Harold Engle', 'Belgium'),\n",
       " ('ES-2011-5596924', '2011-06-13', 'Sally Matthias', 'Italy'),\n",
       " ('ES-2011-1418466', '2011-06-14', 'Scot Wooten', 'Germany'),\n",
       " ('ES-2011-3398154', '2011-06-14', 'Eugene Moren', 'United Kingdom'),\n",
       " ('ES-2011-4815184', '2011-06-14', 'Randy Bradley', 'United Kingdom'),\n",
       " ('ES-2011-1536399', '2011-06-15', 'Theresa Swint', 'Austria'),\n",
       " ('ES-2011-3286627', '2011-06-15', 'Natalie Fritzler', 'Sweden'),\n",
       " ('IT-2011-2911544', '2011-06-15', 'Scott Williamson', 'France'),\n",
       " ('ES-2011-1586186', '2011-06-16', 'Vivek Grady', 'Denmark'),\n",
       " ('ES-2011-4240072', '2011-06-16', 'Jill Fjeld', 'Italy'),\n",
       " ('ES-2011-4351366', '2011-06-16', 'Rick Huthwaite', 'United Kingdom'),\n",
       " ('ES-2011-4741318', '2011-06-16', 'Karl Braun', 'United Kingdom'),\n",
       " ('IT-2011-1925845', '2011-06-16', 'Jeremy Ellison', 'United Kingdom'),\n",
       " ('ES-2011-1951083', '2011-06-17', 'Maria Etezadi', 'France'),\n",
       " ('ES-2011-5952460', '2011-06-17', 'Janet Molinari', 'France'),\n",
       " ('IT-2011-4320455', '2011-06-17', 'Aaron Hawkins', 'France'),\n",
       " ('IT-2011-4913699', '2011-06-17', 'Lindsay Shagiari', 'United Kingdom'),\n",
       " ('IT-2011-5810579', '2011-06-17', 'Jack Garza', 'Sweden'),\n",
       " ('ES-2011-1974768', '2011-06-18', 'Jay Fein', 'Austria'),\n",
       " ('ES-2011-5273102', '2011-06-18', 'Joy Daniels', 'Spain'),\n",
       " ('IT-2011-4752666', '2011-06-18', 'Randy Bradley', 'Spain'),\n",
       " ('ES-2011-2931507', '2011-06-20', 'Suzanne McNair', 'Italy'),\n",
       " ('ES-2011-4806518', '2011-06-20', 'Brendan Dodson', 'United Kingdom'),\n",
       " ('IT-2011-4726397', '2011-06-20', 'Joseph Holt', 'France'),\n",
       " ('ES-2011-2621167', '2011-06-21', 'Joseph Airdo', 'United Kingdom'),\n",
       " ('ES-2011-1259965', '2011-06-22', 'Joseph Airdo', 'Italy'),\n",
       " ('ES-2011-1868803', '2011-06-22', 'Chad Sievert', 'Germany'),\n",
       " ('ES-2011-2413369', '2011-06-22', 'Debra Catini', 'Germany'),\n",
       " ('ES-2011-3654318', '2011-06-22', 'Allen Rosenblatt', 'Austria'),\n",
       " ('ES-2011-4154402', '2011-06-22', 'Cynthia Voltz', 'Germany'),\n",
       " ('IT-2011-5781543', '2011-06-22', 'Stewart Carmichael', 'Netherlands'),\n",
       " ('ES-2011-1562184', '2011-06-24', 'William Brown', 'France'),\n",
       " ('ES-2011-5867473', '2011-06-24', 'Arthur Gainer', 'Spain'),\n",
       " ('IT-2011-1887131', '2011-06-24', 'Lisa DeCherney', 'Netherlands'),\n",
       " ('IT-2011-2289083', '2011-06-24', 'Tom Stivers', 'Germany'),\n",
       " ('IT-2011-3462831', '2011-06-25', 'Sung Pak', 'Sweden'),\n",
       " ('ES-2011-1630549', '2011-06-27', 'Jill Matthias', 'France'),\n",
       " ('ES-2011-1689666', '2011-06-27', 'Frank Olsen', 'Austria'),\n",
       " ('ES-2011-1702031', '2011-06-27', 'Resi P?lking', 'Spain'),\n",
       " ('ES-2011-1815211', '2011-06-27', 'Aaron Smayling', 'France'),\n",
       " ('ES-2011-2071029', '2011-06-27', 'Steve Carroll', 'Italy'),\n",
       " ('ES-2011-5253790', '2011-06-27', 'Ruben Ausman', 'Germany'),\n",
       " ('ES-2011-5499567', '2011-06-27', 'Sung Pak', 'France'),\n",
       " ('IT-2011-5084706', '2011-06-27', 'Ken Black', 'Italy'),\n",
       " ('ES-2011-2736116', '2011-06-28', 'Daniel Raglin', 'Germany'),\n",
       " ('ES-2011-2911640', '2011-06-28', 'Shaun Chance', 'Spain'),\n",
       " ('ES-2011-3276063', '2011-06-28', 'Lauren Leatherbury', 'United Kingdom'),\n",
       " ('ES-2011-3978514', '2011-06-28', 'Julie Prescott', 'Spain'),\n",
       " ('ES-2011-5298002', '2011-06-28', 'Cynthia Voltz', 'France'),\n",
       " ('IT-2011-4028329', '2011-06-28', 'Jay Fein', 'United Kingdom'),\n",
       " ('ES-2011-3080574', '2011-06-29', 'Melanie Seite', 'France'),\n",
       " ('IT-2011-5334146', '2011-06-29', 'Keith Herrera', 'United Kingdom'),\n",
       " ('ES-2011-5729514', '2011-07-01', 'Justin Hirsh', 'United Kingdom'),\n",
       " ('IT-2011-1260172', '2011-07-02', 'Tamara Dahlen', 'Ireland'),\n",
       " ('ES-2011-3965225', '2011-07-06', 'Ed Braxton', 'France'),\n",
       " ('ES-2011-4821517', '2011-07-06', 'Mark Packer', 'Germany'),\n",
       " ('ES-2011-5743387', '2011-07-06', 'Claire Gute', 'United Kingdom'),\n",
       " ('ES-2011-3814488', '2011-07-07', 'Hilary Holden', 'Germany'),\n",
       " ('ES-2011-3616229', '2011-07-08', 'Jason Gross', 'France'),\n",
       " ('ES-2011-4514717', '2011-07-08', 'Ricardo Sperren', 'Germany'),\n",
       " ('ES-2011-1322522', '2011-07-09', 'Joy Daniels', 'France'),\n",
       " ('ES-2011-5693995', '2011-07-09', 'Michelle Moray', 'Austria'),\n",
       " ('ES-2011-3975285', '2011-07-11', 'Dario Medina', 'Germany'),\n",
       " ('ES-2011-1084683', '2011-07-12', 'Frank Olsen', 'Germany'),\n",
       " ('ES-2011-2625537', '2011-07-12', 'Lori Olson', 'Germany'),\n",
       " ('ES-2011-4384804', '2011-07-12', 'Christy Brittain', 'Italy'),\n",
       " ('IT-2011-4004093', '2011-07-12', 'Sean Wendt', 'United Kingdom'),\n",
       " ('ES-2011-1849602', '2011-07-13', 'Delfina Latchford', 'United Kingdom'),\n",
       " ('ES-2011-1210983', '2011-07-14', 'Pauline Webber', 'Spain'),\n",
       " ('IT-2011-1646767', '2011-07-14', 'Melanie Seite', 'United Kingdom'),\n",
       " ('ES-2011-5605335', '2011-07-16', 'Pamela Stobb', 'Austria'),\n",
       " ('ES-2011-1647855', '2011-07-18', 'Doug Bickford', 'France'),\n",
       " ('ES-2011-4314290', '2011-07-18', 'Steven Roelle', 'United Kingdom'),\n",
       " ('ES-2011-2410472', '2011-07-20', 'Tiffany House', 'Finland'),\n",
       " ('IT-2011-2226067', '2011-07-20', 'Alex Grayson', 'United Kingdom'),\n",
       " ('IT-2011-5521557', '2011-07-21', 'Dan Lawera', 'Ireland'),\n",
       " ('ES-2011-1656997', '2011-07-22', 'Nick Zandusky', 'United Kingdom'),\n",
       " ('IT-2011-4977940', '2011-07-24', 'Kean Thornton', 'Portugal'),\n",
       " ('ES-2011-5239101', '2011-07-26', 'Maureen Gnade', 'Germany'),\n",
       " ('ES-2011-1916591', '2011-07-27', 'Dan Reichenbach', 'Spain'),\n",
       " ('ES-2011-3074997', '2011-07-27', 'Anna H?berlin', 'Italy'),\n",
       " ('ES-2011-4024349', '2011-07-27', 'Bryan Davis', 'France'),\n",
       " ('IT-2011-3202706', '2011-07-27', 'Eudokia Martin', 'Italy'),\n",
       " ('IT-2011-5718509', '2011-07-27', 'Gene Hale', 'Italy'),\n",
       " ('ES-2011-3954575', '2011-07-28', 'Mathew Reese', 'France'),\n",
       " ('IT-2011-4685233', '2011-07-28', 'Speros Goranitis', 'Netherlands'),\n",
       " ('ES-2011-2041772', '2011-07-29', 'Corey Catlett', 'Germany'),\n",
       " ('ES-2011-3864297', '2011-07-29', 'Clytie Kelty', 'Germany'),\n",
       " ('IT-2011-1626202', '2011-07-29', 'Aaron Hawkins', 'United Kingdom'),\n",
       " ('ES-2011-4261696', '2011-07-31', 'Muhammed MacIntyre', 'Belgium'),\n",
       " ('ES-2011-4805316', '2011-07-31', 'Emily Phan', 'Germany'),\n",
       " ('ES-2011-2264751', '2011-08-01', 'Carol Triggs', 'France'),\n",
       " ('ES-2011-5532122', '2011-08-01', 'Ross DeVincentis', 'Germany'),\n",
       " ('ES-2011-4188705', '2011-08-02', 'Nancy Lomonaco', 'France'),\n",
       " ('ES-2011-1679370', '2011-08-03', 'Ruben Ausman', 'United Kingdom'),\n",
       " ('ES-2011-2230157', '2011-08-03', 'Jason Gross', 'France'),\n",
       " ('ES-2011-2954601', '2011-08-03', 'George Ashbrook', 'Germany'),\n",
       " ('ES-2011-5585896', '2011-08-03', 'Khloe Miller', 'France'),\n",
       " ('IT-2011-3760449', '2011-08-03', 'Denise Leinenbach', 'Germany'),\n",
       " ('ES-2011-2469850', '2011-08-04', 'Michelle Lonsdale', 'France'),\n",
       " ('ES-2011-5335946', '2011-08-04', 'Ryan Crowe', 'United Kingdom'),\n",
       " ('ES-2011-5421072', '2011-08-04', 'Barry Weirich', 'Germany'),\n",
       " ('ES-2011-3159486', '2011-08-05', 'Joy Daniels', 'Switzerland'),\n",
       " ('ES-2011-4256146', '2011-08-05', 'Toby Gnade', 'Austria'),\n",
       " ('ES-2011-5699335', '2011-08-05', 'Barry Weirich', 'Germany'),\n",
       " ('IT-2011-3708838', '2011-08-05', 'Bobby Odegard', 'Netherlands'),\n",
       " ('ES-2011-5666533', '2011-08-06', 'Karl Braun', 'France'),\n",
       " ('ES-2011-4405425', '2011-08-07', 'Allen Rosenblatt', 'Austria'),\n",
       " ('ES-2011-1591803', '2011-08-08', 'Jason Fortune-', 'France'),\n",
       " ('ES-2011-4154564', '2011-08-08', 'Victor Preis', 'France'),\n",
       " ('ES-2011-1417751', '2011-08-09', 'Keith Herrera', 'France'),\n",
       " ('ES-2011-1480594', '2011-08-09', 'Mitch Willingham', 'France'),\n",
       " ('ES-2011-2585328', '2011-08-09', 'Khloe Miller', 'Germany'),\n",
       " ('ES-2011-2695590', '2011-08-09', 'Karen Seio', 'United Kingdom'),\n",
       " ('ES-2011-2720769', '2011-08-09', 'Christine Kargatis', 'Germany'),\n",
       " ('ES-2011-3670390', '2011-08-09', 'Art Foster', 'Italy'),\n",
       " ('ES-2011-5389104', '2011-08-09', 'Ralph Ritter', 'Germany'),\n",
       " ('ES-2011-5775498', '2011-08-09', 'Jesus Ocampo', 'France'),\n",
       " ('ES-2011-5803751', '2011-08-09', 'Corey Roper', 'Spain'),\n",
       " ('ES-2011-1761215', '2011-08-10', 'Alan Haines', 'Italy'),\n",
       " ('ES-2011-2257437', '2011-08-10', 'Becky Pak', 'United Kingdom'),\n",
       " ('ES-2011-2969148', '2011-08-11', 'Janet Martin', 'Italy'),\n",
       " ('ES-2011-5539778', '2011-08-11', 'Denny Ordway', 'Germany'),\n",
       " ('ES-2011-5579266', '2011-08-11', 'Paul Knutson', 'Germany'),\n",
       " ('ES-2011-5644297', '2011-08-11', 'Guy Thornton', 'Italy'),\n",
       " ('ES-2011-1886093', '2011-08-12', 'Maya Herman', 'Austria'),\n",
       " ('ES-2011-2087720', '2011-08-12', 'Christy Brittain', 'United Kingdom'),\n",
       " ('ES-2011-4606457', '2011-08-12', 'Ross DeVincentis', 'Spain'),\n",
       " ('ES-2011-5827080', '2011-08-12', 'Jeremy Pistek', 'United Kingdom'),\n",
       " ('IT-2011-4318512', '2011-08-12', 'Shirley Daniels', 'Italy'),\n",
       " ('ES-2011-1579115', '2011-08-15', 'Matt Collins', 'Germany'),\n",
       " ('ES-2011-2302372', '2011-08-15', 'Jill Fjeld', 'United Kingdom'),\n",
       " ('ES-2011-2324896', '2011-08-15', 'Frank Carlisle', 'United Kingdom'),\n",
       " ('ES-2011-2571502', '2011-08-15', 'Paul Gonzalez', 'Italy'),\n",
       " ('ES-2011-4942506', '2011-08-15', 'Evan Henry', 'Germany'),\n",
       " ('ES-2011-5630309', '2011-08-15', 'Paul Stevenson', 'United Kingdom'),\n",
       " ('ES-2011-1712442', '2011-08-16', 'Alice McCarthy', 'United Kingdom'),\n",
       " ('ES-2011-1881074', '2011-08-16', 'Muhammed Lee', 'Germany'),\n",
       " ('ES-2011-3215372', '2011-08-16', 'Alyssa Crouse', 'Spain'),\n",
       " ('ES-2011-4292823', '2011-08-16', 'Doug Bickford', 'Germany'),\n",
       " ('ES-2011-4421897', '2011-08-17', 'Michael Oakman', 'Spain'),\n",
       " ('IT-2011-1298611', '2011-08-17', 'Delfina Latchford', 'Netherlands'),\n",
       " ('ES-2011-1930667', '2011-08-18', 'Gary Hansen', 'United Kingdom'),\n",
       " ('ES-2011-2720307', '2011-08-18', 'Stuart Calhoun', 'France'),\n",
       " ('ES-2011-3737786', '2011-08-18', 'Paul Prost', 'Germany'),\n",
       " ('IT-2011-1088680', '2011-08-18', 'Jeremy Lonsdale', 'Netherlands'),\n",
       " ('IT-2011-2753313', '2011-08-18', 'Nick Radford', 'United Kingdom'),\n",
       " ('ES-2011-2246685', '2011-08-19', 'Rick Reed', 'Spain'),\n",
       " ('ES-2011-2566881', '2011-08-21', 'Frank Olsen', 'France'),\n",
       " ('ES-2011-5340910', '2011-08-21', 'Pamela Stobb', 'Spain'),\n",
       " ('IT-2011-5361439', '2011-08-21', 'Tamara Manning', 'Switzerland'),\n",
       " ('ES-2011-3937871', '2011-08-22', 'Logan Currie', 'United Kingdom'),\n",
       " ('ES-2011-1950038', '2011-08-23', 'Chris Cortes', 'France'),\n",
       " ('ES-2011-2225020', '2011-08-23', 'Fred Chung', 'United Kingdom'),\n",
       " ('ES-2011-4372047', '2011-08-23', 'Kristina Nunn', 'France'),\n",
       " ('IT-2011-5808077', '2011-08-23', 'Alan Hwang', 'Netherlands'),\n",
       " ('ES-2011-1088527', '2011-08-24', 'Bryan Mills', 'France'),\n",
       " ('ES-2011-4351964', '2011-08-24', 'Clay Cheatham', 'United Kingdom'),\n",
       " ('IT-2011-1471798', '2011-08-24', 'Caroline Jumper', 'Italy'),\n",
       " ('IT-2011-2506333', '2011-08-24', 'Denise Monton', 'Italy'),\n",
       " ('ES-2011-1494790', '2011-08-25', 'Lela Donovan', 'Germany'),\n",
       " ('ES-2011-2337809', '2011-08-25', 'Tim Brockman', 'France'),\n",
       " ('ES-2011-2972550', '2011-08-25', 'Pauline Chand', 'Italy'),\n",
       " ('ES-2011-4942190', '2011-08-25', 'Paul MacIntyre', 'France'),\n",
       " ('ES-2011-5483343', '2011-08-25', 'Thomas Seio', 'United Kingdom'),\n",
       " ('IT-2011-1549226', '2011-08-25', 'Denise Leinenbach', 'Netherlands'),\n",
       " ('ES-2011-3711955', '2011-08-26', 'Sanjit Engle', 'Spain'),\n",
       " ('ES-2011-4156324', '2011-08-26', 'Shahid Collister', 'United Kingdom'),\n",
       " ('ES-2011-4801998', '2011-08-26', 'Sanjit Engle', 'France'),\n",
       " ('ES-2011-4894552', '2011-08-26', 'Eleni McCrary', 'Germany'),\n",
       " ('ES-2011-5235241', '2011-08-26', 'Thomas Boland', 'France'),\n",
       " ('ES-2011-3081212', '2011-08-27', 'Victoria Wilson', 'Finland'),\n",
       " ('ES-2011-3945713', '2011-08-27', \"Doug O'Connell\", 'Italy'),\n",
       " ('ES-2011-4776761', '2011-08-27', 'Lela Donovan', 'Germany'),\n",
       " ('ES-2011-5227949', '2011-08-27', 'Tamara Manning', 'Italy'),\n",
       " ('IT-2011-3941469', '2011-08-29', 'Lisa Hazard', 'Netherlands'),\n",
       " ('IT-2011-5115918', '2011-08-29', 'Ken Heidel', 'Ireland'),\n",
       " ('ES-2011-3734581', '2011-08-30', \"Anthony O'Donnell\", 'United Kingdom'),\n",
       " ('ES-2011-4184901', '2011-08-30', 'Aaron Bergman', 'Italy'),\n",
       " ('IT-2011-1097469', '2011-08-30', 'Art Foster', 'France'),\n",
       " ('IT-2011-4045107', '2011-08-30', 'Michael Grace', 'Ireland'),\n",
       " ('ES-2011-1401137', '2011-08-31', \"Doug O'Connell\", 'Germany'),\n",
       " ('ES-2011-1539879', '2011-08-31', 'Carol Darley', 'Germany'),\n",
       " ('ES-2011-2123345', '2011-09-01', 'Daniel Byrd', 'United Kingdom'),\n",
       " ('IT-2011-4081442', '2011-09-01', 'Fred Hopkins', 'Norway'),\n",
       " ('IT-2011-4626649', '2011-09-01', 'Parhena Norris', 'Germany'),\n",
       " ('ES-2011-2681822', '2011-09-02', 'Cari MacIntyre', 'Germany'),\n",
       " ('ES-2011-2886437', '2011-09-02', 'Trudy Schmidt', 'Austria'),\n",
       " ('ES-2011-3577688', '2011-09-02', 'Jennifer Jackson', 'France'),\n",
       " ('ES-2011-1818378', '2011-09-03', 'Ben Ferrer', 'Norway'),\n",
       " ('IT-2011-2668777', '2011-09-03', 'Eric Murdock', 'Sweden'),\n",
       " ('ES-2011-4557691', '2011-09-05', 'Karl Braun', 'France'),\n",
       " ('ES-2011-1875818', '2011-09-06', 'Brian Moss', 'France'),\n",
       " ('ES-2011-2382517', '2011-09-06', 'Mathew Reese', 'Italy'),\n",
       " ('ES-2011-5729876', '2011-09-06', \"Sean O'Donnell\", 'United Kingdom'),\n",
       " ('IT-2011-2800134', '2011-09-06', 'Anna Gayman', 'Netherlands'),\n",
       " ('ES-2011-2627929', '2011-09-07', 'Grant Thornton', 'Spain'),\n",
       " ('ES-2011-2187197', '2011-09-08', 'David Philippe', 'France'),\n",
       " ('ES-2011-2619050', '2011-09-08', 'Jonathan Howell', 'Germany'),\n",
       " ('ES-2011-3248922', '2011-09-08', 'Elpida Rittenbach', 'Spain'),\n",
       " ('ES-2011-3448503', '2011-09-08', 'Bryan Davis', 'France'),\n",
       " ('ES-2011-2613634', '2011-09-09', 'Muhammed Yedwab', 'Austria'),\n",
       " ('ES-2011-5496709', '2011-09-09', 'Cynthia Delaney', 'Italy'),\n",
       " ('ES-2011-2069466', '2011-09-10', 'Doug Bickford', 'Germany'),\n",
       " ('ES-2011-1458159', '2011-09-12', 'Rick Wilson', 'Spain'),\n",
       " ('IT-2011-3157915', '2011-09-12', 'Rob Williams', 'Ireland'),\n",
       " ('IT-2011-3267917', '2011-09-12', 'Thomas Seio', 'Netherlands'),\n",
       " ('ES-2011-2979959', '2011-09-13', 'Shirley Jackson', 'Germany'),\n",
       " ('ES-2011-5265774', '2011-09-13', 'Art Foster', 'Italy'),\n",
       " ('ES-2011-2130034', '2011-09-14', 'Denise Monton', 'United Kingdom'),\n",
       " ('ES-2011-2660418', '2011-09-14', 'Ted Trevino', 'United Kingdom'),\n",
       " ('ES-2011-3284889', '2011-09-14', 'Lindsay Williams', 'France'),\n",
       " ('ES-2011-4145029', '2011-09-14', 'Corey-Lock', 'United Kingdom'),\n",
       " ('ES-2011-4508489', '2011-09-14', 'Becky Pak', 'Denmark'),\n",
       " ('ES-2011-5177366', '2011-09-14', 'Kristen Hastings', 'Germany'),\n",
       " ('IT-2011-5663038', '2011-09-14', 'Bradley Drucker', 'France'),\n",
       " ('ES-2011-1770042', '2011-09-15', 'Cathy Hwang', 'Germany'),\n",
       " ('ES-2011-3848020', '2011-09-15', 'Doug Jacobs', 'Spain'),\n",
       " ('ES-2011-4587082', '2011-09-15', 'Juliana Krohn', 'Spain'),\n",
       " ('IT-2011-1165265', '2011-09-15', 'Toby Gnade', 'Ireland'),\n",
       " ('IT-2011-1327965', '2011-09-15', 'Duane Benoit', 'United Kingdom'),\n",
       " ('IT-2011-3586982', '2011-09-15', \"Jack O'Briant\", 'Germany'),\n",
       " ('ES-2011-2592061', '2011-09-16', 'Fred Harton', 'United Kingdom'),\n",
       " ('ES-2011-2846240', '2011-09-16', 'Joni Blumstein', 'Netherlands'),\n",
       " ('ES-2011-4507133', '2011-09-16', 'Andrew Roberts', 'Germany'),\n",
       " ('ES-2011-5380791', '2011-09-16', 'John Castell', 'Germany'),\n",
       " ('ES-2011-3202814', '2011-09-17', 'Odella Nelson', 'Italy'),\n",
       " ('ES-2011-3285117', '2011-09-17', 'Katrina Willman', 'Germany'),\n",
       " ('ES-2011-5608714', '2011-09-18', 'Craig Carroll', 'United Kingdom'),\n",
       " ('ES-2011-1647523', '2011-09-19', 'Thomas Thornton', 'France'),\n",
       " ('ES-2011-1653919', '2011-09-19', 'Ed Braxton', 'Germany'),\n",
       " ('ES-2011-4314394', '2011-09-19', 'William Brown', 'United Kingdom'),\n",
       " ('ES-2011-5649807', '2011-09-19', 'Roy Phan', 'Spain'),\n",
       " ('ES-2011-5957496', '2011-09-19', 'Sally Matthias', 'France'),\n",
       " ('IT-2011-4311428', '2011-09-19', 'Dean percer', 'United Kingdom'),\n",
       " ('ES-2011-1419565', '2011-09-20', 'Karen Daniels', 'Germany'),\n",
       " ('ES-2011-1426891', '2011-09-20', 'Dave Brooks', 'Germany'),\n",
       " ('ES-2011-1941919', '2011-09-20', 'Nick Crebassa', 'United Kingdom'),\n",
       " ('ES-2011-2021080', '2011-09-20', 'Chloris Kastensmidt', 'United Kingdom'),\n",
       " ('ES-2011-3714548', '2011-09-20', 'Marina Lichtenstein', 'Italy'),\n",
       " ('ES-2011-5083754', '2011-09-20', 'Peter B?hler', 'United Kingdom'),\n",
       " ('ES-2011-5315807', '2011-09-20', 'Sonia Cooley', 'France'),\n",
       " ('ES-2011-2945927', '2011-09-21', 'Pamela Coakley', 'Italy'),\n",
       " ('IT-2011-4771701', '2011-09-21', 'Tamara Willingham', 'France'),\n",
       " ('ES-2011-3369614', '2011-09-22', 'Hunter Glantz', 'United Kingdom'),\n",
       " ('ES-2011-4709704', '2011-09-22', 'Sonia Sunley', 'Germany'),\n",
       " ('ES-2011-5796288', '2011-09-22', 'Hunter Lopez', 'Germany'),\n",
       " ('ES-2011-5858551', '2011-09-22', 'Hilary Holden', 'France'),\n",
       " ('ES-2011-5912381', '2011-09-22', 'Bill Eplett', 'Italy'),\n",
       " ('ES-2011-3667388', '2011-09-23', 'Becky Martin', 'Germany'),\n",
       " ('ES-2011-5356008', '2011-09-23', 'Gene Hale', 'France'),\n",
       " ('ES-2011-5441485', '2011-09-23', 'Alejandro Ballentine', 'Germany'),\n",
       " ('IT-2011-3183678', '2011-09-23', 'Zuschuss Carroll', 'Germany'),\n",
       " ('IT-2011-5351596', '2011-09-23', 'Jonathan Doherty', 'Sweden'),\n",
       " ('ES-2011-1012469', '2011-09-24', 'Maurice Satty', 'United Kingdom'),\n",
       " ('ES-2011-3156142', '2011-09-24', 'Vivek Grady', 'Germany'),\n",
       " ('ES-2011-1708709', '2011-09-26', 'Brad Thomas', 'France'),\n",
       " ('ES-2011-5908162', '2011-09-26', 'Denise Leinenbach', 'Germany'),\n",
       " ('IT-2011-1900372', '2011-09-26', 'Mark Cousins', 'Germany'),\n",
       " ('IT-2011-2743644', '2011-09-26', 'Edward Becker', 'France'),\n",
       " ('ES-2011-3186072', '2011-09-27', 'Christina Anderson', 'United Kingdom'),\n",
       " ('ES-2011-4106405', '2011-09-27', 'Melanie Seite', 'Germany'),\n",
       " ('ES-2011-5251246', '2011-09-27', 'Filia McAdams', 'France'),\n",
       " ('ES-2011-5426048', '2011-09-27', 'Arthur Prichep', 'Italy'),\n",
       " ('ES-2011-5739780', '2011-09-27', 'Barry Gonzalez', 'United Kingdom'),\n",
       " ('IT-2011-3459226', '2011-09-27', 'Lindsay Williams', 'France'),\n",
       " ('IT-2011-5015979', '2011-09-27', 'Natalie Fritzler', 'Italy'),\n",
       " ('ES-2011-2347754', '2011-09-28', 'Neil Ducich', 'Austria'),\n",
       " ('ES-2011-2822760', '2011-09-28', 'Nick Crebassa', 'France'),\n",
       " ('ES-2011-2867068', '2011-09-28', 'Lena Creighton', 'Germany'),\n",
       " ('ES-2011-4366058', '2011-09-28', 'Valerie Takahito', 'Spain'),\n",
       " ('ES-2011-5008680', '2011-09-28', 'Sam Craven', 'United Kingdom'),\n",
       " ('ES-2011-5269399', '2011-09-28', 'Cassandra Brandow', 'Italy'),\n",
       " ('ES-2011-1456978', '2011-09-29', 'Alan Barnes', 'France'),\n",
       " ('ES-2011-1878168', '2011-09-29', 'Randy Bradley', 'Germany'),\n",
       " ('ES-2011-3822720', '2011-09-29', 'Brad Eason', 'Spain'),\n",
       " ('ES-2011-1222857', '2011-09-30', 'Darren Powers', 'France'),\n",
       " ('ES-2011-1702658', '2011-09-30', 'Rick Huthwaite', 'Italy'),\n",
       " ('ES-2011-2677554', '2011-09-30', 'Maria Etezadi', 'Germany'),\n",
       " ('ES-2011-3020748', '2011-09-30', 'Anthony Rawles', 'Germany'),\n",
       " ('IT-2011-3461936', '2011-10-03', 'Arthur Gainer', 'Italy'),\n",
       " ('ES-2011-3592923', '2011-10-04', 'Joel Jenkins', 'France'),\n",
       " ('ES-2011-4316248', '2011-10-06', 'Arianne Irving', 'Germany'),\n",
       " ('ES-2011-3041134', '2011-10-07', 'Ryan Crowe', 'United Kingdom'),\n",
       " ('ES-2011-3249450', '2011-10-08', 'Julia Barnett', 'Germany'),\n",
       " ('IT-2011-5001459', '2011-10-08', 'Michael Granlund', 'Sweden'),\n",
       " ('ES-2011-3058868', '2011-10-10', 'Jim Kriz', 'Germany'),\n",
       " ('ES-2011-4443251', '2011-10-10', 'Vivek Sundaresam', 'Germany'),\n",
       " ('ES-2011-5464858', '2011-10-10', 'Karen Bern', 'Austria'),\n",
       " ('ES-2011-1273737', '2011-10-11', 'Paul Van Hugh', 'United Kingdom'),\n",
       " ('ES-2011-1878479', '2011-10-11', 'George Ashbrook', 'France'),\n",
       " ('ES-2011-2045003', '2011-10-11', 'Jonathan Howell', 'Germany'),\n",
       " ('ES-2011-1941756', '2011-10-12', 'Kristina Nunn', 'Spain'),\n",
       " ('IT-2011-4480159', '2011-10-12', 'Anne McFarland', 'Germany'),\n",
       " ('ES-2011-3259196', '2011-10-13', 'Nona Balk', 'Germany'),\n",
       " ('IT-2011-1289488', '2011-10-13', 'Darrin Sayre', 'Netherlands'),\n",
       " ('ES-2011-4694484', '2011-10-14', 'John Castell', 'Germany'),\n",
       " ('ES-2011-5961845', '2011-10-14', 'Tracy Blumstein', 'Germany'),\n",
       " ('ES-2011-5834860', '2011-10-17', 'Mark Cousins', 'Spain'),\n",
       " ('ES-2011-2673474', '2011-10-18', 'Roland Murray', 'Germany'),\n",
       " ('ES-2011-2083843', '2011-10-19', 'Sandra Flanagan', 'United Kingdom'),\n",
       " ('IT-2011-5989878', '2011-10-19', 'Roy Skaria', 'Netherlands'),\n",
       " ('ES-2011-2520255', '2011-10-20', 'Thomas Brumley', 'France'),\n",
       " ('ES-2011-4559599', '2011-10-20', 'Ken Dana', 'Austria'),\n",
       " ('IT-2011-2600640', '2011-10-20', 'Sandra Flanagan', 'Germany'),\n",
       " ('ES-2011-4816650', '2011-10-21', 'Yana Sorensen', 'Finland'),\n",
       " ('ES-2011-3540258', '2011-10-22', 'Roger Demir', 'France'),\n",
       " ('ES-2011-4395271', '2011-10-22', 'Bart Pistole', 'United Kingdom'),\n",
       " ('ES-2011-1228490', '2011-10-24', 'Cathy Hwang', 'France'),\n",
       " ('IT-2011-4259846', '2011-10-24', 'Helen Wasserman', 'Italy'),\n",
       " ('ES-2011-2872060', '2011-10-25', 'Susan MacKendrick', 'France'),\n",
       " ('IT-2011-5982785', '2011-10-25', 'Jason Klamczynski', 'France'),\n",
       " ('ES-2011-5186238', '2011-10-26', 'Doug Jacobs', 'France'),\n",
       " ('ES-2011-1298103', '2011-10-27', 'Skye Norling', 'United Kingdom'),\n",
       " ('IT-2011-4378136', '2011-10-28', 'Laurel Beltran', 'Germany'),\n",
       " ('ES-2011-1205554', '2011-10-31', 'Phillip Flathmann', 'Italy'),\n",
       " ('ES-2011-1502054', '2011-10-31', 'Trudy Glocke', 'Germany'),\n",
       " ('IT-2011-1396210', '2011-10-31', 'Rick Bensley', 'Switzerland'),\n",
       " ('ES-2011-3257006', '2011-11-01', 'Andrew Allen', 'France'),\n",
       " ('ES-2011-4915337', '2011-11-01', 'Jack Garza', 'Italy'),\n",
       " ('ES-2011-5383642', '2011-11-01', 'Karen Daniels', 'Germany'),\n",
       " ('IT-2011-4243443', '2011-11-01', 'David Flashing', 'United Kingdom'),\n",
       " ('IT-2011-4711868', '2011-11-01', 'Randy Bradley', 'Germany'),\n",
       " ('ES-2011-1141056', '2011-11-02', 'Patrick Ryan', 'Germany'),\n",
       " ('ES-2011-3028321', '2011-11-02', 'Helen Andreada', 'Italy'),\n",
       " ('ES-2011-3401415', '2011-11-02', 'Dan Lawera', 'Germany'),\n",
       " ('ES-2011-5095223', '2011-11-02', 'Bill Shonely', 'United Kingdom'),\n",
       " ('ES-2011-5941122', '2011-11-02', 'Marc Harrigan', 'Germany'),\n",
       " ('IT-2011-1781238', '2011-11-02', 'Brendan Dodson', 'Germany'),\n",
       " ('ES-2011-2174124', '2011-11-03', 'Kean Nguyen', 'Germany'),\n",
       " ('ES-2011-2861735', '2011-11-03', 'Andrew Allen', 'France'),\n",
       " ('ES-2011-2962852', '2011-11-03', 'Rob Dowd', 'Spain'),\n",
       " ('ES-2011-3481511', '2011-11-03', 'Rick Wilson', 'France'),\n",
       " ('ES-2011-3857347', '2011-11-03', 'Michael Oakman', 'France'),\n",
       " ('ES-2011-4028861', '2011-11-03', 'Shahid Collister', 'Italy'),\n",
       " ('ES-2011-5965144', '2011-11-03', 'Guy Thornton', 'Germany'),\n",
       " ('IT-2011-3702883', '2011-11-03', 'Sue Ann Reed', 'Germany'),\n",
       " ('ES-2011-3106999', '2011-11-04', 'Paul MacIntyre', 'United Kingdom'),\n",
       " ('ES-2011-3911616', '2011-11-04', 'Michelle Moray', 'Spain'),\n",
       " ('ES-2011-4946017', '2011-11-04', 'Doug Bickford', 'Germany'),\n",
       " ('ES-2011-5506008', '2011-11-04', 'Mark Hamilton', 'Italy'),\n",
       " ('ES-2011-5921152', '2011-11-04', 'Natalie Fritzler', 'Germany'),\n",
       " ('IT-2011-1802563', '2011-11-04', 'Anna Andreadi', 'United Kingdom'),\n",
       " ('ES-2011-4500805', '2011-11-05', \"Patrick O'Donnell\", 'France'),\n",
       " ('IT-2011-3528798', '2011-11-06', 'Corinna Mitchell', 'France'),\n",
       " ('ES-2011-1136913', '2011-11-07', 'Arthur Wiediger', 'Germany'),\n",
       " ('ES-2011-2401476', '2011-11-07', 'Richard Eichhorn', 'Germany'),\n",
       " ('ES-2011-2542728', '2011-11-08', 'Sharelle Roach', 'Italy'),\n",
       " ('ES-2011-4335040', '2011-11-08', 'Ivan Liston', 'France'),\n",
       " ('ES-2011-4705117', '2011-11-08', 'Sally Matthias', 'France'),\n",
       " ('ES-2011-5658621', '2011-11-08', 'Sean Wendt', 'Germany'),\n",
       " ('ES-2011-5693005', '2011-11-08', 'Andrew Gjertsen', 'Germany'),\n",
       " ('ES-2011-4585835', '2011-11-09', 'Beth Fritzler', 'United Kingdom'),\n",
       " ('ES-2011-4919091', '2011-11-09', 'Alan Shonely', 'France'),\n",
       " ('ES-2011-2258386', '2011-11-10', 'Becky Martin', 'Germany'),\n",
       " ('ES-2011-4411711', '2011-11-10', 'Sarah Foster', 'France'),\n",
       " ('ES-2011-4450781', '2011-11-10', 'Susan Pistek', 'Spain'),\n",
       " ('ES-2011-5378520', '2011-11-10', 'Dean Katz', 'Germany'),\n",
       " ('IT-2011-2556136', '2011-11-10', \"Russell D'Ascenzo\", 'Spain'),\n",
       " ('IT-2011-4770705', '2011-11-10', 'Maria Etezadi', 'Germany'),\n",
       " ('IT-2011-4688263', '2011-11-11', 'Bruce Stewart', 'France'),\n",
       " ('ES-2011-2046816', '2011-11-13', 'Alejandro Ballentine', 'France'),\n",
       " ('ES-2011-3109529', '2011-11-14', 'Jim Sink', 'Germany'),\n",
       " ('IT-2011-3643140', '2011-11-14', 'Darren Koutras', 'United Kingdom'),\n",
       " ('ES-2011-1244060', '2011-11-15', 'Susan Vittorini', 'Finland'),\n",
       " ('ES-2011-3780358', '2011-11-15', 'Chad Cunningham', 'Italy'),\n",
       " ('ES-2011-5010472', '2011-11-15', 'Darren Powers', 'France'),\n",
       " ('ES-2011-4302063', '2011-11-16', 'Larry Blacks', 'Austria'),\n",
       " ('IT-2011-1320928', '2011-11-16', 'Rachel Payne', 'Sweden'),\n",
       " ('ES-2011-2287259', '2011-11-17', 'Tony Chapman', 'Spain'),\n",
       " ('IT-2011-1573599', '2011-11-17', 'Clay Cheatham', 'United Kingdom'),\n",
       " ('IT-2011-4968367', '2011-11-17', 'Rick Wilson', 'United Kingdom'),\n",
       " ('ES-2011-3749098', '2011-11-18', 'Debra Catini', 'France'),\n",
       " ('IT-2011-2051710', '2011-11-19', 'Denny Joy', 'Italy'),\n",
       " ('ES-2011-3421954', '2011-11-21', 'Nat Carroll', 'France'),\n",
       " ('ES-2011-5894162', '2011-11-21', 'Joe Elijah', 'Germany'),\n",
       " ('IT-2011-2516674', '2011-11-21', 'Doug Jacobs', 'France'),\n",
       " ('ES-2011-2076928', '2011-11-22', 'Beth Thompson', 'Germany'),\n",
       " ('ES-2011-2379967', '2011-11-22', 'Zuschuss Donatelli', 'Germany'),\n",
       " ('ES-2011-2907593', '2011-11-22', 'Troy Blackwell', 'Austria'),\n",
       " ('ES-2011-5032747', '2011-11-22', 'Lycoris Saunders', 'United Kingdom'),\n",
       " ('IT-2011-5910162', '2011-11-22', 'Shirley Schmidt', 'France'),\n",
       " ('ES-2011-3121115', '2011-11-23', 'Richard Eichhorn', 'Germany'),\n",
       " ('ES-2011-3717351', '2011-11-23', 'Alex Grayson', 'France'),\n",
       " ('ES-2011-1611223', '2011-11-24', 'Trudy Brown', 'Austria'),\n",
       " ('ES-2011-3617816', '2011-11-25', 'Nora Preis', 'Spain'),\n",
       " ('IT-2011-5217561', '2011-11-25', 'Natalie Fritzler', 'United Kingdom'),\n",
       " ('ES-2011-4093113', '2011-11-26', 'Harry Marie', 'Italy'),\n",
       " ('ES-2011-4877774', '2011-11-26', 'Bill Stewart', 'Germany'),\n",
       " ('IT-2011-3410434', '2011-11-26', 'Jim Radford', 'Germany'),\n",
       " ('ES-2011-2570414', '2011-11-27', 'Ashley Jarboe', 'France'),\n",
       " ('IT-2011-4370630', '2011-11-27', 'Maxwell Schwartz', 'Portugal'),\n",
       " ('ES-2011-3367036', '2011-11-28', 'Denny Blanton', 'Italy'),\n",
       " ('ES-2011-3470557', '2011-11-28', 'Phillip Flathmann', 'Norway'),\n",
       " ('IT-2011-4317663', '2011-11-28', 'Kunst Miller', 'United Kingdom'),\n",
       " ('IT-2011-4565126', '2011-11-28', 'Rob Beeghly', 'Netherlands'),\n",
       " ('ES-2011-1786064', '2011-11-29', 'Beth Paige', 'Spain'),\n",
       " ('ES-2011-5507767', '2011-11-29', 'Cynthia Delaney', 'France'),\n",
       " ('IT-2011-2725191', '2011-11-29', 'Roy Phan', 'Sweden'),\n",
       " ('ES-2011-1590255', '2011-11-30', 'Rick Hansen', 'Spain'),\n",
       " ('ES-2011-4450646', '2011-11-30', 'Victoria Brennan', 'France'),\n",
       " ('IT-2011-1258830', '2011-11-30', 'Steven Cartwright', 'United Kingdom'),\n",
       " ('IT-2011-3270900', '2011-11-30', 'Anthony Witt', 'Netherlands'),\n",
       " ('ES-2011-3614277', '2011-12-01', 'Sara Luxemburg', 'Spain'),\n",
       " ('ES-2011-5125239', '2011-12-01', 'Michael Grace', 'Belgium'),\n",
       " ('ES-2011-5407941', '2011-12-01', 'Justin MacKendrick', 'Spain'),\n",
       " ('IT-2011-5348771', '2011-12-01', 'Steven Cartwright', 'France'),\n",
       " ('IT-2011-5515844', '2011-12-01', 'Lori Olson', 'Sweden'),\n",
       " ('ES-2011-2719699', '2011-12-02', 'Robert Marley', 'France'),\n",
       " ('ES-2011-3341008', '2011-12-02', 'Alan Hwang', 'France'),\n",
       " ('ES-2011-4392169', '2011-12-02', 'Kean Nguyen', 'United Kingdom'),\n",
       " ('ES-2011-5089231', '2011-12-02', 'Maureen Gastineau', 'Germany'),\n",
       " ('ES-2011-2314308', '2011-12-03', 'Herbert Flentye', 'Germany'),\n",
       " ('ES-2011-4141275', '2011-12-03', 'Nancy Lomonaco', 'France'),\n",
       " ('ES-2011-1527372', '2011-12-05', 'Duane Noonan', 'Spain'),\n",
       " ('ES-2011-5950121', '2011-12-05', 'Ellis Ballard', 'Germany'),\n",
       " ('ES-2011-2072928', '2011-12-06', 'Barry Franz', 'France'),\n",
       " ('ES-2011-3142386', '2011-12-06', 'Liz Thompson', 'Germany'),\n",
       " ('ES-2011-3291135', '2011-12-06', 'Philip Fox', 'United Kingdom'),\n",
       " ('ES-2011-3729382', '2011-12-06', 'Candace McMahon', 'Italy'),\n",
       " ('ES-2011-4479011', '2011-12-06', 'Brian Thompson', 'Italy'),\n",
       " ('ES-2011-1962134', '2011-12-07', 'Patrick Gardner', 'Germany'),\n",
       " ('ES-2011-3870093', '2011-12-07', 'Khloe Miller', 'Germany'),\n",
       " ('ES-2011-1196075', '2011-12-08', 'Karen Seio', 'France'),\n",
       " ('ES-2011-3002504', '2011-12-08', 'Andrew Allen', 'United Kingdom'),\n",
       " ('ES-2011-4620955', '2011-12-08', 'Vivian Mathis', 'Germany'),\n",
       " ('IT-2011-2568112', '2011-12-08', 'Patrick Bzostek', 'Germany'),\n",
       " ('ES-2011-4272488', '2011-12-09', 'Adam Hart', 'United Kingdom'),\n",
       " ('ES-2011-5898391', '2011-12-09', 'Matthew Grinstein', 'France'),\n",
       " ('ES-2011-4665208', '2011-12-10', 'Ben Peterman', 'United Kingdom'),\n",
       " ('ES-2011-5867926', '2011-12-10', 'Alan Hwang', 'Germany'),\n",
       " ('IT-2011-3513943', '2011-12-10', 'Denny Blanton', 'Germany'),\n",
       " ('IT-2011-4230809', '2011-12-10', 'Roy Skaria', 'France'),\n",
       " ('ES-2011-3356037', '2011-12-12', 'Toby Braunhardt', 'United Kingdom'),\n",
       " ('ES-2011-3947498', '2011-12-12', 'Andrew Gjertsen', 'Italy'),\n",
       " ('IT-2011-2866156', '2011-12-12', 'Brad Thomas', 'France'),\n",
       " ('IT-2011-2359180', '2011-12-13', 'Benjamin Venier', 'Italy'),\n",
       " ('IT-2011-2421873', '2011-12-13', 'Logan Haushalter', 'Portugal'),\n",
       " ('IT-2011-2709916', '2011-12-13', 'Sanjit Chand', 'Spain'),\n",
       " ('IT-2011-2861112', '2011-12-13', 'Cari MacIntyre', 'France'),\n",
       " ('IT-2011-3784375', '2011-12-13', 'Dan Lawera', 'Italy'),\n",
       " ('IT-2011-4913414', '2011-12-13', 'Edward Hooks', 'Italy'),\n",
       " ('IT-2011-5091991', '2011-12-13', 'John Murray', 'Sweden'),\n",
       " ('IT-2011-4264595', '2011-12-14', 'Toby Swindell', 'France'),\n",
       " ('ES-2011-2093980', '2011-12-15', 'Julie Kriz', 'Germany'),\n",
       " ('ES-2011-2339332', '2011-12-15', 'Kristina Nunn', 'Spain'),\n",
       " ('ES-2011-3091823', '2011-12-15', 'Pauline Johnson', 'United Kingdom'),\n",
       " ('ES-2011-3134727', '2011-12-15', 'Mark Haberlin', 'Germany'),\n",
       " ('ES-2011-3136087', '2011-12-15', 'Maureen Fritzler', 'France'),\n",
       " ('ES-2011-5201850', '2011-12-15', 'Frank Carlisle', 'Finland'),\n",
       " ('ES-2011-2117222', '2011-12-16', 'Don Weiss', 'United Kingdom'),\n",
       " ('ES-2011-3394310', '2011-12-16', 'Kelly Andreada', 'Italy'),\n",
       " ('ES-2011-1058269', '2011-12-17', 'Michelle Moray', 'Germany'),\n",
       " ('ES-2011-1119145', '2011-12-17', 'Jeremy Farry', 'Austria'),\n",
       " ('ES-2011-2950882', '2011-12-17', 'Michael Kennedy', 'Austria'),\n",
       " ('IT-2011-3745230', '2011-12-17', 'Bradley Drucker', 'Portugal'),\n",
       " ('ES-2011-2251272', '2011-12-19', 'Aaron Smayling', 'Germany'),\n",
       " ('ES-2011-5701425', '2011-12-19', 'Guy Phonely', 'Spain'),\n",
       " ('ES-2011-5911716', '2011-12-19', 'Jim Kriz', 'Austria'),\n",
       " ('IT-2011-2323076', '2011-12-19', 'Shahid Collister', 'Sweden'),\n",
       " ('ES-2011-1782465', '2011-12-20', 'Amy Hunt', 'Germany'),\n",
       " ('ES-2011-2880425', '2011-12-20', 'Carlos Daly', 'Spain'),\n",
       " ('ES-2011-4169574', '2011-12-20', 'Mary Zewe', 'France'),\n",
       " ('ES-2011-4178211', '2011-12-20', 'Raymond Buch', 'France'),\n",
       " ('ES-2011-4485758', '2011-12-20', 'Denise Monton', 'Spain'),\n",
       " ('ES-2011-4688304', '2011-12-20', 'Trudy Brown', 'France'),\n",
       " ('IT-2011-4429506', '2011-12-20', 'Roland Schwarz', 'Sweden'),\n",
       " ('ES-2011-4731879', '2011-12-21', 'Harry Greene', 'Spain'),\n",
       " ('ES-2011-5220738', '2011-12-21', 'Corey-Lock', 'United Kingdom'),\n",
       " ('IT-2011-2803139', '2011-12-21', 'Catherine Glotzbach', 'Ireland'),\n",
       " ('IT-2011-3977380', '2011-12-21', 'Clytie Kelty', 'Germany'),\n",
       " ('ES-2011-1537002', '2011-12-22', 'Lindsay Williams', 'Italy'),\n",
       " ('ES-2011-1698059', '2011-12-22', 'Corey Roper', 'United Kingdom'),\n",
       " ('IT-2011-2241184', '2011-12-22', 'Arianne Irving', 'Spain'),\n",
       " ('ES-2011-2470488', '2011-12-23', 'Roger Demir', 'France'),\n",
       " ('IT-2011-2992208', '2011-12-23', 'Eric Murdock', 'Ireland'),\n",
       " ('ES-2011-3523269', '2011-12-24', 'Christopher Conant', 'Spain'),\n",
       " ('ES-2011-2836248', '2011-12-26', 'Lycoris Saunders', 'Spain'),\n",
       " ('ES-2011-3119147', '2011-12-26', 'Matt Connell', 'Germany'),\n",
       " ('ES-2011-4401446', '2011-12-26', 'Denny Joy', 'Spain'),\n",
       " ('ES-2011-5682053', '2011-12-26', 'Gary McGarr', 'Norway'),\n",
       " ('IT-2011-3911927', '2011-12-26', 'Katherine Nockton', 'United Kingdom'),\n",
       " ('IT-2011-4409734', '2011-12-26', 'Dennis Kane', 'Netherlands'),\n",
       " ('ES-2011-1831867', '2011-12-27', 'Giulietta Baptist', 'Germany'),\n",
       " ('ES-2011-2272875', '2011-12-27', 'Dianna Wilson', 'Austria'),\n",
       " ('IT-2011-2396037', '2011-12-27', 'Charlotte Melton', 'France'),\n",
       " ('IT-2011-4060327', '2011-12-27', 'Sibella Parks', 'Denmark'),\n",
       " ('IT-2011-4618152', '2011-12-27', 'Andy Gerbode', 'Italy'),\n",
       " ('ES-2011-2009539', '2011-12-28', 'Yoseph Carroll', 'France'),\n",
       " ('ES-2011-2231102', '2011-12-28', 'Odella Nelson', 'France'),\n",
       " ('ES-2011-3228532', '2011-12-28', 'Mark Haberlin', 'United Kingdom'),\n",
       " ('ES-2011-5338028', '2011-12-28', 'Mick Hernandez', 'Italy'),\n",
       " ('IT-2011-2624729', '2011-12-28', 'Shirley Schmidt', 'Netherlands'),\n",
       " ('ES-2011-4335650', '2011-12-29', 'Erin Creighton', 'Belgium'),\n",
       " ('ES-2011-4715440', '2011-12-29', 'Neil Knudson', 'Germany'),\n",
       " ('IT-2011-3731484', '2011-12-29', 'John Dryer', 'France'),\n",
       " ('ES-2011-2371090', '2011-12-30', 'Becky Castell', 'United Kingdom'),\n",
       " ('ES-2011-2417338', '2011-12-30', 'Sheri Gordon', 'Spain'),\n",
       " ('ES-2011-2466466', '2011-12-30', 'Peter McVee', 'United Kingdom'),\n",
       " ('ES-2011-3995423', '2011-12-30', 'Rick Duston', 'Italy'),\n",
       " ('ES-2012-3308849', '2012-01-02', 'Jennifer Patt', 'France'),\n",
       " ('ES-2012-4964549', '2012-01-02', 'Victoria Brennan', 'Spain'),\n",
       " ('ES-2012-1001305', '2012-01-03', 'Logan Currie', 'Spain'),\n",
       " ('ES-2012-3512904', '2012-01-03', 'Ellis Ballard', 'France'),\n",
       " ('ES-2012-3247635', '2012-01-04', 'Theone Pippenger', 'United Kingdom'),\n",
       " ('ES-2012-1558843', '2012-01-05', 'Emily Grady', 'Netherlands'),\n",
       " ('ES-2012-1978402', '2012-01-05', 'Ralph Arnett', 'Spain'),\n",
       " ('ES-2012-3144294', '2012-01-05', 'Deanra Eno', 'France'),\n",
       " ('ES-2012-4984653', '2012-01-05', 'Chad Cunningham', 'France'),\n",
       " ('IT-2012-1509619', '2012-01-05', 'Clytie Kelty', 'Sweden'),\n",
       " ('ES-2012-3025991', '2012-01-06', 'Rick Huthwaite', 'Spain'),\n",
       " ('ES-2012-3480401', '2012-01-07', 'Julie Prescott', 'Germany'),\n",
       " ('ES-2012-5100288', '2012-01-07', 'Georgia Rosenberg', 'Norway'),\n",
       " ('IT-2012-1856860', '2012-01-07', 'Katherine Hughes', 'Netherlands'),\n",
       " ('ES-2012-1023382', '2012-01-09', 'Nona Balk', 'Spain'),\n",
       " ('ES-2012-1177332', '2012-01-09', 'Janet Lee', 'Italy'),\n",
       " ('ES-2012-5580875', '2012-01-09', 'Susan MacKendrick', 'Germany'),\n",
       " ('ES-2012-2160548', '2012-01-10', 'Joel Eaton', 'Germany'),\n",
       " ('ES-2012-2287053', '2012-01-10', 'Carlos Soltero', 'Sweden'),\n",
       " ('ES-2012-1672765', '2012-01-11', 'Guy Phonely', 'Spain'),\n",
       " ('ES-2012-2522806', '2012-01-12', 'Kelly Lampkin', 'Austria'),\n",
       " ('ES-2012-5755966', '2012-01-12', 'Barry Franz?sisch', 'Italy'),\n",
       " ('ES-2012-5120264', '2012-01-13', 'James Lanier', 'United Kingdom'),\n",
       " ('ES-2012-5327902', '2012-01-13', 'Carol Triggs', 'United Kingdom'),\n",
       " ('ES-2012-2393484', '2012-01-14', 'Annie Zypern', 'France'),\n",
       " ('ES-2012-1513143', '2012-01-16', 'Henry MacAllister', 'Italy'),\n",
       " ('ES-2012-2716574', '2012-01-16', 'Sarah Foster', 'France'),\n",
       " ('ES-2012-3868505', '2012-01-16', 'Parhena Norris', 'Italy'),\n",
       " ('IT-2012-3646834', '2012-01-16', 'Heather Kirkland', 'United Kingdom'),\n",
       " ('IT-2012-3796476', '2012-01-16', 'Corey Catlett', 'Germany'),\n",
       " ('IT-2012-1765963', '2012-01-17', 'Thomas Brumley', 'Netherlands'),\n",
       " ('ES-2012-1667548', '2012-01-18', 'Steve Chapman', 'United Kingdom'),\n",
       " ('ES-2012-2865767', '2012-01-18', 'Carol Triggs', 'Spain'),\n",
       " ('ES-2012-3640830', '2012-01-18', 'George Zrebassa', 'France'),\n",
       " ('ES-2012-5659427', '2012-01-18', 'Joel Jenkins', 'Austria'),\n",
       " ('IT-2012-1204965', '2012-01-19', 'Troy Staebel', 'Netherlands'),\n",
       " ('ES-2012-3079444', '2012-01-20', 'Pamela Stobb', 'United Kingdom'),\n",
       " ('IT-2012-2732419', '2012-01-20', 'Nicole Brennan', 'United Kingdom'),\n",
       " ('ES-2012-5613626', '2012-01-22', 'Craig Leslie', 'Netherlands'),\n",
       " ('ES-2012-2242548', '2012-01-23', 'Carol Adams', 'United Kingdom'),\n",
       " ('IT-2012-5130228', '2012-01-23', 'Nona Balk', 'Italy'),\n",
       " ('IT-2012-5303768', '2012-01-23', 'Scot Coram', 'Spain'),\n",
       " ('ES-2012-2374376', '2012-01-24', 'Natalie Fritzler', 'Austria'),\n",
       " ('ES-2012-5371207', '2012-01-24', 'Giulietta Baptist', 'Germany'),\n",
       " ('IT-2012-2637730', '2012-01-24', 'Natalie Fritzler', 'France'),\n",
       " ('IT-2012-4635720', '2012-01-24', 'Luke Foster', 'Italy'),\n",
       " ('ES-2012-2077845', '2012-01-25', 'Harold Engle', 'Italy'),\n",
       " ('ES-2012-2756176', '2012-01-25', 'Ruben Ausman', 'Austria'),\n",
       " ('ES-2012-4959803', '2012-01-25', 'Katrina Bavinger', 'United Kingdom'),\n",
       " ('ES-2012-5188979', '2012-01-25', 'Katharine Harms', 'Italy'),\n",
       " ('ES-2012-3757629', '2012-01-27', 'Arthur Gainer', 'Spain'),\n",
       " ('ES-2012-4806252', '2012-01-27', 'Joe Elijah', 'Austria'),\n",
       " ('IT-2012-5199936', '2012-01-27', 'George Ashbrook', 'Switzerland'),\n",
       " ('ES-2012-1071143', '2012-01-28', 'Alejandro Savely', 'Austria'),\n",
       " ('ES-2012-2387374', '2012-01-30', 'Christine Abelman', 'France'),\n",
       " ('ES-2012-3278844', '2012-01-30', 'Cari MacIntyre', 'France'),\n",
       " ('ES-2012-4014694', '2012-01-30', 'Dennis Bolton', 'France'),\n",
       " ('ES-2012-2785188', '2012-02-01', 'Ryan Akin', 'Italy'),\n",
       " ('ES-2012-2694947', '2012-02-02', 'Jill Fjeld', 'Germany'),\n",
       " ('ES-2012-4445402', '2012-02-02', 'Joy Bell-', 'France'),\n",
       " ('ES-2012-1411725', '2012-02-03', 'Alan Barnes', 'Germany'),\n",
       " ('ES-2012-3493303', '2012-02-03', 'Marina Lichtenstein', 'France'),\n",
       " ('IT-2012-4005393', '2012-02-04', 'Alex Grayson', 'Italy'),\n",
       " ('ES-2012-4133534', '2012-02-06', 'Angele Hood', 'Italy'),\n",
       " ('ES-2012-5307098', '2012-02-06', 'Jeremy Lonsdale', 'Spain'),\n",
       " ('ES-2012-1674960', '2012-02-07', 'Tamara Chand', 'Austria'),\n",
       " ('ES-2012-5709491', '2012-02-07', 'Liz Pelletier', 'United Kingdom'),\n",
       " ('ES-2012-5954014', '2012-02-07', 'Astrea Jones', 'France'),\n",
       " ('ES-2012-4602933', '2012-02-08', 'Alan Hwang', 'France'),\n",
       " ('ES-2012-1606540', '2012-02-09', 'Paul Prost', 'France'),\n",
       " ('ES-2012-3225401', '2012-02-09', 'Tanja Norvell', 'United Kingdom'),\n",
       " ('ES-2012-3530985', '2012-02-09', 'Noel Staavos', 'Germany'),\n",
       " ('ES-2012-1428608', '2012-02-10', 'Justin Ellison', 'Norway'),\n",
       " ('IT-2012-2701284', '2012-02-11', 'Charles Crestani', 'Germany'),\n",
       " ('ES-2012-1059749', '2012-02-13', 'Susan Pistek', 'France'),\n",
       " ('ES-2012-3098892', '2012-02-14', 'Jim Sink', 'France'),\n",
       " ('ES-2012-5808020', '2012-02-14', 'Natalie DeCherney', 'United Kingdom'),\n",
       " ('ES-2012-1663353', '2012-02-15', 'Muhammed Lee', 'United Kingdom'),\n",
       " ('ES-2012-2974297', '2012-02-15', 'Aaron Smayling', 'Italy'),\n",
       " ('IT-2012-4084224', '2012-02-15', 'Mick Brown', 'Denmark'),\n",
       " ('ES-2012-3438393', '2012-02-18', 'Frank Olsen', 'France'),\n",
       " ('IT-2012-2429268', '2012-02-18', 'Fred Hopkins', 'Italy'),\n",
       " ('IT-2012-4967576', '2012-02-18', 'Emily Ducich', 'Spain'),\n",
       " ('ES-2012-5356719', '2012-02-20', 'Jenna Caffey', 'France'),\n",
       " ('ES-2012-1444969', '2012-02-21', 'Arthur Gainer', 'France'),\n",
       " ('ES-2012-4379168', '2012-02-22', 'Dianna Vittorini', 'United Kingdom'),\n",
       " ('ES-2012-5365524', '2012-02-22', 'Beth Thompson', 'United Kingdom'),\n",
       " ('IT-2012-1819598', '2012-02-22', 'Nicole Fjeld', 'Italy'),\n",
       " ('ES-2012-1439357', '2012-02-23', 'Brendan Dodson', 'United Kingdom'),\n",
       " ('ES-2012-1742205', '2012-02-23', 'Grace Kelly', 'United Kingdom'),\n",
       " ('ES-2012-4736606', '2012-02-27', 'Naresj Patel', 'Italy'),\n",
       " ('ES-2012-2930401', '2012-02-28', 'Ellis Ballard', 'United Kingdom'),\n",
       " ('ES-2012-2947739', '2012-02-28', 'Parhena Norris', 'Germany'),\n",
       " ('IT-2012-1197304', '2012-02-28', 'Scot Wooten', 'France'),\n",
       " ('ES-2012-2701376', '2012-02-29', 'Ed Ludwig', 'Germany'),\n",
       " ('ES-2012-2363775', '2012-03-01', 'Joni Wasserman', 'Germany'),\n",
       " ('ES-2012-2309141', '2012-03-02', 'Ralph Arnett', 'Spain'),\n",
       " ('ES-2012-2332844', '2012-03-02', 'Brian Thompson', 'United Kingdom'),\n",
       " ('ES-2012-3863050', '2012-03-02', 'Sylvia Foulston', 'Germany'),\n",
       " ('ES-2012-4160852', '2012-03-02', 'Yoseph Carroll', 'France'),\n",
       " ('ES-2012-4293573', '2012-03-03', 'Bart Watters', 'Norway'),\n",
       " ('ES-2012-3738573', '2012-03-05', 'Becky Castell', 'United Kingdom'),\n",
       " ('ES-2012-5566593', '2012-03-05', 'Jill Fjeld', 'France'),\n",
       " ('IT-2012-5774254', '2012-03-05', 'Jeremy Ellison', 'United Kingdom'),\n",
       " ('ES-2012-5645358', '2012-03-06', 'Michael Nguyen', 'United Kingdom'),\n",
       " ('IT-2012-2565333', '2012-03-06', 'Frank Atkinson', 'Portugal'),\n",
       " ('IT-2012-5141433', '2012-03-06', 'Allen Goldenen', 'Netherlands'),\n",
       " ('ES-2012-2195955', '2012-03-07', 'Scot Wooten', 'Austria'),\n",
       " ('ES-2012-2541285', '2012-03-07', 'Liz Thompson', 'France'),\n",
       " ('ES-2012-2563560', '2012-03-07', 'Bill Eplett', 'United Kingdom'),\n",
       " ('ES-2012-5843148', '2012-03-07', 'Todd Sumrall', 'Spain'),\n",
       " ('IT-2012-1032855', '2012-03-07', 'Frank Atkinson', 'Netherlands'),\n",
       " ('IT-2012-2122628', '2012-03-07', 'Brian Derr', 'France'),\n",
       " ('ES-2012-4942348', '2012-03-08', 'Suzanne McNair', 'Germany'),\n",
       " ('ES-2012-2458009', '2012-03-09', 'Ashley Jarboe', 'Finland'),\n",
       " ('ES-2012-5451215', '2012-03-09', 'Pierre Wener', 'United Kingdom'),\n",
       " ('IT-2012-5212034', '2012-03-09', 'Scott Cohen', 'Italy'),\n",
       " ('ES-2012-4291867', '2012-03-12', 'Aaron Bergman', 'Germany'),\n",
       " ('IT-2012-1576508', '2012-03-13', 'Valerie Takahito', 'France'),\n",
       " ('IT-2012-3170764', '2012-03-13', 'Brian Stugart', 'Germany'),\n",
       " ('IT-2012-3641925', '2012-03-13', 'Tom Stivers', 'France'),\n",
       " ('IT-2012-3719538', '2012-03-13', 'Alan Dominguez', 'France'),\n",
       " ('ES-2012-3034225', '2012-03-14', 'Robert Waldorf', 'Spain'),\n",
       " ('IT-2012-2008620', '2012-03-14', 'Maria Etezadi', 'Italy'),\n",
       " ('IT-2012-2093927', '2012-03-14', 'Gary McGarr', 'Netherlands'),\n",
       " ('ES-2012-2946531', '2012-03-15', 'Laurel Elliston', 'Germany'),\n",
       " ('ES-2012-3412393', '2012-03-15', 'Rob Dowd', 'United Kingdom'),\n",
       " ('IT-2012-3620342', '2012-03-15', 'Harry Greene', 'Netherlands'),\n",
       " ('IT-2012-3986604', '2012-03-15', 'James Lanier', 'Netherlands'),\n",
       " ('IT-2012-5245986', '2012-03-15', 'Matthew Clasen', 'United Kingdom'),\n",
       " ('ES-2012-4825433', '2012-03-16', 'Sam Craven', 'United Kingdom'),\n",
       " ('IT-2012-4810258', '2012-03-16', 'Tamara Manning', 'Sweden'),\n",
       " ('IT-2012-5960351', '2012-03-16', 'Harold Pawlan', 'France'),\n",
       " ('ES-2012-2809459', '2012-03-17', 'Phillip Flathmann', 'Germany'),\n",
       " ('ES-2012-3748239', '2012-03-17', 'Rob Dowd', 'Finland'),\n",
       " ('ES-2012-5419499', '2012-03-17', 'Andrew Allen', 'United Kingdom'),\n",
       " ('ES-2012-1942082', '2012-03-19', 'Shahid Collister', 'France'),\n",
       " ('ES-2012-2280466', '2012-03-19', 'Raymond Buch', 'France'),\n",
       " ('ES-2012-3155394', '2012-03-19', 'Frank Hawley', 'Germany'),\n",
       " ('ES-2012-4072999', '2012-03-19', 'Darren Koutras', 'United Kingdom'),\n",
       " ('ES-2012-5159841', '2012-03-19', 'Katherine Nockton', 'Germany'),\n",
       " ('IT-2012-3091951', '2012-03-19', 'Don Jones', 'Italy'),\n",
       " ('ES-2012-2501542', '2012-03-20', 'Art Foster', 'France'),\n",
       " ('ES-2012-2621001', '2012-03-20', 'Aaron Bergman', 'United Kingdom'),\n",
       " ('ES-2012-3613797', '2012-03-20', 'Jason Gross', 'United Kingdom'),\n",
       " ('ES-2012-1678413', '2012-03-21', 'Andy Gerbode', 'Italy'),\n",
       " ('ES-2012-4250639', '2012-03-22', 'David Philippe', 'Netherlands'),\n",
       " ('ES-2012-4616664', '2012-03-22', 'Julia Barnett', 'United Kingdom'),\n",
       " ('ES-2012-5897153', '2012-03-22', 'Noah Childs', 'Germany'),\n",
       " ('IT-2012-2472329', '2012-03-22', 'Pete Takahito', 'Germany'),\n",
       " ('ES-2012-3494145', '2012-03-23', 'Harold Pawlan', 'Spain'),\n",
       " ('ES-2012-3898439', '2012-03-23', 'Andy Gerbode', 'Germany'),\n",
       " ('IT-2012-5703527', '2012-03-23', 'Keith Dawkins', 'Germany'),\n",
       " ('ES-2012-2155276', '2012-03-24', 'Georgia Rosenberg', 'Italy'),\n",
       " ('ES-2012-5968338', '2012-03-24', 'Ted Butterfield', 'France'),\n",
       " ('ES-2012-2483866', '2012-03-26', 'Dionis Lloyd', 'Spain'),\n",
       " ('ES-2012-3231769', '2012-03-26', 'Muhammed Lee', 'Belgium'),\n",
       " ('ES-2012-4840257', '2012-03-26', \"Jack O'Briant\", 'France'),\n",
       " ('ES-2012-4907749', '2012-03-26', 'Darren Budd', 'United Kingdom'),\n",
       " ('ES-2012-2084881', '2012-03-27', 'Shui Tom', 'United Kingdom'),\n",
       " ('ES-2012-4007496', '2012-03-27', 'Rick Bensley', 'France'),\n",
       " ('ES-2012-4159779', '2012-03-27', 'Cyra Reiten', 'Austria'),\n",
       " ('ES-2012-4549533', '2012-03-28', 'Denise Leinenbach', 'France'),\n",
       " ('ES-2012-5269514', '2012-03-29', 'Rick Hansen', 'France'),\n",
       " ('IT-2012-4452672', '2012-03-29', 'Christina DeMoss', 'France'),\n",
       " ('ES-2012-2055382', '2012-03-30', 'Marina Lichtenstein', 'Spain'),\n",
       " ('IT-2012-2203661', '2012-03-30', \"Patrick O'Donnell\", 'Germany'),\n",
       " ('ES-2012-1965184', '2012-03-31', 'Charlotte Melton', 'Italy'),\n",
       " ('ES-2012-4101342', '2012-03-31', 'Erin Smith', 'Germany'),\n",
       " ('ES-2012-1363320', '2012-04-02', 'Ross DeVincentis', 'Germany'),\n",
       " ('ES-2012-2072341', '2012-04-02', 'Noah Childs', 'United Kingdom'),\n",
       " ('ES-2012-2680695', '2012-04-03', 'Barry Gonzalez', 'Belgium'),\n",
       " ('ES-2012-3099065', '2012-04-03', 'Peter Fuller', 'Italy'),\n",
       " ('ES-2012-4784843', '2012-04-03', 'Rob Haberlin', 'Austria'),\n",
       " ('ES-2012-5635375', '2012-04-04', 'Chuck Sachs', 'Italy'),\n",
       " ('ES-2012-5757351', '2012-04-04', 'Anthony Witt', 'Italy'),\n",
       " ('ES-2012-2314672', '2012-04-05', 'Don Miller', 'Germany'),\n",
       " ('ES-2012-1526126', '2012-04-06', 'Max Engle', 'France'),\n",
       " ('ES-2012-2468555', '2012-04-06', \"Patrick O'Donnell\", 'Germany'),\n",
       " ('IT-2012-5173520', '2012-04-06', 'Barry Weirich', 'United Kingdom'),\n",
       " ('ES-2012-4656026', '2012-04-07', 'Joe Elijah', 'United Kingdom'),\n",
       " ('ES-2012-3566481', '2012-04-09', 'Victor Preis', 'Germany'),\n",
       " ('ES-2012-3710236', '2012-04-09', 'Astrea Jones', 'Italy'),\n",
       " ('ES-2012-3987473', '2012-04-09', 'Philip Brown', 'Denmark'),\n",
       " ('ES-2012-3770443', '2012-04-10', 'Trudy Brown', 'Germany'),\n",
       " ('ES-2012-4677834', '2012-04-10', 'Alan Barnes', 'Germany'),\n",
       " ('ES-2012-5994251', '2012-04-10', 'Tracy Blumstein', 'Spain'),\n",
       " ('IT-2012-2834141', '2012-04-10', 'Lisa DeCherney', 'Netherlands'),\n",
       " ('ES-2012-2080192', '2012-04-11', 'Chuck Magee', 'Austria'),\n",
       " ('IT-2012-2415775', '2012-04-12', 'Nora Paige', 'Germany'),\n",
       " ('ES-2012-1986848', '2012-04-13', 'Sarah Brown', 'France'),\n",
       " ('IT-2012-2699123', '2012-04-13', 'Joy Smith', 'Netherlands'),\n",
       " ('IT-2012-4367428', '2012-04-13', 'Karl Braun', 'France'),\n",
       " ('ES-2012-1553989', '2012-04-14', 'Carol Triggs', 'United Kingdom'),\n",
       " ('ES-2012-4227357', '2012-04-16', 'Mike Gockenbach', 'Germany'),\n",
       " ('IT-2012-1651208', '2012-04-16', 'Michelle Huthwaite', 'Germany'),\n",
       " ('IT-2012-2478809', '2012-04-16', 'Herbert Flentye', 'Denmark'),\n",
       " ('ES-2012-1496224', '2012-04-17', 'John Murray', 'Germany'),\n",
       " ('ES-2012-1944737', '2012-04-19', \"Rose O'Brian\", 'Italy'),\n",
       " ('ES-2012-5507408', '2012-04-19', 'Alan Hwang', 'Belgium'),\n",
       " ('ES-2012-1552977', '2012-04-20', 'Rob Williams', 'Spain'),\n",
       " ('ES-2012-1951025', '2012-04-20', 'Mitch Gastineau', 'Spain'),\n",
       " ('ES-2012-4668554', '2012-04-20', 'Stefanie Holloman', 'Italy'),\n",
       " ('ES-2012-2183106', '2012-04-22', 'David Kendrick', 'Germany'),\n",
       " ('IT-2012-4831874', '2012-04-22', 'Kunst Miller', 'United Kingdom'),\n",
       " ('ES-2012-1157133', '2012-04-23', 'Nora Paige', 'United Kingdom'),\n",
       " ('ES-2012-1517831', '2012-04-23', 'Cathy Prescott', 'France'),\n",
       " ('ES-2012-5824366', '2012-04-23', 'Lela Donovan', 'Austria'),\n",
       " ('ES-2012-1923654', '2012-04-24', 'Erin Smith', 'United Kingdom'),\n",
       " ('ES-2012-4741193', '2012-04-24', 'Gene McClure', 'Finland'),\n",
       " ('ES-2012-5384501', '2012-04-24', 'Bruce Degenhardt', 'Germany'),\n",
       " ('IT-2012-5580946', '2012-04-25', 'Sung Pak', 'Sweden'),\n",
       " ('ES-2012-3374683', '2012-04-26', 'Julia West', 'Germany'),\n",
       " ('ES-2012-5916678', '2012-04-26', 'Brad Eason', 'Austria'),\n",
       " ('IT-2012-1180980', '2012-04-26', 'Lycoris Saunders', 'Netherlands'),\n",
       " ('ES-2012-1324546', '2012-04-27', 'Sanjit Chand', 'France'),\n",
       " ('ES-2012-1763830', '2012-04-27', 'Eugene Moren', 'Germany'),\n",
       " ('ES-2012-2471764', '2012-04-27', 'Stewart Carmichael', 'United Kingdom'),\n",
       " ('ES-2012-3337263', '2012-04-27', 'Sarah Brown', 'Spain'),\n",
       " ('ES-2012-5336654', '2012-04-27', 'Robert Marley', 'Austria'),\n",
       " ('IT-2012-2539640', '2012-04-27', 'Juliana Krohn', 'Germany'),\n",
       " ('ES-2012-2456263', '2012-04-28', 'Thais Sissman', 'Austria'),\n",
       " ('IT-2012-5235697', '2012-04-28', 'Greg Tran', 'Switzerland'),\n",
       " ('ES-2012-3667418', '2012-04-30', 'Bryan Davis', 'Germany'),\n",
       " ('ES-2012-2680511', '2012-05-01', 'Benjamin Farhat', 'Germany'),\n",
       " ('ES-2012-5249245', '2012-05-01', 'Phillip Flathmann', 'Germany'),\n",
       " ('IT-2012-3559379', '2012-05-01', 'Karen Bern', 'United Kingdom'),\n",
       " ('ES-2012-2938951', '2012-05-03', 'Denise Monton', 'Sweden'),\n",
       " ('ES-2012-4139746', '2012-05-08', 'Justin Ritter', 'United Kingdom'),\n",
       " ('IT-2012-5787277', '2012-05-08', 'Dave Brooks', 'Portugal'),\n",
       " ('ES-2012-1199538', '2012-05-09', 'Susan Pistek', 'France'),\n",
       " ('ES-2012-5466966', '2012-05-09', 'Mike Vittorini', 'France'),\n",
       " ('IT-2012-4187289', '2012-05-09', 'Lindsay Castell', 'Netherlands'),\n",
       " ('ES-2012-1431851', '2012-05-11', 'Cassandra Brandow', 'Germany'),\n",
       " ('ES-2012-2766375', '2012-05-11', 'Erica Bern', 'Italy'),\n",
       " ('ES-2012-5845607', '2012-05-11', 'Darrin Van Huff', 'Spain'),\n",
       " ('ES-2012-1671236', '2012-05-12', 'Bruce Stewart', 'Spain'),\n",
       " ('ES-2012-1422192', '2012-05-13', \"Patrick O'Brill\", 'United Kingdom'),\n",
       " ('ES-2012-4021910', '2012-05-14', 'Jennifer Patt', 'Germany'),\n",
       " ('ES-2012-5522696', '2012-05-14', \"Patrick O'Brill\", 'Italy'),\n",
       " ('ES-2012-5557687', '2012-05-14', 'Eudokia Martin', 'United Kingdom'),\n",
       " ('ES-2012-1298741', '2012-05-15', 'Joseph Airdo', 'United Kingdom'),\n",
       " ('ES-2012-2424030', '2012-05-15', 'Logan Currie', 'Italy'),\n",
       " ('ES-2012-2488132', '2012-05-15', 'Thais Sissman', 'France'),\n",
       " ('IT-2012-5870634', '2012-05-15', 'Bill Overfelt', 'France'),\n",
       " ('ES-2012-2960821', '2012-05-16', 'Alex Avila', 'Spain'),\n",
       " ('ES-2012-5681163', '2012-05-16', 'Paul Lucas', 'United Kingdom'),\n",
       " ...]"
      ]
     },
     "execution_count": 65,
     "metadata": {},
     "output_type": "execute_result"
    }
   ],
   "source": [
    "db_connection.execute(\"SELECT * FROM orders\").fetchall()"
   ]
  },
  {
   "cell_type": "markdown",
   "metadata": {
    "id": "5UoZC5cOhEEr"
   },
   "source": [
    "#### 5. Select Number of Orders for Each Customer"
   ]
  },
  {
   "cell_type": "markdown",
   "metadata": {
    "id": "vs59fH_4jw1d"
   },
   "source": [
    "We can use the `sql` function in `pandas.io` to run SQL queries to the database with the `.read_sql()` method. Here's an example:"
   ]
  },
  {
   "cell_type": "code",
   "execution_count": 58,
   "metadata": {
    "id": "ofIXqXaljw1d"
   },
   "outputs": [
    {
     "data": {
      "text/html": [
       "<div>\n",
       "<style scoped>\n",
       "    .dataframe tbody tr th:only-of-type {\n",
       "        vertical-align: middle;\n",
       "    }\n",
       "\n",
       "    .dataframe tbody tr th {\n",
       "        vertical-align: top;\n",
       "    }\n",
       "\n",
       "    .dataframe thead th {\n",
       "        text-align: right;\n",
       "    }\n",
       "</style>\n",
       "<table border=\"1\" class=\"dataframe\">\n",
       "  <thead>\n",
       "    <tr style=\"text-align: right;\">\n",
       "      <th></th>\n",
       "      <th>order_id</th>\n",
       "      <th>order_date</th>\n",
       "      <th>customer_name</th>\n",
       "      <th>country</th>\n",
       "    </tr>\n",
       "  </thead>\n",
       "  <tbody>\n",
       "    <tr>\n",
       "      <th>0</th>\n",
       "      <td>IT-2011-3647632</td>\n",
       "      <td>2011-01-01</td>\n",
       "      <td>Eugene Moren</td>\n",
       "      <td>Sweden</td>\n",
       "    </tr>\n",
       "    <tr>\n",
       "      <th>1</th>\n",
       "      <td>ES-2011-4869686</td>\n",
       "      <td>2011-01-03</td>\n",
       "      <td>Dorothy Dickinson</td>\n",
       "      <td>United Kingdom</td>\n",
       "    </tr>\n",
       "    <tr>\n",
       "      <th>2</th>\n",
       "      <td>ES-2011-4939443</td>\n",
       "      <td>2011-01-04</td>\n",
       "      <td>Arthur Prichep</td>\n",
       "      <td>France</td>\n",
       "    </tr>\n",
       "    <tr>\n",
       "      <th>3</th>\n",
       "      <td>IT-2011-2942451</td>\n",
       "      <td>2011-01-04</td>\n",
       "      <td>Grant Thornton</td>\n",
       "      <td>United Kingdom</td>\n",
       "    </tr>\n",
       "    <tr>\n",
       "      <th>4</th>\n",
       "      <td>ES-2011-3848439</td>\n",
       "      <td>2011-01-05</td>\n",
       "      <td>Michael Granlund</td>\n",
       "      <td>France</td>\n",
       "    </tr>\n",
       "    <tr>\n",
       "      <th>5</th>\n",
       "      <td>ES-2011-5433855</td>\n",
       "      <td>2011-01-07</td>\n",
       "      <td>Dave Poirier</td>\n",
       "      <td>France</td>\n",
       "    </tr>\n",
       "    <tr>\n",
       "      <th>6</th>\n",
       "      <td>IT-2011-4546695</td>\n",
       "      <td>2011-01-08</td>\n",
       "      <td>Darren Powers</td>\n",
       "      <td>France</td>\n",
       "    </tr>\n",
       "    <tr>\n",
       "      <th>7</th>\n",
       "      <td>ES-2011-1138719</td>\n",
       "      <td>2011-01-11</td>\n",
       "      <td>Eric Murdock</td>\n",
       "      <td>Italy</td>\n",
       "    </tr>\n",
       "    <tr>\n",
       "      <th>8</th>\n",
       "      <td>ES-2011-1466305</td>\n",
       "      <td>2011-01-11</td>\n",
       "      <td>Mick Brown</td>\n",
       "      <td>Austria</td>\n",
       "    </tr>\n",
       "    <tr>\n",
       "      <th>9</th>\n",
       "      <td>ES-2011-4359424</td>\n",
       "      <td>2011-01-11</td>\n",
       "      <td>Dorothy Dickinson</td>\n",
       "      <td>Spain</td>\n",
       "    </tr>\n",
       "  </tbody>\n",
       "</table>\n",
       "</div>"
      ],
      "text/plain": [
       "          order_id  order_date      customer_name         country\n",
       "0  IT-2011-3647632  2011-01-01       Eugene Moren          Sweden\n",
       "1  ES-2011-4869686  2011-01-03  Dorothy Dickinson  United Kingdom\n",
       "2  ES-2011-4939443  2011-01-04     Arthur Prichep          France\n",
       "3  IT-2011-2942451  2011-01-04     Grant Thornton  United Kingdom\n",
       "4  ES-2011-3848439  2011-01-05   Michael Granlund          France\n",
       "5  ES-2011-5433855  2011-01-07       Dave Poirier          France\n",
       "6  IT-2011-4546695  2011-01-08      Darren Powers          France\n",
       "7  ES-2011-1138719  2011-01-11       Eric Murdock           Italy\n",
       "8  ES-2011-1466305  2011-01-11         Mick Brown         Austria\n",
       "9  ES-2011-4359424  2011-01-11  Dorothy Dickinson           Spain"
      ]
     },
     "execution_count": 58,
     "metadata": {},
     "output_type": "execute_result"
    }
   ],
   "source": [
    "# Select first 10 rows of all columns in orders table\n",
    "\n",
    "query = \"\"\"\n",
    "        SELECT * \n",
    "        FROM orders \n",
    "        LIMIT 10;\n",
    "        \"\"\"\n",
    "\n",
    "orders_head_10 = sql.read_sql(query, con=db_connection)\n",
    "orders_head_10"
   ]
  },
  {
   "cell_type": "code",
   "execution_count": 59,
   "metadata": {
    "ExecuteTime": {
     "end_time": "2019-03-21T03:31:48.381069Z",
     "start_time": "2019-03-21T03:31:48.359128Z"
    },
    "id": "aIqdAoTnhEEr"
   },
   "outputs": [],
   "source": [
    "# Select Number of Distinct Orders for Each Customer"
   ]
  },
  {
   "cell_type": "markdown",
   "metadata": {
    "id": "GE91fL7thEE2"
   },
   "source": [
    "#### 6. Select Number of Customers for Each Country"
   ]
  },
  {
   "cell_type": "code",
   "execution_count": null,
   "metadata": {
    "ExecuteTime": {
     "end_time": "2019-03-21T03:34:57.019169Z",
     "start_time": "2019-03-21T03:34:57.000244Z"
    },
    "id": "ZIfcGHCJhEE2"
   },
   "outputs": [],
   "source": [
    "# Select Number of Customers for Each Country"
   ]
  },
  {
   "cell_type": "markdown",
   "metadata": {
    "id": "fIBpY4KjhEE5"
   },
   "source": [
    "#### 7.A Select discount, sales, quantity for Each Order from orders_break_down Table"
   ]
  },
  {
   "cell_type": "code",
   "execution_count": null,
   "metadata": {
    "ExecuteTime": {
     "end_time": "2019-03-21T03:37:54.802697Z",
     "start_time": "2019-03-21T03:37:54.774773Z"
    },
    "id": "L_HKwM5BhEE6"
   },
   "outputs": [],
   "source": [
    "#  Select discount, sales, quantity for Each Order from orders_break_down Table"
   ]
  },
  {
   "cell_type": "markdown",
   "metadata": {
    "id": "-R-ObbBfhEE_"
   },
   "source": [
    "#### 7.B Select discount, sales, quantity, total price for Each Order from orders_break_down Table\n",
    "\n",
    "> Total Price = sales * quantity - discount"
   ]
  },
  {
   "cell_type": "code",
   "execution_count": null,
   "metadata": {
    "ExecuteTime": {
     "end_time": "2019-03-21T03:39:34.392179Z",
     "start_time": "2019-03-21T03:39:34.349294Z"
    },
    "id": "J9KbOXChhEE_"
   },
   "outputs": [],
   "source": [
    "# Select discount, sales, quantity, total price for Each Order Id from orders_break_down Table"
   ]
  },
  {
   "cell_type": "markdown",
   "metadata": {
    "ExecuteTime": {
     "end_time": "2019-03-21T03:42:08.012935Z",
     "start_time": "2019-03-21T03:42:08.008947Z"
    },
    "id": "2hM2p7HChEFB"
   },
   "source": [
    "#### 7.C Select All Orders from orders_break_down Table Where Total Price Greater Than 100"
   ]
  },
  {
   "cell_type": "code",
   "execution_count": null,
   "metadata": {
    "ExecuteTime": {
     "end_time": "2019-03-21T03:42:42.744917Z",
     "start_time": "2019-03-21T03:42:42.709011Z"
    },
    "id": "8aj0ZZrthEFC"
   },
   "outputs": [],
   "source": [
    "# Select All Orders from orders_break_down Table Where Total Price Greater Than 100"
   ]
  },
  {
   "cell_type": "markdown",
   "metadata": {
    "id": "qAgJAmudhEFF"
   },
   "source": [
    "#### 8. Select All Customers And The Products They Have Bought"
   ]
  },
  {
   "cell_type": "code",
   "execution_count": null,
   "metadata": {
    "ExecuteTime": {
     "end_time": "2019-03-21T03:48:23.774361Z",
     "start_time": "2019-03-21T03:48:23.719474Z"
    },
    "id": "HzKZ71SmhEFG"
   },
   "outputs": [],
   "source": [
    "# Select All Order Ids, Customers And The Products (product_name) They Have Bought"
   ]
  },
  {
   "cell_type": "markdown",
   "metadata": {
    "ExecuteTime": {
     "end_time": "2019-03-21T03:50:32.122897Z",
     "start_time": "2019-03-21T03:50:32.116914Z"
    },
    "id": "fWIg7LjUhEFK"
   },
   "source": [
    "#### 9.A Select Number of 'Furniture' Orders For Each Country "
   ]
  },
  {
   "cell_type": "code",
   "execution_count": null,
   "metadata": {
    "ExecuteTime": {
     "end_time": "2019-03-21T03:56:42.800404Z",
     "start_time": "2019-03-21T03:56:42.759513Z"
    },
    "id": "061N5XX9hEFK"
   },
   "outputs": [],
   "source": [
    "# Select Number of 'Furniture' Orders For Each Country"
   ]
  },
  {
   "cell_type": "markdown",
   "metadata": {
    "id": "0jvgrcyGhEFO"
   },
   "source": [
    "#### 9.B Select Number of 'Furniture' Orders For The Country Denmark"
   ]
  },
  {
   "cell_type": "code",
   "execution_count": null,
   "metadata": {
    "ExecuteTime": {
     "end_time": "2019-03-21T03:58:15.794528Z",
     "start_time": "2019-03-21T03:58:15.757627Z"
    },
    "id": "BjUN6GphhEFP"
   },
   "outputs": [],
   "source": [
    "# Select Number of 'Furniture' Orders For The Country Denmark"
   ]
  },
  {
   "cell_type": "markdown",
   "metadata": {
    "id": "DvDJGO8ghEFU"
   },
   "source": [
    "#### 10. Select Total Sales With Discount and Without Discount for Each Country"
   ]
  },
  {
   "cell_type": "code",
   "execution_count": null,
   "metadata": {
    "ExecuteTime": {
     "end_time": "2019-03-21T04:06:53.787002Z",
     "start_time": "2019-03-21T04:06:53.744143Z"
    },
    "id": "M6FiccIGhEFU"
   },
   "outputs": [],
   "source": [
    "# Select Total Sales With Discount (discount > 0) and Without Discount (discount = 0) for Each Country"
   ]
  },
  {
   "cell_type": "markdown",
   "metadata": {
    "id": "72ARIXw2hEFb"
   },
   "source": [
    "#### 11.A Select Total Quantity, Total Sales for Each Country"
   ]
  },
  {
   "cell_type": "code",
   "execution_count": null,
   "metadata": {
    "ExecuteTime": {
     "end_time": "2019-03-21T04:08:01.475925Z",
     "start_time": "2019-03-21T04:08:01.427057Z"
    },
    "id": "Fik5zcqJhEFe"
   },
   "outputs": [],
   "source": [
    "# Select Total Quantity, Total Sales for Each Country"
   ]
  },
  {
   "cell_type": "markdown",
   "metadata": {
    "ExecuteTime": {
     "end_time": "2019-03-21T04:09:40.290543Z",
     "start_time": "2019-03-21T04:09:40.284556Z"
    },
    "id": "tldREt1phEFh"
   },
   "source": [
    "#### 11.B Select Top 3 Countries and Quantities Based on Total Sales"
   ]
  },
  {
   "cell_type": "code",
   "execution_count": null,
   "metadata": {
    "ExecuteTime": {
     "end_time": "2019-03-21T04:11:24.632174Z",
     "start_time": "2019-03-21T04:11:24.619209Z"
    },
    "id": "T0TJjtLBhEFi"
   },
   "outputs": [],
   "source": [
    "# Select Top 3 Countries and Quantities Based on Total Sales"
   ]
  },
  {
   "cell_type": "markdown",
   "metadata": {
    "id": "M3zrxwdGhEFk"
   },
   "source": [
    "#### 11.C Select Bottom 3 Countries and Sales Based On Total Quantities"
   ]
  },
  {
   "cell_type": "code",
   "execution_count": null,
   "metadata": {
    "ExecuteTime": {
     "end_time": "2019-03-21T04:12:43.968759Z",
     "start_time": "2019-03-21T04:12:43.953799Z"
    },
    "id": "XzSLPcv6hEFl"
   },
   "outputs": [],
   "source": [
    "# Select Bottom 3 Countries and Sales Based On Total Quantities"
   ]
  },
  {
   "cell_type": "markdown",
   "metadata": {
    "ExecuteTime": {
     "end_time": "2019-03-21T04:15:46.751912Z",
     "start_time": "2019-03-21T04:15:46.745926Z"
    },
    "id": "45ondjLLhEFo"
   },
   "source": [
    "#### 12. Select Average Sales By Category For The Country 'France'"
   ]
  },
  {
   "cell_type": "code",
   "execution_count": null,
   "metadata": {
    "ExecuteTime": {
     "end_time": "2019-03-21T04:19:05.858570Z",
     "start_time": "2019-03-21T04:19:05.813681Z"
    },
    "id": "BwiyYRSThEFp"
   },
   "outputs": [],
   "source": [
    "# Select Average Sales By Category For The Country 'France'"
   ]
  },
  {
   "cell_type": "markdown",
   "metadata": {
    "id": "Nsk-d3DyhEFs"
   },
   "source": [
    "#### 13. Select Country, Category and Average Sales Where Average Sales is The Highest"
   ]
  },
  {
   "cell_type": "code",
   "execution_count": null,
   "metadata": {
    "ExecuteTime": {
     "end_time": "2019-03-21T04:21:04.081648Z",
     "start_time": "2019-03-21T04:21:04.038731Z"
    },
    "id": "yRK9ccVLhEFs"
   },
   "outputs": [],
   "source": [
    "# Select Country, Category and Average Sales Where Average Sales is The Highest"
   ]
  },
  {
   "cell_type": "markdown",
   "metadata": {
    "heading_collapsed": true,
    "id": "yNowUy0BlJQu"
   },
   "source": [
    "### JOINS\n",
    "\n",
    "Below is a link to a handy reference for SQL joins. In this chart joins are represented in terms of sets and venn diagrams. \n",
    "https://www.codeproject.com/Articles/33052/Visual-Representation-of-SQL-Joins\n",
    "\n",
    "Alternatively, remember the merge functionality of pandas.\n",
    "https://github.com/pandas-dev/pandas/blob/master/doc/cheatsheet/Pandas_Cheat_Sheet.pdf"
   ]
  },
  {
   "cell_type": "markdown",
   "metadata": {
    "id": "Jp0fdXBelJQv"
   },
   "source": [
    "### ADDITIONAL RESOURCES\n",
    "\n",
    "- [sqlite3 home](http://www.sqlite.org)  \n",
    "- [sqlite3 Python documentation](https://docs.python.org/3/library/sqlite3.html)\n",
    "- [SQLite Python tutorial](http://sebastianraschka.com/Articles/2014_sqlite_in_python_tutorial.html)  \n",
    "- [SQL zoo](http://www.sqlzoo.net)  Great for learning syntax"
   ]
  },
  {
   "cell_type": "markdown",
   "metadata": {
    "id": "H6EyH-b4wGV5"
   },
   "source": [
    "\n",
    "\n",
    "---\n",
    "\n",
    "\n",
    "\n",
    "---\n",
    "\n",
    "\n",
    "\n",
    "> > > > > > > > > © 2022 Institute of Data\n",
    "\n",
    "\n",
    "---\n",
    "\n",
    "\n",
    "\n",
    "---\n",
    "\n",
    "\n",
    "\n"
   ]
  }
 ],
 "metadata": {
  "colab": {
   "collapsed_sections": [],
   "provenance": []
  },
  "kernelspec": {
   "display_name": "Python 3 (ipykernel)",
   "language": "python",
   "name": "python3"
  },
  "language_info": {
   "codemirror_mode": {
    "name": "ipython",
    "version": 3
   },
   "file_extension": ".py",
   "mimetype": "text/x-python",
   "name": "python",
   "nbconvert_exporter": "python",
   "pygments_lexer": "ipython3",
   "version": "3.9.13"
  }
 },
 "nbformat": 4,
 "nbformat_minor": 4
}

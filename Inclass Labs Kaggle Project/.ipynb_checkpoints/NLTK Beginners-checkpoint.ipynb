{
 "cells": [
  {
   "cell_type": "code",
   "execution_count": 2,
   "id": "6785bebd-9474-4a35-a8b4-ee29841816e6",
   "metadata": {},
   "outputs": [],
   "source": [
    "import nltk"
   ]
  },
  {
   "cell_type": "code",
   "execution_count": 3,
   "id": "a933bc73-bc25-4e57-b5d1-f4752b46e042",
   "metadata": {},
   "outputs": [
    {
     "data": {
      "text/plain": [
       "'once when king krishnadevaraya had gone to survey the jail, two burglars who were prisoners there, asked for his mercy. they told him that they were experts at burglary and could help the king in catching other thieves.the king being a kind ruler asked his guards to release them but with a condition. he told the burglars that he would release them and appoint them as his spies only if they could break into his advisor tenali raman’s house and steal valuables from there. the thieves agreed for the challenge.that same night the two thieves went to tenali raman’s house and hid behind some bushes. after dinner, when tenali raman came out for a stroll, he heard some rustling in the bushes. he at once perceived the existence of thieves in his garden.'"
      ]
     },
     "execution_count": 3,
     "metadata": {},
     "output_type": "execute_result"
    }
   ],
   "source": [
    "text = \"Once when King Krishnadevaraya had gone to survey the jail, two burglars who were prisoners there, asked for his mercy. They told him that they were experts at burglary and could help the king in catching other thieves.The king being a kind ruler asked his guards to release them but with a condition. He told the burglars that he would release them and appoint them as his spies only if they could break into his advisor Tenali Raman’s house and steal valuables from there. The thieves agreed for the challenge.That same night the two thieves went to Tenali Raman’s house and hid behind some bushes. After dinner, when Tenali Raman came out for a stroll, he heard some rustling in the bushes. He at once perceived the existence of thieves in his garden.\"\n",
    "text = text.lower()\n",
    "\n",
    "text"
   ]
  },
  {
   "cell_type": "code",
   "execution_count": 5,
   "id": "1bb8316d-06c8-498c-b60c-a18f282a3e1c",
   "metadata": {},
   "outputs": [
    {
     "name": "stderr",
     "output_type": "stream",
     "text": [
      "[nltk_data] Downloading package punkt to\n",
      "[nltk_data]     C:\\Users\\Shivraj\\AppData\\Roaming\\nltk_data...\n",
      "[nltk_data]   Unzipping tokenizers\\punkt.zip.\n"
     ]
    },
    {
     "data": {
      "text/plain": [
       "True"
      ]
     },
     "execution_count": 5,
     "metadata": {},
     "output_type": "execute_result"
    }
   ],
   "source": [
    "import nltk\n",
    "nltk.download('punkt')"
   ]
  },
  {
   "cell_type": "code",
   "execution_count": 6,
   "id": "471724f6-4ec5-4dfb-969a-344ed27bd4d0",
   "metadata": {},
   "outputs": [
    {
     "data": {
      "text/plain": [
       "['once when king krishnadevaraya had gone to survey the jail, two burglars who were prisoners there, asked for his mercy.',\n",
       " 'they told him that they were experts at burglary and could help the king in catching other thieves.the king being a kind ruler asked his guards to release them but with a condition.',\n",
       " 'he told the burglars that he would release them and appoint them as his spies only if they could break into his advisor tenali raman’s house and steal valuables from there.',\n",
       " 'the thieves agreed for the challenge.that same night the two thieves went to tenali raman’s house and hid behind some bushes.',\n",
       " 'after dinner, when tenali raman came out for a stroll, he heard some rustling in the bushes.',\n",
       " 'he at once perceived the existence of thieves in his garden.']"
      ]
     },
     "execution_count": 6,
     "metadata": {},
     "output_type": "execute_result"
    }
   ],
   "source": [
    "from nltk import sent_tokenize\n",
    "\n",
    "# Tokenize sentences\n",
    "sent_text = sent_tokenize(text)\n",
    "\n",
    "sent_text"
   ]
  },
  {
   "cell_type": "code",
   "execution_count": 7,
   "id": "6e2c03ee-b9ed-4c2c-896c-ea03c8e2f3b4",
   "metadata": {},
   "outputs": [
    {
     "name": "stdout",
     "output_type": "stream",
     "text": [
      "['once', 'when', 'king', 'krishnadevaraya', 'had', 'gone', 'to', 'survey', 'the', 'jail', ',', 'two', 'burglars', 'who', 'were', 'prisoners', 'there', ',', 'asked', 'for', 'his', 'mercy', '.']\n",
      "['they', 'told', 'him', 'that', 'they', 'were', 'experts', 'at', 'burglary', 'and', 'could', 'help', 'the', 'king', 'in', 'catching', 'other', 'thieves.the', 'king', 'being', 'a', 'kind', 'ruler', 'asked', 'his', 'guards', 'to', 'release', 'them', 'but', 'with', 'a', 'condition', '.']\n",
      "['he', 'told', 'the', 'burglars', 'that', 'he', 'would', 'release', 'them', 'and', 'appoint', 'them', 'as', 'his', 'spies', 'only', 'if', 'they', 'could', 'break', 'into', 'his', 'advisor', 'tenali', 'raman', '’', 's', 'house', 'and', 'steal', 'valuables', 'from', 'there', '.']\n",
      "['the', 'thieves', 'agreed', 'for', 'the', 'challenge.that', 'same', 'night', 'the', 'two', 'thieves', 'went', 'to', 'tenali', 'raman', '’', 's', 'house', 'and', 'hid', 'behind', 'some', 'bushes', '.']\n",
      "['after', 'dinner', ',', 'when', 'tenali', 'raman', 'came', 'out', 'for', 'a', 'stroll', ',', 'he', 'heard', 'some', 'rustling', 'in', 'the', 'bushes', '.']\n",
      "['he', 'at', 'once', 'perceived', 'the', 'existence', 'of', 'thieves', 'in', 'his', 'garden', '.']\n"
     ]
    }
   ],
   "source": [
    "from nltk import word_tokenize\n",
    "# Do the word-tokenization from sentence-tokenization\n",
    "for sent in sent_text:\n",
    "    word_text = word_tokenize(sent)\n",
    "    print(word_text)"
   ]
  },
  {
   "cell_type": "code",
   "execution_count": 9,
   "id": "b9c0381b-f3f1-4ed4-bc32-da4b8ad72c2b",
   "metadata": {},
   "outputs": [
    {
     "name": "stderr",
     "output_type": "stream",
     "text": [
      "[nltk_data] Downloading package stopwords to\n",
      "[nltk_data]     C:\\Users\\Shivraj\\AppData\\Roaming\\nltk_data...\n",
      "[nltk_data]   Unzipping corpora\\stopwords.zip.\n"
     ]
    },
    {
     "data": {
      "text/plain": [
       "True"
      ]
     },
     "execution_count": 9,
     "metadata": {},
     "output_type": "execute_result"
    }
   ],
   "source": [
    "import nltk\n",
    "nltk.download('stopwords')"
   ]
  },
  {
   "cell_type": "code",
   "execution_count": 10,
   "id": "d1bd98b6-35eb-4deb-b943-e5977e1ee51f",
   "metadata": {},
   "outputs": [],
   "source": [
    "from nltk.corpus import stopwords\n",
    "stopwords_en = stopwords.words('english')"
   ]
  },
  {
   "cell_type": "code",
   "execution_count": 11,
   "id": "209e8867-0e8c-4807-9f5a-8a5f95167e29",
   "metadata": {},
   "outputs": [
    {
     "data": {
      "text/plain": [
       "['i',\n",
       " 'me',\n",
       " 'my',\n",
       " 'myself',\n",
       " 'we',\n",
       " 'our',\n",
       " 'ours',\n",
       " 'ourselves',\n",
       " 'you',\n",
       " \"you're\",\n",
       " \"you've\",\n",
       " \"you'll\",\n",
       " \"you'd\",\n",
       " 'your',\n",
       " 'yours',\n",
       " 'yourself',\n",
       " 'yourselves',\n",
       " 'he',\n",
       " 'him',\n",
       " 'his',\n",
       " 'himself',\n",
       " 'she',\n",
       " \"she's\",\n",
       " 'her',\n",
       " 'hers',\n",
       " 'herself',\n",
       " 'it',\n",
       " \"it's\",\n",
       " 'its',\n",
       " 'itself',\n",
       " 'they',\n",
       " 'them',\n",
       " 'their',\n",
       " 'theirs',\n",
       " 'themselves',\n",
       " 'what',\n",
       " 'which',\n",
       " 'who',\n",
       " 'whom',\n",
       " 'this',\n",
       " 'that',\n",
       " \"that'll\",\n",
       " 'these',\n",
       " 'those',\n",
       " 'am',\n",
       " 'is',\n",
       " 'are',\n",
       " 'was',\n",
       " 'were',\n",
       " 'be',\n",
       " 'been',\n",
       " 'being',\n",
       " 'have',\n",
       " 'has',\n",
       " 'had',\n",
       " 'having',\n",
       " 'do',\n",
       " 'does',\n",
       " 'did',\n",
       " 'doing',\n",
       " 'a',\n",
       " 'an',\n",
       " 'the',\n",
       " 'and',\n",
       " 'but',\n",
       " 'if',\n",
       " 'or',\n",
       " 'because',\n",
       " 'as',\n",
       " 'until',\n",
       " 'while',\n",
       " 'of',\n",
       " 'at',\n",
       " 'by',\n",
       " 'for',\n",
       " 'with',\n",
       " 'about',\n",
       " 'against',\n",
       " 'between',\n",
       " 'into',\n",
       " 'through',\n",
       " 'during',\n",
       " 'before',\n",
       " 'after',\n",
       " 'above',\n",
       " 'below',\n",
       " 'to',\n",
       " 'from',\n",
       " 'up',\n",
       " 'down',\n",
       " 'in',\n",
       " 'out',\n",
       " 'on',\n",
       " 'off',\n",
       " 'over',\n",
       " 'under',\n",
       " 'again',\n",
       " 'further',\n",
       " 'then',\n",
       " 'once',\n",
       " 'here',\n",
       " 'there',\n",
       " 'when',\n",
       " 'where',\n",
       " 'why',\n",
       " 'how',\n",
       " 'all',\n",
       " 'any',\n",
       " 'both',\n",
       " 'each',\n",
       " 'few',\n",
       " 'more',\n",
       " 'most',\n",
       " 'other',\n",
       " 'some',\n",
       " 'such',\n",
       " 'no',\n",
       " 'nor',\n",
       " 'not',\n",
       " 'only',\n",
       " 'own',\n",
       " 'same',\n",
       " 'so',\n",
       " 'than',\n",
       " 'too',\n",
       " 'very',\n",
       " 's',\n",
       " 't',\n",
       " 'can',\n",
       " 'will',\n",
       " 'just',\n",
       " 'don',\n",
       " \"don't\",\n",
       " 'should',\n",
       " \"should've\",\n",
       " 'now',\n",
       " 'd',\n",
       " 'll',\n",
       " 'm',\n",
       " 'o',\n",
       " 're',\n",
       " 've',\n",
       " 'y',\n",
       " 'ain',\n",
       " 'aren',\n",
       " \"aren't\",\n",
       " 'couldn',\n",
       " \"couldn't\",\n",
       " 'didn',\n",
       " \"didn't\",\n",
       " 'doesn',\n",
       " \"doesn't\",\n",
       " 'hadn',\n",
       " \"hadn't\",\n",
       " 'hasn',\n",
       " \"hasn't\",\n",
       " 'haven',\n",
       " \"haven't\",\n",
       " 'isn',\n",
       " \"isn't\",\n",
       " 'ma',\n",
       " 'mightn',\n",
       " \"mightn't\",\n",
       " 'mustn',\n",
       " \"mustn't\",\n",
       " 'needn',\n",
       " \"needn't\",\n",
       " 'shan',\n",
       " \"shan't\",\n",
       " 'shouldn',\n",
       " \"shouldn't\",\n",
       " 'wasn',\n",
       " \"wasn't\",\n",
       " 'weren',\n",
       " \"weren't\",\n",
       " 'won',\n",
       " \"won't\",\n",
       " 'wouldn',\n",
       " \"wouldn't\"]"
      ]
     },
     "execution_count": 11,
     "metadata": {},
     "output_type": "execute_result"
    }
   ],
   "source": [
    "stopwords_en # pre-defined set of stop words in the english language\n"
   ]
  },
  {
   "cell_type": "code",
   "execution_count": 12,
   "id": "a4c39ebe-1417-4065-b6ff-bc150ef49f20",
   "metadata": {},
   "outputs": [],
   "source": [
    "from string import punctuation\n"
   ]
  },
  {
   "cell_type": "code",
   "execution_count": 13,
   "id": "a6cd568b-5b5e-4b61-8f1b-0af59f00fa2d",
   "metadata": {},
   "outputs": [
    {
     "name": "stdout",
     "output_type": "stream",
     "text": [
      "From string punctuation: <class 'str'> !\"#$%&'()*+,-./:;<=>?@[\\]^_`{|}~\n"
     ]
    }
   ],
   "source": [
    "print('From string punctuation:',type(punctuation),punctuation)\n"
   ]
  },
  {
   "cell_type": "code",
   "execution_count": 14,
   "id": "404177a1-227b-407d-a5b1-49af3f646638",
   "metadata": {},
   "outputs": [
    {
     "name": "stdout",
     "output_type": "stream",
     "text": [
      "{'until', 'hadn', 'over', 'why', \"she's\", 'theirs', 'once', 'am', \"isn't\", 'below', ',', \"shan't\", 'our', 'through', 'both', '\"', '.', 'about', 'isn', 'is', 'are', '~', 'ours', ')', 's', 'weren', 'won', 'll', 'myself', 'a', 'themselves', 'some', 'were', 'they', 'has', \"mustn't\", '*', '<', 'be', ']', 'if', 'other', '%', 'again', 'can', \"that'll\", \"didn't\", 'her', 'i', 'ourselves', \"you're\", 'by', 'but', 'down', 'up', 'don', 'while', \"don't\", 'what', 'between', 'nor', 'own', 'wouldn', 'yourselves', 'wasn', 'herself', \"you'd\", 'had', '_', 'such', 'at', 'then', 'off', 'his', '&', \"aren't\", 'with', \"mightn't\", 'it', 'all', '?', 'them', 'd', 'y', 'will', 'did', 't', '+', 'yours', 'just', 'should', '|', 'was', 'of', 'because', 'mustn', '@', 'have', \"'\", 'few', \"it's\", 'from', 'an', 'needn', '\\\\', 'does', 'there', 'shouldn', 'yourself', 'under', 'on', 'during', 'doing', \"won't\", 'out', \"shouldn't\", 'hasn', 'haven', '-', 'these', \"wouldn't\", 'where', 'didn', '/', '`', 'me', 'against', 'being', 'aren', \"couldn't\", \"doesn't\", '#', 'do', \"wasn't\", 'not', 'o', 'we', 'who', \"you'll\", 'for', '[', 'this', 'so', 'ain', 'couldn', 'those', 're', \"hasn't\", 'or', '!', 'he', 'shan', 'been', 'before', 'whom', 'm', 'now', '}', '$', 'hers', 'and', 'than', 'himself', 'most', 've', 'which', 'having', 'to', 'as', 'doesn', 'no', 'the', 'any', ';', \"you've\", 'above', 'how', 'more', '{', 'its', '=', 'itself', 'ma', \"hadn't\", \"haven't\", 'you', 'your', 'after', \"needn't\", 'too', '^', 'further', '>', 'when', \"weren't\", 'mightn', 'him', 'she', 'here', '(', 'same', 'each', 'my', 'in', 'that', ':', 'their', \"should've\", 'into', 'very', 'only'}\n"
     ]
    }
   ],
   "source": [
    "stopwords_en = set(stopwords_en)\n",
    "stopwords_en_with_punct = stopwords_en.union(set(punctuation))\n",
    "print(stopwords_en_with_punct)"
   ]
  },
  {
   "cell_type": "code",
   "execution_count": 16,
   "id": "87da13be-385f-4b70-8879-5b11779a6a92",
   "metadata": {},
   "outputs": [],
   "source": [
    "word_text2 = word_tokenize(text)"
   ]
  },
  {
   "cell_type": "code",
   "execution_count": 17,
   "id": "24a5a81e-4c69-4a89-928e-fcfaf9f9b3a1",
   "metadata": {},
   "outputs": [
    {
     "data": {
      "text/plain": [
       "['once',\n",
       " 'when',\n",
       " 'king',\n",
       " 'krishnadevaraya',\n",
       " 'had',\n",
       " 'gone',\n",
       " 'to',\n",
       " 'survey',\n",
       " 'the',\n",
       " 'jail',\n",
       " ',',\n",
       " 'two',\n",
       " 'burglars',\n",
       " 'who',\n",
       " 'were',\n",
       " 'prisoners',\n",
       " 'there',\n",
       " ',',\n",
       " 'asked',\n",
       " 'for',\n",
       " 'his',\n",
       " 'mercy',\n",
       " '.',\n",
       " 'they',\n",
       " 'told',\n",
       " 'him',\n",
       " 'that',\n",
       " 'they',\n",
       " 'were',\n",
       " 'experts',\n",
       " 'at',\n",
       " 'burglary',\n",
       " 'and',\n",
       " 'could',\n",
       " 'help',\n",
       " 'the',\n",
       " 'king',\n",
       " 'in',\n",
       " 'catching',\n",
       " 'other',\n",
       " 'thieves.the',\n",
       " 'king',\n",
       " 'being',\n",
       " 'a',\n",
       " 'kind',\n",
       " 'ruler',\n",
       " 'asked',\n",
       " 'his',\n",
       " 'guards',\n",
       " 'to',\n",
       " 'release',\n",
       " 'them',\n",
       " 'but',\n",
       " 'with',\n",
       " 'a',\n",
       " 'condition',\n",
       " '.',\n",
       " 'he',\n",
       " 'told',\n",
       " 'the',\n",
       " 'burglars',\n",
       " 'that',\n",
       " 'he',\n",
       " 'would',\n",
       " 'release',\n",
       " 'them',\n",
       " 'and',\n",
       " 'appoint',\n",
       " 'them',\n",
       " 'as',\n",
       " 'his',\n",
       " 'spies',\n",
       " 'only',\n",
       " 'if',\n",
       " 'they',\n",
       " 'could',\n",
       " 'break',\n",
       " 'into',\n",
       " 'his',\n",
       " 'advisor',\n",
       " 'tenali',\n",
       " 'raman',\n",
       " '’',\n",
       " 's',\n",
       " 'house',\n",
       " 'and',\n",
       " 'steal',\n",
       " 'valuables',\n",
       " 'from',\n",
       " 'there',\n",
       " '.',\n",
       " 'the',\n",
       " 'thieves',\n",
       " 'agreed',\n",
       " 'for',\n",
       " 'the',\n",
       " 'challenge.that',\n",
       " 'same',\n",
       " 'night',\n",
       " 'the',\n",
       " 'two',\n",
       " 'thieves',\n",
       " 'went',\n",
       " 'to',\n",
       " 'tenali',\n",
       " 'raman',\n",
       " '’',\n",
       " 's',\n",
       " 'house',\n",
       " 'and',\n",
       " 'hid',\n",
       " 'behind',\n",
       " 'some',\n",
       " 'bushes',\n",
       " '.',\n",
       " 'after',\n",
       " 'dinner',\n",
       " ',',\n",
       " 'when',\n",
       " 'tenali',\n",
       " 'raman',\n",
       " 'came',\n",
       " 'out',\n",
       " 'for',\n",
       " 'a',\n",
       " 'stroll',\n",
       " ',',\n",
       " 'he',\n",
       " 'heard',\n",
       " 'some',\n",
       " 'rustling',\n",
       " 'in',\n",
       " 'the',\n",
       " 'bushes',\n",
       " '.',\n",
       " 'he',\n",
       " 'at',\n",
       " 'once',\n",
       " 'perceived',\n",
       " 'the',\n",
       " 'existence',\n",
       " 'of',\n",
       " 'thieves',\n",
       " 'in',\n",
       " 'his',\n",
       " 'garden',\n",
       " '.']"
      ]
     },
     "execution_count": 17,
     "metadata": {},
     "output_type": "execute_result"
    }
   ],
   "source": [
    "word_text2"
   ]
  },
  {
   "cell_type": "code",
   "execution_count": 18,
   "id": "f065acf3-8fa5-4a2f-bc98-fd7680ca2d1d",
   "metadata": {},
   "outputs": [],
   "source": [
    "word_text2_filtered = [word for word in word_text2 if word not in stopwords_en_with_punct]"
   ]
  },
  {
   "cell_type": "code",
   "execution_count": 19,
   "id": "465f6b3d-53a1-4364-87f7-94084c953afc",
   "metadata": {},
   "outputs": [
    {
     "name": "stdout",
     "output_type": "stream",
     "text": [
      "king\n",
      "krishnadevaraya\n",
      "gone\n",
      "survey\n",
      "jail\n",
      "two\n",
      "burglar\n",
      "prison\n",
      "ask\n",
      "merci\n",
      "told\n",
      "expert\n",
      "burglari\n",
      "could\n",
      "help\n",
      "king\n",
      "catch\n",
      "thieves.th\n",
      "king\n",
      "kind\n",
      "ruler\n",
      "ask\n",
      "guard\n",
      "releas\n",
      "condit\n",
      "told\n",
      "burglar\n",
      "would\n",
      "releas\n",
      "appoint\n",
      "spi\n",
      "could\n",
      "break\n",
      "advisor\n",
      "tenali\n",
      "raman\n",
      "’\n",
      "hous\n",
      "steal\n",
      "valuabl\n",
      "thiev\n",
      "agre\n",
      "challenge.that\n",
      "night\n",
      "two\n",
      "thiev\n",
      "went\n",
      "tenali\n",
      "raman\n",
      "’\n",
      "hous\n",
      "hid\n",
      "behind\n",
      "bush\n",
      "dinner\n",
      "tenali\n",
      "raman\n",
      "came\n",
      "stroll\n",
      "heard\n",
      "rustl\n",
      "bush\n",
      "perceiv\n",
      "exist\n",
      "thiev\n",
      "garden\n"
     ]
    }
   ],
   "source": [
    "from nltk.stem import PorterStemmer\n",
    "\n",
    "stemmer = PorterStemmer()\n",
    "\n",
    "for word in word_text2_filtered:\n",
    "    print(stemmer.stem(word))"
   ]
  },
  {
   "cell_type": "code",
   "execution_count": 21,
   "id": "70835966-1734-45d5-8fc2-3af519130e13",
   "metadata": {},
   "outputs": [
    {
     "name": "stderr",
     "output_type": "stream",
     "text": [
      "[nltk_data] Downloading package omw-1.4 to\n",
      "[nltk_data]     C:\\Users\\Shivraj\\AppData\\Roaming\\nltk_data...\n"
     ]
    },
    {
     "data": {
      "text/plain": [
       "True"
      ]
     },
     "execution_count": 21,
     "metadata": {},
     "output_type": "execute_result"
    }
   ],
   "source": [
    "import nltk\n",
    "nltk.download('omw-1.4')"
   ]
  },
  {
   "cell_type": "code",
   "execution_count": 22,
   "id": "140e9552-c7bd-4b89-9adc-e81fb57459ea",
   "metadata": {},
   "outputs": [
    {
     "name": "stderr",
     "output_type": "stream",
     "text": [
      "[nltk_data] Downloading package wordnet to\n",
      "[nltk_data]     C:\\Users\\Shivraj\\AppData\\Roaming\\nltk_data...\n",
      "[nltk_data]   Package wordnet is already up-to-date!\n"
     ]
    },
    {
     "name": "stdout",
     "output_type": "stream",
     "text": [
      "king\n",
      "krishnadevaraya\n",
      "gone\n",
      "survey\n",
      "jail\n",
      "two\n",
      "burglar\n",
      "prisoner\n",
      "asked\n",
      "mercy\n",
      "told\n",
      "expert\n",
      "burglary\n",
      "could\n",
      "help\n",
      "king\n",
      "catching\n",
      "thieves.the\n",
      "king\n",
      "kind\n",
      "ruler\n",
      "asked\n",
      "guard\n",
      "release\n",
      "condition\n",
      "told\n",
      "burglar\n",
      "would\n",
      "release\n",
      "appoint\n",
      "spy\n",
      "could\n",
      "break\n",
      "advisor\n",
      "tenali\n",
      "raman\n",
      "’\n",
      "house\n",
      "steal\n",
      "valuable\n",
      "thief\n",
      "agreed\n",
      "challenge.that\n",
      "night\n",
      "two\n",
      "thief\n",
      "went\n",
      "tenali\n",
      "raman\n",
      "’\n",
      "house\n",
      "hid\n",
      "behind\n",
      "bush\n",
      "dinner\n",
      "tenali\n",
      "raman\n",
      "came\n",
      "stroll\n",
      "heard\n",
      "rustling\n",
      "bush\n",
      "perceived\n",
      "existence\n",
      "thief\n",
      "garden\n"
     ]
    }
   ],
   "source": [
    "nltk.download('wordnet')\n",
    "from nltk.stem import WordNetLemmatizer\n",
    "\n",
    "lemmatizer = WordNetLemmatizer()\n",
    "\n",
    "for word in word_text2_filtered:\n",
    "    print(lemmatizer.lemmatize(word))"
   ]
  },
  {
   "cell_type": "code",
   "execution_count": 23,
   "id": "1f18d9f0-15db-410f-a41c-e40e582d0d36",
   "metadata": {},
   "outputs": [
    {
     "name": "stderr",
     "output_type": "stream",
     "text": [
      "[nltk_data] Downloading package averaged_perceptron_tagger to\n",
      "[nltk_data]     C:\\Users\\Shivraj\\AppData\\Roaming\\nltk_data...\n",
      "[nltk_data]   Unzipping taggers\\averaged_perceptron_tagger.zip.\n"
     ]
    },
    {
     "data": {
      "text/plain": [
       "[('king', 'VBG'),\n",
       " ('krishnadevaraya', 'NN'),\n",
       " ('gone', 'VBN'),\n",
       " ('survey', 'NN'),\n",
       " ('jail', 'NN'),\n",
       " ('two', 'CD'),\n",
       " ('burglars', 'NNS'),\n",
       " ('prisoners', 'NNS'),\n",
       " ('asked', 'VBD'),\n",
       " ('mercy', 'NNS'),\n",
       " ('told', 'VBD'),\n",
       " ('experts', 'NNS'),\n",
       " ('burglary', 'NN'),\n",
       " ('could', 'MD'),\n",
       " ('help', 'VB'),\n",
       " ('king', 'VBG'),\n",
       " ('catching', 'VBG'),\n",
       " ('thieves.the', 'JJ'),\n",
       " ('king', 'NN'),\n",
       " ('kind', 'NN'),\n",
       " ('ruler', 'NN'),\n",
       " ('asked', 'VBD'),\n",
       " ('guards', 'NNS'),\n",
       " ('release', 'NN'),\n",
       " ('condition', 'NN'),\n",
       " ('told', 'VBD'),\n",
       " ('burglars', 'NNS'),\n",
       " ('would', 'MD'),\n",
       " ('release', 'VB'),\n",
       " ('appoint', 'NN'),\n",
       " ('spies', 'NNS'),\n",
       " ('could', 'MD'),\n",
       " ('break', 'VB'),\n",
       " ('advisor', 'JJ'),\n",
       " ('tenali', 'JJ'),\n",
       " ('raman', 'NN'),\n",
       " ('’', 'NNP'),\n",
       " ('house', 'NN'),\n",
       " ('steal', 'NN'),\n",
       " ('valuables', 'VBZ'),\n",
       " ('thieves', 'NNS'),\n",
       " ('agreed', 'VBD'),\n",
       " ('challenge.that', 'RB'),\n",
       " ('night', 'NN'),\n",
       " ('two', 'CD'),\n",
       " ('thieves', 'NNS'),\n",
       " ('went', 'VBD'),\n",
       " ('tenali', 'JJ'),\n",
       " ('raman', 'NN'),\n",
       " ('’', 'NNP'),\n",
       " ('house', 'NN'),\n",
       " ('hid', 'NN'),\n",
       " ('behind', 'IN'),\n",
       " ('bushes', 'NNS'),\n",
       " ('dinner', 'VBP'),\n",
       " ('tenali', 'JJ'),\n",
       " ('raman', 'NN'),\n",
       " ('came', 'VBD'),\n",
       " ('stroll', 'RB'),\n",
       " ('heard', 'VBN'),\n",
       " ('rustling', 'VBG'),\n",
       " ('bushes', 'NNS'),\n",
       " ('perceived', 'VBD'),\n",
       " ('existence', 'NN'),\n",
       " ('thieves', 'NNS'),\n",
       " ('garden', 'VBP')]"
      ]
     },
     "execution_count": 23,
     "metadata": {},
     "output_type": "execute_result"
    }
   ],
   "source": [
    "nltk.download('averaged_perceptron_tagger')\n",
    "tagged_text = nltk.pos_tag(word_text2_filtered)\n",
    "tagged_text"
   ]
  },
  {
   "cell_type": "code",
   "execution_count": 25,
   "id": "89f0225d-05f3-4f9b-b460-5e75f9b90254",
   "metadata": {},
   "outputs": [
    {
     "name": "stderr",
     "output_type": "stream",
     "text": [
      "[nltk_data] Downloading package maxent_ne_chunker to\n",
      "[nltk_data]     C:\\Users\\Shivraj\\AppData\\Roaming\\nltk_data...\n",
      "[nltk_data]   Unzipping chunkers\\maxent_ne_chunker.zip.\n"
     ]
    },
    {
     "data": {
      "text/plain": [
       "True"
      ]
     },
     "execution_count": 25,
     "metadata": {},
     "output_type": "execute_result"
    }
   ],
   "source": [
    "import nltk\n",
    "nltk.download('maxent_ne_chunker')"
   ]
  },
  {
   "cell_type": "code",
   "execution_count": 28,
   "id": "35f6abe3-34ab-4255-9783-3e4333232f0c",
   "metadata": {},
   "outputs": [
    {
     "name": "stderr",
     "output_type": "stream",
     "text": [
      "[nltk_data] Downloading package words to\n",
      "[nltk_data]     C:\\Users\\Shivraj\\AppData\\Roaming\\nltk_data...\n",
      "[nltk_data]   Unzipping corpora\\words.zip.\n"
     ]
    },
    {
     "data": {
      "text/plain": [
       "True"
      ]
     },
     "execution_count": 28,
     "metadata": {},
     "output_type": "execute_result"
    }
   ],
   "source": [
    "import nltk\n",
    "nltk.download('words')"
   ]
  },
  {
   "cell_type": "code",
   "execution_count": 29,
   "id": "617d2eac-371d-4937-b0dd-423debec48a9",
   "metadata": {},
   "outputs": [
    {
     "name": "stdout",
     "output_type": "stream",
     "text": [
      "(S\n",
      "  king/VBG\n",
      "  krishnadevaraya/NN\n",
      "  gone/VBN\n",
      "  survey/NN\n",
      "  jail/NN\n",
      "  two/CD\n",
      "  burglars/NNS\n",
      "  prisoners/NNS\n",
      "  asked/VBD\n",
      "  mercy/NNS\n",
      "  told/VBD\n",
      "  experts/NNS\n",
      "  burglary/NN\n",
      "  could/MD\n",
      "  help/VB\n",
      "  king/VBG\n",
      "  catching/VBG\n",
      "  thieves.the/JJ\n",
      "  king/NN\n",
      "  kind/NN\n",
      "  ruler/NN\n",
      "  asked/VBD\n",
      "  guards/NNS\n",
      "  release/NN\n",
      "  condition/NN\n",
      "  told/VBD\n",
      "  burglars/NNS\n",
      "  would/MD\n",
      "  release/VB\n",
      "  appoint/NN\n",
      "  spies/NNS\n",
      "  could/MD\n",
      "  break/VB\n",
      "  advisor/JJ\n",
      "  tenali/JJ\n",
      "  raman/NN\n",
      "  ’/NNP\n",
      "  house/NN\n",
      "  steal/NN\n",
      "  valuables/VBZ\n",
      "  thieves/NNS\n",
      "  agreed/VBD\n",
      "  challenge.that/RB\n",
      "  night/NN\n",
      "  two/CD\n",
      "  thieves/NNS\n",
      "  went/VBD\n",
      "  tenali/JJ\n",
      "  raman/NN\n",
      "  ’/NNP\n",
      "  house/NN\n",
      "  hid/NN\n",
      "  behind/IN\n",
      "  bushes/NNS\n",
      "  dinner/VBP\n",
      "  tenali/JJ\n",
      "  raman/NN\n",
      "  came/VBD\n",
      "  stroll/RB\n",
      "  heard/VBN\n",
      "  rustling/VBG\n",
      "  bushes/NNS\n",
      "  perceived/VBD\n",
      "  existence/NN\n",
      "  thieves/NNS\n",
      "  garden/VBP)\n"
     ]
    }
   ],
   "source": [
    "ne_chunked = nltk.ne_chunk(tagged_text)\n",
    "print(ne_chunked)"
   ]
  },
  {
   "cell_type": "code",
   "execution_count": 30,
   "id": "4d4ef964-d8b4-42c0-ab17-7e7e5efd8a38",
   "metadata": {},
   "outputs": [
    {
     "name": "stdout",
     "output_type": "stream",
     "text": [
      "[]\n"
     ]
    }
   ],
   "source": [
    "named_entities = []\n",
    "\n",
    "for tagged_tree in ne_chunked:\n",
    "    if hasattr(tagged_tree , 'label'):\n",
    "        entity_name =' '.join(c[0] for c in tagged_tree.leaves())\n",
    "        entity_type = tagged_tree.label()\n",
    "        named_entities.append((entity_name,entity_type))\n",
    "\n",
    "\n",
    "print(named_entities)"
   ]
  },
  {
   "cell_type": "code",
   "execution_count": 32,
   "id": "9537c670-61e0-4452-842c-dc86a341e5fd",
   "metadata": {},
   "outputs": [
    {
     "name": "stdout",
     "output_type": "stream",
     "text": [
      "[('Sundar', 'GPE'), ('CEO of Google', 'ORGANIZATION'), ('American', 'GPE')]\n"
     ]
    }
   ],
   "source": [
    "text3 = 'Sundar is the CEO of Google is an American company.'\n",
    "\n",
    "tokenised = nltk.word_tokenize(text3)\n",
    "tagged_text3 = nltk.pos_tag(tokenised)\n",
    "\n",
    "ne_chunked = nltk.ne_chunk(tagged_text3)\n",
    "\n",
    "named_entities = []\n",
    "\n",
    "for tagged_tree in ne_chunked:\n",
    "    if hasattr(tagged_tree , 'label'):\n",
    "        entity_name =' '.join(c[0] for c in tagged_tree.leaves())\n",
    "        entity_type = tagged_tree.label()\n",
    "        named_entities.append((entity_name,entity_type))\n",
    "        \n",
    "print(named_entities)"
   ]
  },
  {
   "cell_type": "code",
   "execution_count": null,
   "id": "522a1631-a730-4286-9e05-4a951df0aae0",
   "metadata": {},
   "outputs": [],
   "source": []
  }
 ],
 "metadata": {
  "kernelspec": {
   "display_name": "Python 3 (ipykernel)",
   "language": "python",
   "name": "python3"
  },
  "language_info": {
   "codemirror_mode": {
    "name": "ipython",
    "version": 3
   },
   "file_extension": ".py",
   "mimetype": "text/x-python",
   "name": "python",
   "nbconvert_exporter": "python",
   "pygments_lexer": "ipython3",
   "version": "3.9.13"
  }
 },
 "nbformat": 4,
 "nbformat_minor": 5
}
